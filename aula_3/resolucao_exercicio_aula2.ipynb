{
 "cells": [
  {
   "cell_type": "code",
   "execution_count": 1,
   "metadata": {},
   "outputs": [],
   "source": [
    "import numpy as np\n",
    "import matplotlib.pyplot as plt\n",
    "\n",
    "from sklearn.linear_model import LinearRegression, Lasso, Ridge\n",
    "\n",
    "from IPython.display import display                               \n",
    "from ipywidgets import interactive\n",
    "\n",
    "%matplotlib inline"
   ]
  },
  {
   "cell_type": "code",
   "execution_count": 2,
   "metadata": {},
   "outputs": [],
   "source": [
    "x = np.array([-2.5,  -2, -1.76,  -1, -0.2, 0.5, 0.8, 1.0, 1.1])\n",
    "y = np.array([4.21, 2.5,  1.4, 1.37, 2.29, 2.4, 3.98, 1.2, 0.99])"
   ]
  },
  {
   "cell_type": "code",
   "execution_count": 3,
   "metadata": {},
   "outputs": [
    {
     "data": {
      "text/plain": [
       "<matplotlib.collections.PathCollection at 0x7ff4467847b8>"
      ]
     },
     "execution_count": 3,
     "metadata": {},
     "output_type": "execute_result"
    },
    {
     "data": {
      "image/png": "[encoded data removed]",
      "text/plain": [
       "<matplotlib.figure.Figure at 0x7ff484671a58>"
      ]
     },
     "metadata": {},
     "output_type": "display_data"
    }
   ],
   "source": [
    "plt.scatter(x, y)"
   ]
  },
  {
   "cell_type": "code",
   "execution_count": 4,
   "metadata": {},
   "outputs": [
    {
     "data": {
      "image/png": "[encoded data removed]",
      "text/plain": [
       "<matplotlib.figure.Figure at 0x7ff446784fd0>"
      ]
     },
     "metadata": {},
     "output_type": "display_data"
    }
   ],
   "source": [
    "def regressao(tipo, grau=1, penalidade=1.0):\n",
    "    if tipo == 'Linear':\n",
    "        regressor = LinearRegression()\n",
    "    elif tipo == 'Lasso':\n",
    "        regressor = Lasso(alpha=penalidade)\n",
    "    else:\n",
    "        regressor = Ridge(alpha=penalidade)\n",
    "    \n",
    "    entradas = (x.reshape(-1, 1) ** (np.arange(grau) + 1))\n",
    "    regressor.fit(entradas, y)\n",
    "    \n",
    "    plt.scatter(x, y)\n",
    "    graphx = np.linspace(x.min(), x.max(), 100)\n",
    "    graphentrada = graphx.reshape(-1, 1) ** (np.arange(grau) + 1)\n",
    "    plt.plot(graphx, regressor.predict(graphentrada), c='r')\n",
    "\n",
    "regressao('Linear', grau=2)"
   ]
  },
  {
   "cell_type": "code",
   "execution_count": 5,
   "metadata": {},
   "outputs": [
    {
     "data": {
      "application/vnd.jupyter.widget-view+json": {
       "model_id": "9ebe6fd76db743fcbde6d503baccc777",
       "version_major": 2,
       "version_minor": 0
      },
      "text/html": [
       "<p>Failed to display Jupyter Widget of type <code>interactive</code>.</p>\n",
       "<p>\n",
       "  If you're reading this message in Jupyter Notebook or JupyterLab, it may mean\n",
       "  that the widgets JavaScript is still loading. If this message persists, it\n",
       "  likely means that the widgets JavaScript library is either not installed or\n",
       "  not enabled. See the <a href=\"https://ipywidgets.readthedocs.io/en/stable/user_install.html\">Jupyter\n",
       "  Widgets Documentation</a> for setup instructions.\n",
       "</p>\n",
       "<p>\n",
       "  If you're reading this message in another notebook frontend (for example, a static\n",
       "  rendering on GitHub or <a href=\"https://nbviewer.jupyter.org/\">NBViewer</a>),\n",
       "  it may mean that your frontend doesn't currently support widgets.\n",
       "</p>\n"
      ],
      "text/plain": [
       "interactive(children=(Dropdown(description='tipo', options=('Linear', 'Lasso', 'Ridge'), value='Linear'), Dropdown(description='grau', options=(1, 2, 3, 4, 5, 6, 7, 8, 9, 10, 11, 12, 13, 14, 15), value=1), FloatSlider(value=1.0, description='penalidade', max=5.0, min=0.1), Output()), _dom_classes=('widget-interact',))"
      ]
     },
     "metadata": {},
     "output_type": "display_data"
    }
   ],
   "source": [
    "inter = interactive(regressao,\n",
    "                    tipo=['Linear', 'Lasso', 'Ridge'],\n",
    "                    grau=np.arange(15) + 1,\n",
    "                    penalidade=(0.1, 5.0))\n",
    "\n",
    "display(inter)"
   ]
  },
  {
   "cell_type": "code",
   "execution_count": 6,
   "metadata": {},
   "outputs": [],
   "source": [
    "from sklearn.datasets import load_wine\n",
    "from sklearn.tree import DecisionTreeClassifier, export_graphviz\n",
    "from sklearn.model_selection import train_test_split\n",
    "from sklearn.metrics import confusion_matrix\n",
    "import graphviz"
   ]
  },
  {
   "cell_type": "code",
   "execution_count": 7,
   "metadata": {},
   "outputs": [],
   "source": [
    "wine = load_wine()\n",
    "w_x = wine.data\n",
    "w_y = wine.target"
   ]
  },
  {
   "cell_type": "code",
   "execution_count": 8,
   "metadata": {},
   "outputs": [
    {
     "data": {
      "image/svg+xml": [
       "<?xml version=\"1.0\" encoding=\"UTF-8\" standalone=\"no\"?>\n",
       "<!DOCTYPE svg PUBLIC \"-//W3C//DTD SVG 1.1//EN\"\n",
       " \"http://www.w3.org/Graphics/SVG/1.1/DTD/svg11.dtd\">\n",
       "<!-- Generated by graphviz version 2.38.0 (20140413.2041)\n",
       " -->\n",
       "<!-- Title: Tree Pages: 1 -->\n",
       "<svg width=\"521pt\" height=\"269pt\"\n",
       " viewBox=\"0.00 0.00 521.00 269.00\" xmlns=\"http://www.w3.org/2000/svg\" xmlns:xlink=\"http://www.w3.org/1999/xlink\">\n",
       "<g id=\"graph0\" class=\"graph\" transform=\"scale(1 1) rotate(0) translate(4 265)\">\n",
       "<title>Tree</title>\n",
       "<polygon fill=\"white\" stroke=\"none\" points=\"-4,4 -4,-265 517,-265 517,4 -4,4\"/>\n",
       "<!-- 0 -->\n",
       "<g id=\"node1\" class=\"node\"><title>0</title>\n",
       "<polygon fill=\"none\" stroke=\"black\" points=\"320.5,-261 194.5,-261 194.5,-193 320.5,-193 320.5,-261\"/>\n",
       "<text text-anchor=\"middle\" x=\"257.5\" y=\"-245.8\" font-family=\"Times,serif\" font-size=\"14.00\">proline &lt;= 875.0</text>\n",
       "<text text-anchor=\"middle\" x=\"257.5\" y=\"-230.8\" font-family=\"Times,serif\" font-size=\"14.00\">gini = 0.662</text>\n",
       "<text text-anchor=\"middle\" x=\"257.5\" y=\"-215.8\" font-family=\"Times,serif\" font-size=\"14.00\">samples = 106</text>\n",
       "<text text-anchor=\"middle\" x=\"257.5\" y=\"-200.8\" font-family=\"Times,serif\" font-size=\"14.00\">value = [33, 41, 32]</text>\n",
       "</g>\n",
       "<!-- 1 -->\n",
       "<g id=\"node2\" class=\"node\"><title>1</title>\n",
       "<polygon fill=\"none\" stroke=\"black\" points=\"241,-157 120,-157 120,-89 241,-89 241,-157\"/>\n",
       "<text text-anchor=\"middle\" x=\"180.5\" y=\"-141.8\" font-family=\"Times,serif\" font-size=\"14.00\">flavanoids &lt;= 0.97</text>\n",
       "<text text-anchor=\"middle\" x=\"180.5\" y=\"-126.8\" font-family=\"Times,serif\" font-size=\"14.00\">gini = 0.545</text>\n",
       "<text text-anchor=\"middle\" x=\"180.5\" y=\"-111.8\" font-family=\"Times,serif\" font-size=\"14.00\">samples = 75</text>\n",
       "<text text-anchor=\"middle\" x=\"180.5\" y=\"-96.8\" font-family=\"Times,serif\" font-size=\"14.00\">value = [4, 39, 32]</text>\n",
       "</g>\n",
       "<!-- 0&#45;&gt;1 -->\n",
       "<g id=\"edge1\" class=\"edge\"><title>0&#45;&gt;1</title>\n",
       "<path fill=\"none\" stroke=\"black\" d=\"M232.5,-192.884C225.911,-184.154 218.717,-174.625 211.839,-165.514\"/>\n",
       "<polygon fill=\"black\" stroke=\"black\" points=\"214.456,-163.172 205.638,-157.299 208.869,-167.389 214.456,-163.172\"/>\n",
       "<text text-anchor=\"middle\" x=\"202.18\" y=\"-178.359\" font-family=\"Times,serif\" font-size=\"14.00\">True</text>\n",
       "</g>\n",
       "<!-- 4 -->\n",
       "<g id=\"node5\" class=\"node\"><title>4</title>\n",
       "<polygon fill=\"none\" stroke=\"black\" points=\"411.5,-157 259.5,-157 259.5,-89 411.5,-89 411.5,-157\"/>\n",
       "<text text-anchor=\"middle\" x=\"335.5\" y=\"-141.8\" font-family=\"Times,serif\" font-size=\"14.00\">color_intensity &lt;= 3.595</text>\n",
       "<text text-anchor=\"middle\" x=\"335.5\" y=\"-126.8\" font-family=\"Times,serif\" font-size=\"14.00\">gini = 0.121</text>\n",
       "<text text-anchor=\"middle\" x=\"335.5\" y=\"-111.8\" font-family=\"Times,serif\" font-size=\"14.00\">samples = 31</text>\n",
       "<text text-anchor=\"middle\" x=\"335.5\" y=\"-96.8\" font-family=\"Times,serif\" font-size=\"14.00\">value = [29, 2, 0]</text>\n",
       "</g>\n",
       "<!-- 0&#45;&gt;4 -->\n",
       "<g id=\"edge4\" class=\"edge\"><title>0&#45;&gt;4</title>\n",
       "<path fill=\"none\" stroke=\"black\" d=\"M282.824,-192.884C289.5,-184.154 296.787,-174.625 303.754,-165.514\"/>\n",
       "<polygon fill=\"black\" stroke=\"black\" points=\"306.742,-167.369 310.036,-157.299 301.181,-163.117 306.742,-167.369\"/>\n",
       "<text text-anchor=\"middle\" x=\"313.34\" y=\"-178.38\" font-family=\"Times,serif\" font-size=\"14.00\">False</text>\n",
       "</g>\n",
       "<!-- 2 -->\n",
       "<g id=\"node3\" class=\"node\"><title>2</title>\n",
       "<polygon fill=\"none\" stroke=\"black\" points=\"113,-53 0,-53 0,-0 113,-0 113,-53\"/>\n",
       "<text text-anchor=\"middle\" x=\"56.5\" y=\"-37.8\" font-family=\"Times,serif\" font-size=\"14.00\">gini = 0.069</text>\n",
       "<text text-anchor=\"middle\" x=\"56.5\" y=\"-22.8\" font-family=\"Times,serif\" font-size=\"14.00\">samples = 28</text>\n",
       "<text text-anchor=\"middle\" x=\"56.5\" y=\"-7.8\" font-family=\"Times,serif\" font-size=\"14.00\">value = [0, 1, 27]</text>\n",
       "</g>\n",
       "<!-- 1&#45;&gt;2 -->\n",
       "<g id=\"edge2\" class=\"edge\"><title>1&#45;&gt;2</title>\n",
       "<path fill=\"none\" stroke=\"black\" d=\"M137.131,-88.9485C124.527,-79.3431 110.791,-68.8747 98.286,-59.345\"/>\n",
       "<polygon fill=\"black\" stroke=\"black\" points=\"100.346,-56.5144 90.2709,-53.2367 96.103,-62.0819 100.346,-56.5144\"/>\n",
       "</g>\n",
       "<!-- 3 -->\n",
       "<g id=\"node4\" class=\"node\"><title>3</title>\n",
       "<polygon fill=\"none\" stroke=\"black\" points=\"244,-53 131,-53 131,-0 244,-0 244,-53\"/>\n",
       "<text text-anchor=\"middle\" x=\"187.5\" y=\"-37.8\" font-family=\"Times,serif\" font-size=\"14.00\">gini = 0.328</text>\n",
       "<text text-anchor=\"middle\" x=\"187.5\" y=\"-22.8\" font-family=\"Times,serif\" font-size=\"14.00\">samples = 47</text>\n",
       "<text text-anchor=\"middle\" x=\"187.5\" y=\"-7.8\" font-family=\"Times,serif\" font-size=\"14.00\">value = [4, 38, 5]</text>\n",
       "</g>\n",
       "<!-- 1&#45;&gt;3 -->\n",
       "<g id=\"edge3\" class=\"edge\"><title>1&#45;&gt;3</title>\n",
       "<path fill=\"none\" stroke=\"black\" d=\"M182.948,-88.9485C183.558,-80.7153 184.215,-71.848 184.835,-63.4814\"/>\n",
       "<polygon fill=\"black\" stroke=\"black\" points=\"188.345,-63.468 185.594,-53.2367 181.364,-62.9508 188.345,-63.468\"/>\n",
       "</g>\n",
       "<!-- 5 -->\n",
       "<g id=\"node6\" class=\"node\"><title>5</title>\n",
       "<polygon fill=\"none\" stroke=\"black\" points=\"381.5,-53 275.5,-53 275.5,-0 381.5,-0 381.5,-53\"/>\n",
       "<text text-anchor=\"middle\" x=\"328.5\" y=\"-37.8\" font-family=\"Times,serif\" font-size=\"14.00\">gini = 0.0</text>\n",
       "<text text-anchor=\"middle\" x=\"328.5\" y=\"-22.8\" font-family=\"Times,serif\" font-size=\"14.00\">samples = 2</text>\n",
       "<text text-anchor=\"middle\" x=\"328.5\" y=\"-7.8\" font-family=\"Times,serif\" font-size=\"14.00\">value = [0, 2, 0]</text>\n",
       "</g>\n",
       "<!-- 4&#45;&gt;5 -->\n",
       "<g id=\"edge5\" class=\"edge\"><title>4&#45;&gt;5</title>\n",
       "<path fill=\"none\" stroke=\"black\" d=\"M333.052,-88.9485C332.442,-80.7153 331.785,-71.848 331.165,-63.4814\"/>\n",
       "<polygon fill=\"black\" stroke=\"black\" points=\"334.636,-62.9508 330.406,-53.2367 327.655,-63.468 334.636,-62.9508\"/>\n",
       "</g>\n",
       "<!-- 6 -->\n",
       "<g id=\"node7\" class=\"node\"><title>6</title>\n",
       "<polygon fill=\"none\" stroke=\"black\" points=\"513,-53 400,-53 400,-0 513,-0 513,-53\"/>\n",
       "<text text-anchor=\"middle\" x=\"456.5\" y=\"-37.8\" font-family=\"Times,serif\" font-size=\"14.00\">gini = 0.0</text>\n",
       "<text text-anchor=\"middle\" x=\"456.5\" y=\"-22.8\" font-family=\"Times,serif\" font-size=\"14.00\">samples = 29</text>\n",
       "<text text-anchor=\"middle\" x=\"456.5\" y=\"-7.8\" font-family=\"Times,serif\" font-size=\"14.00\">value = [29, 0, 0]</text>\n",
       "</g>\n",
       "<!-- 4&#45;&gt;6 -->\n",
       "<g id=\"edge6\" class=\"edge\"><title>4&#45;&gt;6</title>\n",
       "<path fill=\"none\" stroke=\"black\" d=\"M377.82,-88.9485C390.002,-79.4346 403.268,-69.074 415.376,-59.6175\"/>\n",
       "<polygon fill=\"black\" stroke=\"black\" points=\"417.819,-62.1504 423.546,-53.2367 413.511,-56.6335 417.819,-62.1504\"/>\n",
       "</g>\n",
       "</g>\n",
       "</svg>\n"
      ],
      "text/plain": [
       "<graphviz.files.Source at 0x7ff4465d5c18>"
      ]
     },
     "metadata": {},
     "output_type": "display_data"
    },
    {
     "name": "stdout",
     "output_type": "stream",
     "text": [
      "[[21  5  0]\n",
      " [ 0 30  0]\n",
      " [ 1  5 10]]\n"
     ]
    }
   ],
   "source": [
    "parte_teste = 0.4\n",
    "x_treino, x_teste, y_treino, y_teste = train_test_split(w_x, w_y, test_size=parte_teste)\n",
    "\n",
    "def arvore(altura_maxima=4):\n",
    "    clf = DecisionTreeClassifier(max_depth=altura_maxima)\n",
    "    clf.fit(x_treino, y_treino)\n",
    "    \n",
    "    source = graphviz.Source(export_graphviz(clf,\n",
    "                                             out_file=None,\n",
    "                                             feature_names=wine.feature_names))\n",
    "    \n",
    "    display(source)\n",
    "    \n",
    "    print(confusion_matrix(y_pred=clf.predict(x_teste), y_true=y_teste))\n",
    "    \n",
    "arvore(altura_maxima=2)"
   ]
  },
  {
   "cell_type": "code",
   "execution_count": 9,
   "metadata": {},
   "outputs": [
    {
     "data": {
      "application/vnd.jupyter.widget-view+json": {
       "model_id": "d198cf629acf4a298aec41c95173e516",
       "version_major": 2,
       "version_minor": 0
      },
      "text/html": [
       "<p>Failed to display Jupyter Widget of type <code>interactive</code>.</p>\n",
       "<p>\n",
       "  If you're reading this message in Jupyter Notebook or JupyterLab, it may mean\n",
       "  that the widgets JavaScript is still loading. If this message persists, it\n",
       "  likely means that the widgets JavaScript library is either not installed or\n",
       "  not enabled. See the <a href=\"https://ipywidgets.readthedocs.io/en/stable/user_install.html\">Jupyter\n",
       "  Widgets Documentation</a> for setup instructions.\n",
       "</p>\n",
       "<p>\n",
       "  If you're reading this message in another notebook frontend (for example, a static\n",
       "  rendering on GitHub or <a href=\"https://nbviewer.jupyter.org/\">NBViewer</a>),\n",
       "  it may mean that your frontend doesn't currently support widgets.\n",
       "</p>\n"
      ],
      "text/plain": [
       "interactive(children=(Dropdown(description='altura_maxima', index=2, options=(2, 3, 4, 5, 6, 7, 8, 9), value=4), Output()), _dom_classes=('widget-interact',))"
      ]
     },
     "metadata": {},
     "output_type": "display_data"
    }
   ],
   "source": [
    "inter = interactive(arvore,\n",
    "                    altura_maxima=np.arange(8) + 2)\n",
    "display(inter)"
   ]
  },
  {
   "cell_type": "code",
   "execution_count": null,
   "metadata": {},
   "outputs": [],
   "source": []
  }
 ],
 "metadata": {
  "kernelspec": {
   "display_name": "Python 3",
   "language": "python",
   "name": "python3"
  },
  "language_info": {
   "codemirror_mode": {
    "name": "ipython",
    "version": 3
   },
   "file_extension": ".py",
   "mimetype": "text/x-python",
   "name": "python",
   "nbconvert_exporter": "python",
   "pygments_lexer": "ipython3",
   "version": "3.6.4"
  }
 },
 "nbformat": 4,
 "nbformat_minor": 2
}
