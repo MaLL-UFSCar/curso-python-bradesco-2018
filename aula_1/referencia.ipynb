{
 "cells": [
  {
   "cell_type": "markdown",
   "metadata": {
    "colab_type": "text",
    "id": "nrjrWchXWfxF"
   },
   "source": [
    "# Guia básico de referência\n",
    "\n",
    "Sintaxe básica de Python"
   ]
  },
  {
   "cell_type": "markdown",
   "metadata": {
    "colab_type": "text",
    "id": "VgjhcgEJWtfk"
   },
   "source": [
    "## Atribuição de variáveis\n",
    "\n",
    "Variáveis tem seu valor atribuído com o símbolo `=`, substituindo o valor anterior (caso exista). Diferente das incógnitas na matemática, uma variável é **mutável**, podendo mudar de valor com o decorrer do programa.\n",
    "\n",
    "As variáveis podem ser utilizadas em expressões para gerar valores mais complexos, por exemplo uma expressão aritmética.\n",
    "\n",
    "Como é comum em muitas linguagens de programação, nomes de são geralmente escritos por letras, número e _underscores_, sem espaços, e começando com uma letra. Assim, os nomes `x1` e `soma_total` são formas válidas, mas `5x` e `soma total` são inválidos. É incomum em Python utilizar letras maiúsculas, mas o programa aceita.\n",
    "\n",
    "No Jupyter, se a última linha de uma célula é uma variável, seu conteúdo é mostrado após a célula."
   ]
  },
  {
   "cell_type": "code",
   "execution_count": null,
   "metadata": {
    "colab": {
     "autoexec": {
      "startup": false,
      "wait_interval": 0
     },
     "base_uri": "https://localhost:8080/",
     "height": 36
    },
    "colab_type": "code",
    "executionInfo": {
     "elapsed": 666,
     "status": "ok",
     "timestamp": 1530104259504,
     "user": {
      "displayName": "Diorge Brognara",
      "photoUrl": "https://lh3.googleusercontent.com/a/default-user=s128",
      "userId": "102180740426822979922"
     },
     "user_tz": 180
    },
    "id": "Ocpr-BWEXELN",
    "outputId": "e145c10e-2e98-4958-8d5c-607def3970ee"
   },
   "outputs": [],
   "source": [
    "x = 5\n",
    "y = 3\n",
    "z = x + y\n",
    "z"
   ]
  },
  {
   "cell_type": "markdown",
   "metadata": {
    "colab_type": "text",
    "id": "gN3pkHrrXmFg"
   },
   "source": [
    "Os valores armazenados nas variáveis persistem para outras células. Para mostrar o valor de mais de uma variável por celula, é possível utilizar a função `print`, que recebe um número qualquer de argumentos (valores) e mostra todos eles."
   ]
  },
  {
   "cell_type": "code",
   "execution_count": null,
   "metadata": {
    "colab": {
     "autoexec": {
      "startup": false,
      "wait_interval": 0
     },
     "base_uri": "https://localhost:8080/",
     "height": 55
    },
    "colab_type": "code",
    "executionInfo": {
     "elapsed": 605,
     "status": "ok",
     "timestamp": 1530104260709,
     "user": {
      "displayName": "Diorge Brognara",
      "photoUrl": "https://lh3.googleusercontent.com/a/default-user=s128",
      "userId": "102180740426822979922"
     },
     "user_tz": 180
    },
    "id": "jUW7xpQ4XqE6",
    "outputId": "cbd74617-0f3e-4042-d923-f67c0d039f1b"
   },
   "outputs": [],
   "source": [
    "print(x, 2)\n",
    "x = z + 2\n",
    "print(x, y, z)"
   ]
  },
  {
   "cell_type": "markdown",
   "metadata": {
    "colab_type": "text",
    "id": "EhZScfCwX4lw"
   },
   "source": [
    "Todas as expressões aritméticas básicas funcionam como esperado, e também há o símbolo `**` para exponenciação.\n",
    "\n",
    "Uma confusão comum (que é uma diferença para outras linguagens de programação, mesmo para Python 2) é que existem três formas de dividir: utilizando os símbolos `/`, `//` e `%`. Uma única barra faz a divisão convencional, duas barras faz a divisão inteira, e o operador `%` retorna o resto da divisão inteira."
   ]
  },
  {
   "cell_type": "code",
   "execution_count": null,
   "metadata": {
    "colab": {
     "autoexec": {
      "startup": false,
      "wait_interval": 0
     },
     "base_uri": "https://localhost:8080/",
     "height": 55
    },
    "colab_type": "code",
    "executionInfo": {
     "elapsed": 711,
     "status": "ok",
     "timestamp": 1530104262190,
     "user": {
      "displayName": "Diorge Brognara",
      "photoUrl": "https://lh3.googleusercontent.com/a/default-user=s128",
      "userId": "102180740426822979922"
     },
     "user_tz": 180
    },
    "id": "6KT2riBzYR6Q",
    "outputId": "039d28bf-4fd5-4932-9c22-927e311d2d22"
   },
   "outputs": [],
   "source": [
    "print(2 + 3, 5 - 2, 12 * 3, 8 ** 2)\n",
    "print(10 / 3, 10 // 3, 10 % 3)"
   ]
  },
  {
   "cell_type": "markdown",
   "metadata": {
    "colab_type": "text",
    "id": "FxA59LH5ZOCz"
   },
   "source": [
    "## Teste simples\n",
    "\n",
    "Testes simples utilizam as palavras-reservadas `if`, `elif` , `else`. A sintaxe completa é:\n",
    "\n",
    "```\n",
    "if condicao:\n",
    "    codigo1\n",
    "elif condicao2:\n",
    "    codigo2\n",
    "elif condicao3:\n",
    "    codigo3\n",
    "...\n",
    "else:\n",
    "    codigo_final\n",
    "```\n",
    "\n",
    "- Somente o código pertencente à primeira condição verdadeira será executado. Se nenhuma condição for verdadeira, então o código final (`else`) é executado.\n",
    "- Toda a parte de `elif` e `else` são opcionais.\n",
    "- É necessário colocar um espaço antes do código para marcar o que pertence a cada seção, e todas as seções tem que ter o mesmo espaço.\n",
    "- Lembre do \"dois-pontos\" no final da condição."
   ]
  },
  {
   "cell_type": "code",
   "execution_count": null,
   "metadata": {
    "colab": {
     "autoexec": {
      "startup": false,
      "wait_interval": 0
     },
     "base_uri": "https://localhost:8080/",
     "height": 36
    },
    "colab_type": "code",
    "executionInfo": {
     "elapsed": 847,
     "status": "ok",
     "timestamp": 1530104263936,
     "user": {
      "displayName": "Diorge Brognara",
      "photoUrl": "https://lh3.googleusercontent.com/a/default-user=s128",
      "userId": "102180740426822979922"
     },
     "user_tz": 180
    },
    "id": "hrxzF0a8bHxR",
    "outputId": "0299fb9b-f3eb-4e56-a64c-0f30733ca61f"
   },
   "outputs": [],
   "source": [
    "# mostrando dois números ordenadamente\n",
    "# sempre que o símbolo # aparecer, significa que o restante da linha é um comentário\n",
    "# ou seja, esta parte não é código que será executado\n",
    "\n",
    "x0 = 5\n",
    "x1 = -3\n",
    "\n",
    "if x0 > x1:\n",
    "  print(x1, x0)\n",
    "else:\n",
    "  print(x0, x1)"
   ]
  },
  {
   "cell_type": "code",
   "execution_count": null,
   "metadata": {
    "colab": {
     "autoexec": {
      "startup": false,
      "wait_interval": 0
     },
     "base_uri": "https://localhost:8080/",
     "height": 36
    },
    "colab_type": "code",
    "executionInfo": {
     "elapsed": 791,
     "status": "ok",
     "timestamp": 1530104265145,
     "user": {
      "displayName": "Diorge Brognara",
      "photoUrl": "https://lh3.googleusercontent.com/a/default-user=s128",
      "userId": "102180740426822979922"
     },
     "user_tz": 180
    },
    "id": "DvFUZQ-KbXRp",
    "outputId": "a8d3af36-0b59-4303-bf80-afa899a8eec0"
   },
   "outputs": [],
   "source": [
    "# transformando os números em seu valor absoluto\n",
    "x0 = 5\n",
    "x1 = -3\n",
    "\n",
    "if x0 < 0:\n",
    "  x0 = -x0\n",
    "\n",
    "if x1 < 0:\n",
    "  x1 = -x1\n",
    "\n",
    "print(x0, x1)"
   ]
  },
  {
   "cell_type": "markdown",
   "metadata": {
    "colab_type": "text",
    "id": "xwENKyQfcbEE"
   },
   "source": [
    "Para montar condições numéricas, geralmente utiliza-se os símbolos de comparação:\n",
    "\n",
    "- `>` e `<` para maior-que e menor-que\n",
    "- `>=` e `<=` para maior-ou-igual e menor-ou-igual\n",
    "- `==` para igualdade\n",
    "- `!=` para diferentes\n",
    "\n",
    "É possível escrever múltiplas condições utilizando correntes (uma variável sendo comparada simultaneamente a dois valores) ou os operadores lógicos `not`, `and`, `or`."
   ]
  },
  {
   "cell_type": "code",
   "execution_count": null,
   "metadata": {
    "colab": {
     "autoexec": {
      "startup": false,
      "wait_interval": 0
     },
     "base_uri": "https://localhost:8080/",
     "height": 36
    },
    "colab_type": "code",
    "executionInfo": {
     "elapsed": 623,
     "status": "ok",
     "timestamp": 1530104266181,
     "user": {
      "displayName": "Diorge Brognara",
      "photoUrl": "https://lh3.googleusercontent.com/a/default-user=s128",
      "userId": "102180740426822979922"
     },
     "user_tz": 180
    },
    "id": "-4cSk6WYdBWp",
    "outputId": "31fe4682-abdc-44da-eab8-021316fb8562"
   },
   "outputs": [],
   "source": [
    "# calculando o conceito de uma nota utilizando correntes\n",
    "# a nota varia de 0 a 100\n",
    "# aqui é utilizado as strings, mas não é importante por enquanto\n",
    "\n",
    "nota = 77\n",
    "\n",
    "if nota == 100:\n",
    "  conceito = 'A'\n",
    "elif 90 <= nota < 100:\n",
    "  conceito = 'B'\n",
    "elif 75 <= nota < 90:\n",
    "  conceito = 'C'\n",
    "elif 50 <= nota < 75:\n",
    "  conceito = 'D'\n",
    "else:\n",
    "  conceito = 'F'\n",
    "\n",
    "print(conceito)"
   ]
  },
  {
   "cell_type": "code",
   "execution_count": null,
   "metadata": {
    "colab": {
     "autoexec": {
      "startup": false,
      "wait_interval": 0
     },
     "base_uri": "https://localhost:8080/",
     "height": 36
    },
    "colab_type": "code",
    "executionInfo": {
     "elapsed": 590,
     "status": "ok",
     "timestamp": 1530104267191,
     "user": {
      "displayName": "Diorge Brognara",
      "photoUrl": "https://lh3.googleusercontent.com/a/default-user=s128",
      "userId": "102180740426822979922"
     },
     "user_tz": 180
    },
    "id": "H_99dVGodgMK",
    "outputId": "55c31804-2bdc-44cb-b3c3-9195e8f610d3"
   },
   "outputs": [],
   "source": [
    "# equivalente ao de cima, sem utilizar correntes\n",
    "\n",
    "nota = 92\n",
    "\n",
    "if nota == 100:\n",
    "  conceito = 'A'\n",
    "elif 90 <= nota and nota < 100:\n",
    "  conceito = 'B'\n",
    "elif 75 <= nota and nota < 90:\n",
    "  conceito = 'C'\n",
    "elif 50 <= nota and nota < 75:\n",
    "  conceito = 'D'\n",
    "else:\n",
    "  conceito = 'F'\n",
    "\n",
    "print(conceito)"
   ]
  },
  {
   "cell_type": "markdown",
   "metadata": {
    "colab_type": "text",
    "id": "Ws8eSoFjenYa"
   },
   "source": [
    "## Listas, iteração e slicing (índices)\n",
    "\n",
    "É possível criar uma lista de valores utilizando a sintaxe `[item1, item2, item3]`. Similarmente a números (e praticamente qualquer outro tipo de objeto), é possível guardar as listas em variáveis para utilizar seu valor posteriormente. Listas também podem ser passadas para a função `print` ou colocadas na última linha de uma célula."
   ]
  },
  {
   "cell_type": "code",
   "execution_count": null,
   "metadata": {
    "colab": {
     "autoexec": {
      "startup": false,
      "wait_interval": 0
     },
     "base_uri": "https://localhost:8080/",
     "height": 36
    },
    "colab_type": "code",
    "executionInfo": {
     "elapsed": 561,
     "status": "ok",
     "timestamp": 1530104268309,
     "user": {
      "displayName": "Diorge Brognara",
      "photoUrl": "https://lh3.googleusercontent.com/a/default-user=s128",
      "userId": "102180740426822979922"
     },
     "user_tz": 180
    },
    "id": "pDJj5RQBe7_7",
    "outputId": "9fbea2af-9bf0-49da-c62e-0d05af1377b5"
   },
   "outputs": [],
   "source": [
    "v = [5, 2, nota, 30, -3, 50]\n",
    "v"
   ]
  },
  {
   "cell_type": "markdown",
   "metadata": {
    "colab_type": "text",
    "id": "1AZwT1pBfEji"
   },
   "source": [
    "Podemos iterar (ou seja, olhar para todos os itens) de uma lista utilizando o comando `for .. in ..`, dando um nome para a variável que receberá os itens no primeiro `..` e a lista que será iterada no segundo."
   ]
  },
  {
   "cell_type": "code",
   "execution_count": null,
   "metadata": {
    "colab": {
     "autoexec": {
      "startup": false,
      "wait_interval": 0
     },
     "base_uri": "https://localhost:8080/",
     "height": 130
    },
    "colab_type": "code",
    "executionInfo": {
     "elapsed": 585,
     "status": "ok",
     "timestamp": 1530104269373,
     "user": {
      "displayName": "Diorge Brognara",
      "photoUrl": "https://lh3.googleusercontent.com/a/default-user=s128",
      "userId": "102180740426822979922"
     },
     "user_tz": 180
    },
    "id": "Bw6GNp2sfNfF",
    "outputId": "ea38d0a1-c4b3-47a3-e4fb-357dceeb1eed"
   },
   "outputs": [],
   "source": [
    "for item_da_lista in v:\n",
    "  print(item_da_lista)"
   ]
  },
  {
   "cell_type": "markdown",
   "metadata": {
    "colab_type": "text",
    "id": "VEpjgMbJf3ya"
   },
   "source": [
    "É possível acessar partes da lista utilizando o operador de índice, `[ ]`. Para utilizar esse operador, colocamos a lista antes de abrir o colchete, e dentro dos colchetes fica o índice que será acessado. Perceba que o índice do primeiro elemento é 0 e não 1."
   ]
  },
  {
   "cell_type": "code",
   "execution_count": null,
   "metadata": {
    "colab": {
     "autoexec": {
      "startup": false,
      "wait_interval": 0
     },
     "base_uri": "https://localhost:8080/",
     "height": 74
    },
    "colab_type": "code",
    "executionInfo": {
     "elapsed": 649,
     "status": "ok",
     "timestamp": 1530104270647,
     "user": {
      "displayName": "Diorge Brognara",
      "photoUrl": "https://lh3.googleusercontent.com/a/default-user=s128",
      "userId": "102180740426822979922"
     },
     "user_tz": 180
    },
    "id": "aIx1Oc88fd0T",
    "outputId": "e157cd51-3d83-4971-8740-88cb1f339e6f"
   },
   "outputs": [],
   "source": [
    "print(v[0])\n",
    "print(v[1])\n",
    "print(v[2])"
   ]
  },
  {
   "cell_type": "markdown",
   "metadata": {
    "colab_type": "text",
    "id": "IKTH8KTkg0n9"
   },
   "source": [
    "Quando o índice é negativo, ele é contado a partir do final da lista."
   ]
  },
  {
   "cell_type": "code",
   "execution_count": null,
   "metadata": {
    "colab": {
     "autoexec": {
      "startup": false,
      "wait_interval": 0
     },
     "base_uri": "https://localhost:8080/",
     "height": 55
    },
    "colab_type": "code",
    "executionInfo": {
     "elapsed": 616,
     "status": "ok",
     "timestamp": 1530104271770,
     "user": {
      "displayName": "Diorge Brognara",
      "photoUrl": "https://lh3.googleusercontent.com/a/default-user=s128",
      "userId": "102180740426822979922"
     },
     "user_tz": 180
    },
    "id": "S8_tK0fWgzWL",
    "outputId": "409ac629-228f-413c-b731-92d427c2ba0c"
   },
   "outputs": [],
   "source": [
    "print(v[-1])\n",
    "print(v[-2])"
   ]
  },
  {
   "cell_type": "markdown",
   "metadata": {
    "colab_type": "text",
    "id": "22mNjlH-g7JW"
   },
   "source": [
    "É possível colocar intervalos a serem acessados utilizando a sintaxe `[início : fim : passo]`. O passo é opcional e raramente utilizado. O índice de início é inclusivo e o índice final é exclusivo, significando que o acesso `[2 : 4]` acessa os itens 2 e 3, mas não o 4.\n",
    "\n",
    "Quando o índice de início é omitido, ele é considerado zero (primeiro item em diante). Quando o índice de fim é omitido, é assumido ir até o fim da lista."
   ]
  },
  {
   "cell_type": "code",
   "execution_count": null,
   "metadata": {
    "colab": {
     "autoexec": {
      "startup": false,
      "wait_interval": 0
     },
     "base_uri": "https://localhost:8080/",
     "height": 111
    },
    "colab_type": "code",
    "executionInfo": {
     "elapsed": 566,
     "status": "ok",
     "timestamp": 1530104272718,
     "user": {
      "displayName": "Diorge Brognara",
      "photoUrl": "https://lh3.googleusercontent.com/a/default-user=s128",
      "userId": "102180740426822979922"
     },
     "user_tz": 180
    },
    "id": "E3azPJZEg5SV",
    "outputId": "ef574098-b01e-40de-d472-076413ee4ae5"
   },
   "outputs": [],
   "source": [
    "print(v[2:4])\n",
    "print(v[:3])\n",
    "print(v[2:])\n",
    "\n",
    "print(v[::2])\n",
    "print(v[1::2])"
   ]
  },
  {
   "cell_type": "markdown",
   "metadata": {
    "colab_type": "text",
    "id": "Q4yGn-rRJ_aT"
   },
   "source": [
    "Uma tática comum é utilizar um passo de -1 para inverter uma lista."
   ]
  },
  {
   "cell_type": "code",
   "execution_count": null,
   "metadata": {
    "colab": {
     "autoexec": {
      "startup": false,
      "wait_interval": 0
     },
     "base_uri": "https://localhost:8080/",
     "height": 36
    },
    "colab_type": "code",
    "executionInfo": {
     "elapsed": 585,
     "status": "ok",
     "timestamp": 1530104273685,
     "user": {
      "displayName": "Diorge Brognara",
      "photoUrl": "https://lh3.googleusercontent.com/a/default-user=s128",
      "userId": "102180740426822979922"
     },
     "user_tz": 180
    },
    "id": "6PfKhywpKFBM",
    "outputId": "036f80b4-92bb-4bca-a3a9-4bade8a0dd25"
   },
   "outputs": [],
   "source": [
    "v[::-1]"
   ]
  },
  {
   "cell_type": "markdown",
   "metadata": {
    "colab_type": "text",
    "id": "G0yPzPkkKZl5"
   },
   "source": [
    "Um procedimento similar pode ser usado para separar os últimos N itens da lista."
   ]
  },
  {
   "cell_type": "code",
   "execution_count": null,
   "metadata": {
    "colab": {
     "autoexec": {
      "startup": false,
      "wait_interval": 0
     },
     "base_uri": "https://localhost:8080/",
     "height": 36
    },
    "colab_type": "code",
    "executionInfo": {
     "elapsed": 571,
     "status": "ok",
     "timestamp": 1530104275277,
     "user": {
      "displayName": "Diorge Brognara",
      "photoUrl": "https://lh3.googleusercontent.com/a/default-user=s128",
      "userId": "102180740426822979922"
     },
     "user_tz": 180
    },
    "id": "9hbX4fgYKNUn",
    "outputId": "dd0c5d47-87b4-4ee7-b086-a504aeb7e177"
   },
   "outputs": [],
   "source": [
    "v[:-4:-1]"
   ]
  },
  {
   "cell_type": "code",
   "execution_count": null,
   "metadata": {
    "colab": {
     "autoexec": {
      "startup": false,
      "wait_interval": 0
     },
     "base_uri": "https://localhost:8080/",
     "height": 36
    },
    "colab_type": "code",
    "executionInfo": {
     "elapsed": 557,
     "status": "ok",
     "timestamp": 1530104276032,
     "user": {
      "displayName": "Diorge Brognara",
      "photoUrl": "https://lh3.googleusercontent.com/a/default-user=s128",
      "userId": "102180740426822979922"
     },
     "user_tz": 180
    },
    "id": "DLsls_ruhzJ0",
    "outputId": "eae33343-dc0d-4edd-c134-c591fdcf244c"
   },
   "outputs": [],
   "source": [
    "# Calculando o menor valor da lista\n",
    "\n",
    "menor_valor_ate_agora = v[0]\n",
    "\n",
    "for valor_atual in v[1:]:\n",
    "  if valor_atual < menor_valor_ate_agora:\n",
    "    menor_valor_ate_agora = valor_atual\n",
    "\n",
    "print(menor_valor_ate_agora)"
   ]
  },
  {
   "cell_type": "markdown",
   "metadata": {
    "colab_type": "text",
    "id": "KlSgZSeNOSLI"
   },
   "source": [
    "A função `len` é utilizada para saber o tamanho de uma lista.\n",
    "\n",
    "A função `range` é utilizada para fazer um iterador com os elementos de um intervalo (um iterador parece com uma lista, mas não pode ser modificado). Podemos utilizar a função `list` para converter um iterador para uma lista.\n",
    "\n",
    "Note que a função `range` é bem similar a como funciona os índices de uma lista quando é feito o slice."
   ]
  },
  {
   "cell_type": "code",
   "execution_count": null,
   "metadata": {
    "colab": {
     "autoexec": {
      "startup": false,
      "wait_interval": 0
     },
     "base_uri": "https://localhost:8080/",
     "height": 36
    },
    "colab_type": "code",
    "executionInfo": {
     "elapsed": 768,
     "status": "ok",
     "timestamp": 1530104277077,
     "user": {
      "displayName": "Diorge Brognara",
      "photoUrl": "https://lh3.googleusercontent.com/a/default-user=s128",
      "userId": "102180740426822979922"
     },
     "user_tz": 180
    },
    "id": "ZT2XJ8HnOi7r",
    "outputId": "5698dd26-2f34-4e24-c992-99173f5e24e5"
   },
   "outputs": [],
   "source": [
    "v = [5, 1, 8, 5]\n",
    "len(v)"
   ]
  },
  {
   "cell_type": "code",
   "execution_count": null,
   "metadata": {
    "colab": {
     "autoexec": {
      "startup": false,
      "wait_interval": 0
     },
     "base_uri": "https://localhost:8080/",
     "height": 36
    },
    "colab_type": "code",
    "executionInfo": {
     "elapsed": 693,
     "status": "ok",
     "timestamp": 1530104278031,
     "user": {
      "displayName": "Diorge Brognara",
      "photoUrl": "https://lh3.googleusercontent.com/a/default-user=s128",
      "userId": "102180740426822979922"
     },
     "user_tz": 180
    },
    "id": "S6A9UEuOOmwq",
    "outputId": "d001b669-64d1-49e4-d630-a0d9e42c5336"
   },
   "outputs": [],
   "source": [
    "list(range(4))"
   ]
  },
  {
   "cell_type": "code",
   "execution_count": null,
   "metadata": {
    "colab": {
     "autoexec": {
      "startup": false,
      "wait_interval": 0
     },
     "base_uri": "https://localhost:8080/",
     "height": 36
    },
    "colab_type": "code",
    "executionInfo": {
     "elapsed": 630,
     "status": "ok",
     "timestamp": 1530104279051,
     "user": {
      "displayName": "Diorge Brognara",
      "photoUrl": "https://lh3.googleusercontent.com/a/default-user=s128",
      "userId": "102180740426822979922"
     },
     "user_tz": 180
    },
    "id": "kEJuFndOO_0e",
    "outputId": "8a0249bd-fca1-4096-b149-2a63846bcd20"
   },
   "outputs": [],
   "source": [
    "list(range(3, 7))"
   ]
  },
  {
   "cell_type": "markdown",
   "metadata": {
    "colab_type": "text",
    "id": "4HLiqGEXO07F"
   },
   "source": [
    "Note que `range(len(uma_lista))` retorna todos os índices da lista `uma_lista`, em ordem, e é comumente utilizado para iterar listas quando se precisa modificá-la."
   ]
  },
  {
   "cell_type": "code",
   "execution_count": null,
   "metadata": {
    "colab": {
     "autoexec": {
      "startup": false,
      "wait_interval": 0
     },
     "base_uri": "https://localhost:8080/",
     "height": 55
    },
    "colab_type": "code",
    "executionInfo": {
     "elapsed": 630,
     "status": "ok",
     "timestamp": 1530104280124,
     "user": {
      "displayName": "Diorge Brognara",
      "photoUrl": "https://lh3.googleusercontent.com/a/default-user=s128",
      "userId": "102180740426822979922"
     },
     "user_tz": 180
    },
    "id": "R_763KpsN_Ok",
    "outputId": "b7bbdfe0-18ef-49ee-c354-dc6df9c046b1"
   },
   "outputs": [],
   "source": [
    "v = [5, 1, 8, 5]\n",
    "\n",
    "v[2] = 7\n",
    "print(v)\n",
    "\n",
    "for i in range(len(v)):\n",
    "  v[i] = v[i] + 1\n",
    "  \n",
    "print(v)"
   ]
  },
  {
   "cell_type": "markdown",
   "metadata": {
    "colab_type": "text",
    "id": "Mo4FYCp4UTxd"
   },
   "source": [
    "Também é possível alterar intervalos de uma lista através do slice."
   ]
  },
  {
   "cell_type": "code",
   "execution_count": null,
   "metadata": {
    "colab": {
     "autoexec": {
      "startup": false,
      "wait_interval": 0
     },
     "base_uri": "https://localhost:8080/",
     "height": 36
    },
    "colab_type": "code",
    "executionInfo": {
     "elapsed": 585,
     "status": "ok",
     "timestamp": 1530104281120,
     "user": {
      "displayName": "Diorge Brognara",
      "photoUrl": "https://lh3.googleusercontent.com/a/default-user=s128",
      "userId": "102180740426822979922"
     },
     "user_tz": 180
    },
    "id": "EeFbIh4oUYiJ",
    "outputId": "0120bbfc-7308-457e-eb75-cc41588ecd0a"
   },
   "outputs": [],
   "source": [
    "v[:2] = [9, 8]\n",
    "v"
   ]
  },
  {
   "cell_type": "markdown",
   "metadata": {
    "colab_type": "text",
    "id": "Urij7h1qNtU3"
   },
   "source": [
    "## Tuplas\n",
    "\n",
    "Tuplas são similares às listas, com a diferença que seu conteúdo não pode ser modificado. Geralmente são usadas para \"empacotar\" diversos valores em um único valor. Em vez dos símbolos `[ ]`, tuplas são criadas com parêntesis `( )`."
   ]
  },
  {
   "cell_type": "code",
   "execution_count": null,
   "metadata": {
    "colab": {
     "autoexec": {
      "startup": false,
      "wait_interval": 0
     },
     "base_uri": "https://localhost:8080/",
     "height": 36
    },
    "colab_type": "code",
    "executionInfo": {
     "elapsed": 585,
     "status": "ok",
     "timestamp": 1530104281987,
     "user": {
      "displayName": "Diorge Brognara",
      "photoUrl": "https://lh3.googleusercontent.com/a/default-user=s128",
      "userId": "102180740426822979922"
     },
     "user_tz": 180
    },
    "id": "eUwu_pk-NsWI",
    "outputId": "d199248a-b127-47d4-fc65-9b379e5c90dd"
   },
   "outputs": [],
   "source": [
    "t = (5, 2, 3)\n",
    "t"
   ]
  },
  {
   "cell_type": "code",
   "execution_count": null,
   "metadata": {
    "colab": {
     "autoexec": {
      "startup": false,
      "wait_interval": 0
     },
     "base_uri": "https://localhost:8080/",
     "height": 36
    },
    "colab_type": "code",
    "executionInfo": {
     "elapsed": 588,
     "status": "ok",
     "timestamp": 1530104282836,
     "user": {
      "displayName": "Diorge Brognara",
      "photoUrl": "https://lh3.googleusercontent.com/a/default-user=s128",
      "userId": "102180740426822979922"
     },
     "user_tz": 180
    },
    "id": "l8O1opumQLef",
    "outputId": "890f3eda-5246-4142-be04-d3691afe90c7"
   },
   "outputs": [],
   "source": [
    "t[1]"
   ]
  },
  {
   "cell_type": "code",
   "execution_count": null,
   "metadata": {
    "colab": {
     "autoexec": {
      "startup": false,
      "wait_interval": 0
     },
     "base_uri": "https://localhost:8080/",
     "height": 176
    },
    "colab_type": "code",
    "executionInfo": {
     "elapsed": 729,
     "status": "error",
     "timestamp": 1530104284037,
     "user": {
      "displayName": "Diorge Brognara",
      "photoUrl": "https://lh3.googleusercontent.com/a/default-user=s128",
      "userId": "102180740426822979922"
     },
     "user_tz": 180
    },
    "id": "DUOGli6rQR1i",
    "outputId": "4d78de4f-620d-4a3e-ea2d-3364cd25af0c"
   },
   "outputs": [],
   "source": [
    "t[1] = 4"
   ]
  },
  {
   "cell_type": "markdown",
   "metadata": {
    "colab_type": "text",
    "id": "_KJnsA6wi029"
   },
   "source": [
    "## Funções\n",
    "\n",
    "Funções são blocos definidos para fazer alguma operação em específico. São definidas em uma interface genérica, através da passagem de **parâmetros**, permitindo maior flexibilidade para o usuário da função. Já utilizamos uma função anteriormente, `print`, que não tem retorno mas sim toma alguma ação. Outras funções comumente retornam algum tipo de valor.\n",
    "\n",
    "Utilizaremos algumas funções do pacote padrão `math`, mas para isso primeiro precisamos importar o pacote."
   ]
  },
  {
   "cell_type": "code",
   "execution_count": null,
   "metadata": {
    "colab": {
     "autoexec": {
      "startup": false,
      "wait_interval": 0
     },
     "base_uri": "https://localhost:8080/",
     "height": 0
    },
    "colab_type": "code",
    "executionInfo": {
     "elapsed": 543,
     "status": "ok",
     "timestamp": 1529498330906,
     "user": {
      "displayName": "Diorge Brognara",
      "photoUrl": "https://lh3.googleusercontent.com/a/default-user=s128",
      "userId": "102180740426822979922"
     },
     "user_tz": 180
    },
    "id": "PrROVtuijYHC",
    "outputId": "6c616e4d-bb9d-4251-8e5e-8d1226d9d9d5"
   },
   "outputs": [],
   "source": [
    "import math"
   ]
  },
  {
   "cell_type": "code",
   "execution_count": null,
   "metadata": {
    "colab": {
     "autoexec": {
      "startup": false,
      "wait_interval": 0
     },
     "base_uri": "https://localhost:8080/",
     "height": 36
    },
    "colab_type": "code",
    "executionInfo": {
     "elapsed": 582,
     "status": "ok",
     "timestamp": 1529498331828,
     "user": {
      "displayName": "Diorge Brognara",
      "photoUrl": "https://lh3.googleusercontent.com/a/default-user=s128",
      "userId": "102180740426822979922"
     },
     "user_tz": 180
    },
    "id": "kxPjtacTjZLx",
    "outputId": "7031b76c-b77a-4da1-f6a2-ce7a314c4136"
   },
   "outputs": [],
   "source": [
    "# função de raíz quadrada\n",
    "# nesse caso, passamos o valor 2 como parâmetro da função\n",
    "# essa função retorna um valor, que pode ser colocado em uma variável\n",
    "# ou utilizado em uma comparação ou como parâmetro para outra função\n",
    "math.sqrt(2)"
   ]
  },
  {
   "cell_type": "code",
   "execution_count": null,
   "metadata": {
    "colab": {
     "autoexec": {
      "startup": false,
      "wait_interval": 0
     },
     "base_uri": "https://localhost:8080/",
     "height": 36
    },
    "colab_type": "code",
    "executionInfo": {
     "elapsed": 579,
     "status": "ok",
     "timestamp": 1529498332663,
     "user": {
      "displayName": "Diorge Brognara",
      "photoUrl": "https://lh3.googleusercontent.com/a/default-user=s128",
      "userId": "102180740426822979922"
     },
     "user_tz": 180
    },
    "id": "OdAreKQ3jm5S",
    "outputId": "0e9a6391-fcef-4aa7-8bf0-5c969d999820"
   },
   "outputs": [],
   "source": [
    "y = math.sqrt(2)\n",
    "print(y, y ** 2, math.sqrt(9))"
   ]
  },
  {
   "cell_type": "markdown",
   "metadata": {
    "colab_type": "text",
    "id": "X7tqSEd3kl9F"
   },
   "source": [
    "A propósito, existe uma variedade muito grande de funções padrão (chamadas de \"built-ins\"), ou implementadas em um pacote padrão como o `math`."
   ]
  },
  {
   "cell_type": "code",
   "execution_count": null,
   "metadata": {
    "colab": {
     "autoexec": {
      "startup": false,
      "wait_interval": 0
     },
     "base_uri": "https://localhost:8080/",
     "height": 36
    },
    "colab_type": "code",
    "executionInfo": {
     "elapsed": 573,
     "status": "ok",
     "timestamp": 1529498333461,
     "user": {
      "displayName": "Diorge Brognara",
      "photoUrl": "https://lh3.googleusercontent.com/a/default-user=s128",
      "userId": "102180740426822979922"
     },
     "user_tz": 180
    },
    "id": "YY-JtwLskslO",
    "outputId": "e38ca46d-0f47-46b8-9b10-6261f94c383b"
   },
   "outputs": [],
   "source": [
    "# bem mais simples que nosso exemplo anterior para achar o valor mínimo! :)\n",
    "min(v)"
   ]
  },
  {
   "cell_type": "markdown",
   "metadata": {
    "colab_type": "text",
    "id": "qLb-db_Uk613"
   },
   "source": [
    "### Definindo novas funções\n",
    "\n",
    "É possível criar nossas próprias funções através da sintaxe:\n",
    "\n",
    "```\n",
    "def nome_funcao(parametro1, parametro2, ...):\n",
    "   codigo\n",
    "   # opcionalmente:\n",
    "   return valor_retorno\n",
    "```\n",
    "\n"
   ]
  },
  {
   "cell_type": "code",
   "execution_count": null,
   "metadata": {
    "colab": {
     "autoexec": {
      "startup": false,
      "wait_interval": 0
     },
     "base_uri": "https://localhost:8080/",
     "height": 36
    },
    "colab_type": "code",
    "executionInfo": {
     "elapsed": 582,
     "status": "ok",
     "timestamp": 1529498334398,
     "user": {
      "displayName": "Diorge Brognara",
      "photoUrl": "https://lh3.googleusercontent.com/a/default-user=s128",
      "userId": "102180740426822979922"
     },
     "user_tz": 180
    },
    "id": "_oygmqKvkv1W",
    "outputId": "d652ce6b-8661-4e5a-a69f-74a52b9375fd"
   },
   "outputs": [],
   "source": [
    "def soma(valor1, valor2):\n",
    "  return valor1 + valor2\n",
    "\n",
    "soma(5, 12)"
   ]
  },
  {
   "cell_type": "markdown",
   "metadata": {
    "colab_type": "text",
    "id": "-DZdkTZxQXAz"
   },
   "source": [
    "Note que há uma diferença entre tuplas e parâmetros passados para funções. É possível que uma função receba uma tupla, mas é necessário um segundo conjunto de parêntesis."
   ]
  },
  {
   "cell_type": "code",
   "execution_count": null,
   "metadata": {
    "colab": {
     "autoexec": {
      "startup": false,
      "wait_interval": 0
     },
     "base_uri": "https://localhost:8080/",
     "height": 36
    },
    "colab_type": "code",
    "executionInfo": {
     "elapsed": 627,
     "status": "ok",
     "timestamp": 1529499239132,
     "user": {
      "displayName": "Diorge Brognara",
      "photoUrl": "https://lh3.googleusercontent.com/a/default-user=s128",
      "userId": "102180740426822979922"
     },
     "user_tz": 180
    },
    "id": "4YtUqazGlm69",
    "outputId": "0cefbe82-5d08-400d-b2f6-f8be5520adc0"
   },
   "outputs": [],
   "source": [
    "def mostra_tupla(t):\n",
    "  print(t)\n",
    "  \n",
    "mostra_tupla((3, 5))"
   ]
  },
  {
   "cell_type": "code",
   "execution_count": null,
   "metadata": {
    "colab": {
     "autoexec": {
      "startup": false,
      "wait_interval": 0
     },
     "base_uri": "https://localhost:8080/",
     "height": 176
    },
    "colab_type": "code",
    "executionInfo": {
     "elapsed": 880,
     "status": "error",
     "timestamp": 1529499244066,
     "user": {
      "displayName": "Diorge Brognara",
      "photoUrl": "https://lh3.googleusercontent.com/a/default-user=s128",
      "userId": "102180740426822979922"
     },
     "user_tz": 180
    },
    "id": "WJ9FVTl3Qj-q",
    "outputId": "86d4db2b-aa89-498f-e5cf-5b5224012026"
   },
   "outputs": [],
   "source": [
    "mostra_tupla(3, 5)"
   ]
  }
 ],
 "metadata": {
  "colab": {
   "collapsed_sections": [],
   "default_view": {},
   "name": "referencia.ipynb",
   "provenance": [],
   "version": "0.3.2",
   "views": {}
  },
  "kernelspec": {
   "display_name": "Python 3",
   "language": "python",
   "name": "python3"
  },
  "language_info": {
   "codemirror_mode": {
    "name": "ipython",
    "version": 3
   },
   "file_extension": ".py",
   "mimetype": "text/x-python",
   "name": "python",
   "nbconvert_exporter": "python",
   "pygments_lexer": "ipython3",
   "version": "3.6.4"
  }
 },
 "nbformat": 4,
 "nbformat_minor": 1
}
