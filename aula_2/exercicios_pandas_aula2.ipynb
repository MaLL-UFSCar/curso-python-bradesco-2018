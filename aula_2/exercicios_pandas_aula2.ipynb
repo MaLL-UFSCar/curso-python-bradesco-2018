{
 "cells": [
  {
   "cell_type": "markdown",
   "metadata": {
    "colab_type": "text",
    "id": "Ey9im6-sczJf"
   },
   "source": [
    "**Exercício 1**: Crie um `DataFrame` com 20 linhas e 3 colunas, onde\n",
    "\n",
    "- uma coluna \"x\" possui números reais aleatórios entre 1 e 10\n",
    "- uma coluna \"y\" possui os inteiros entre 0 e 19, em ordem\n",
    "- uma coluna \"z\" categórica com o valor \"Maior\" onde $x > 4$ e \"Menor\" onde $x \\leq 4$\n",
    "\n",
    "Dica: a função `np.vectorize` pode ajudar a transformar um vetor de números em um de texto.\n",
    "\n",
    "**Exercício 2**: calcule quantas linhas tem o valor z Maior e y é par\n",
    "\n",
    "**Exercício 3**: calcule a média dos valores de x onde z é Menor"
   ]
  },
  {
   "cell_type": "markdown",
   "metadata": {
    "colab_type": "text",
    "id": "_kssRdEUg3PR"
   },
   "source": [
    "Para os próximos exercícios, utilize o código abaixo para importar a base de dados Iris em um DataFrame (não é necessário fazer `import`s que você já fez)."
   ]
  },
  {
   "cell_type": "code",
   "execution_count": 1,
   "metadata": {
    "colab": {
     "autoexec": {
      "startup": false,
      "wait_interval": 0
     }
    },
    "colab_type": "code",
    "id": "4uSyJDKQcqJm"
   },
   "outputs": [],
   "source": [
    "import numpy as np\n",
    "import pandas as pd\n",
    "from sklearn.datasets import load_iris"
   ]
  },
  {
   "cell_type": "code",
   "execution_count": 2,
   "metadata": {
    "colab": {
     "autoexec": {
      "startup": false,
      "wait_interval": 0
     },
     "base_uri": "https://localhost:8080/",
     "height": 206
    },
    "colab_type": "code",
    "executionInfo": {
     "elapsed": 602,
     "status": "ok",
     "timestamp": 1530544255870,
     "user": {
      "displayName": "Diorge Brognara",
      "photoUrl": "https://lh3.googleusercontent.com/a/default-user=s128",
      "userId": "102180740426822979922"
     },
     "user_tz": 180
    },
    "id": "2S-lS4PVhPbf",
    "outputId": "117fe7c8-2c0e-4fac-d28a-43ce782b7b64"
   },
   "outputs": [
    {
     "data": {
      "text/html": [
       "<div>\n",
       "<style scoped>\n",
       "    .dataframe tbody tr th:only-of-type {\n",
       "        vertical-align: middle;\n",
       "    }\n",
       "\n",
       "    .dataframe tbody tr th {\n",
       "        vertical-align: top;\n",
       "    }\n",
       "\n",
       "    .dataframe thead th {\n",
       "        text-align: right;\n",
       "    }\n",
       "</style>\n",
       "<table border=\"1\" class=\"dataframe\">\n",
       "  <thead>\n",
       "    <tr style=\"text-align: right;\">\n",
       "      <th></th>\n",
       "      <th>sepal length</th>\n",
       "      <th>sepal width</th>\n",
       "      <th>petal length</th>\n",
       "      <th>petal width</th>\n",
       "      <th>classe</th>\n",
       "    </tr>\n",
       "  </thead>\n",
       "  <tbody>\n",
       "    <tr>\n",
       "      <th>0</th>\n",
       "      <td>5.1</td>\n",
       "      <td>3.5</td>\n",
       "      <td>1.4</td>\n",
       "      <td>0.2</td>\n",
       "      <td>Setosa</td>\n",
       "    </tr>\n",
       "    <tr>\n",
       "      <th>1</th>\n",
       "      <td>4.9</td>\n",
       "      <td>3.0</td>\n",
       "      <td>1.4</td>\n",
       "      <td>0.2</td>\n",
       "      <td>Setosa</td>\n",
       "    </tr>\n",
       "    <tr>\n",
       "      <th>2</th>\n",
       "      <td>4.7</td>\n",
       "      <td>3.2</td>\n",
       "      <td>1.3</td>\n",
       "      <td>0.2</td>\n",
       "      <td>Setosa</td>\n",
       "    </tr>\n",
       "    <tr>\n",
       "      <th>3</th>\n",
       "      <td>4.6</td>\n",
       "      <td>3.1</td>\n",
       "      <td>1.5</td>\n",
       "      <td>0.2</td>\n",
       "      <td>Setosa</td>\n",
       "    </tr>\n",
       "    <tr>\n",
       "      <th>4</th>\n",
       "      <td>5.0</td>\n",
       "      <td>3.6</td>\n",
       "      <td>1.4</td>\n",
       "      <td>0.2</td>\n",
       "      <td>Setosa</td>\n",
       "    </tr>\n",
       "  </tbody>\n",
       "</table>\n",
       "</div>"
      ],
      "text/plain": [
       "   sepal length  sepal width  petal length  petal width  classe\n",
       "0           5.1          3.5           1.4          0.2  Setosa\n",
       "1           4.9          3.0           1.4          0.2  Setosa\n",
       "2           4.7          3.2           1.3          0.2  Setosa\n",
       "3           4.6          3.1           1.5          0.2  Setosa\n",
       "4           5.0          3.6           1.4          0.2  Setosa"
      ]
     },
     "execution_count": 2,
     "metadata": {},
     "output_type": "execute_result"
    }
   ],
   "source": [
    "iris = load_iris()\n",
    "dados = pd.DataFrame(iris.data, columns=['sepal length', 'sepal width', 'petal length', 'petal width'])\n",
    "\n",
    "def classe(c):\n",
    "  if c == 0:\n",
    "    return 'Setosa'\n",
    "  elif c == 1:\n",
    "    return 'Versicolor'\n",
    "  else:\n",
    "    return 'Virginica'\n",
    "\n",
    "dados['classe'] = pd.Categorical(np.vectorize(classe)(iris.target))\n",
    "dados.head()"
   ]
  },
  {
   "cell_type": "markdown",
   "metadata": {
    "colab_type": "text",
    "id": "4qmZWAJNlDsp"
   },
   "source": [
    "**Exercício 4**: Utilizando somente as variáveis \"petal length\" e \"petal width\", é possível com uma única reta separar perfeitamente uma das três classes? Responda gerando o gráfico de dispersão dessas variáveis, colocando os marcadores de cada classe com uma cor diferente.\n",
    "\n",
    "Dica: lembre-se de usar o parâmetro `ax` para juntar os gráficos em uma única imagem.\n",
    "\n",
    "**Exercício 5**: Chamamos de intervalo inter-quartil (_interquartile range_, IQR) a diferença entre o terceiro quartil (75%, $Q_3$) e o primeiro quartil (25%, $Q_1$): ${IQR} = Q_3 - Q_1$. Calcule o IQR das quatro variáveis da base Iris.\n",
    "\n",
    "Dica: A função `describe` retorna um DataFrame onde ambos os índices são textuais."
   ]
  }
 ],
 "metadata": {
  "colab": {
   "collapsed_sections": [],
   "default_view": {},
   "name": "exercicios-pandas-aula2.ipynb",
   "provenance": [],
   "version": "0.3.2",
   "views": {}
  },
  "kernelspec": {
   "display_name": "Python 3",
   "language": "python",
   "name": "python3"
  },
  "language_info": {
   "codemirror_mode": {
    "name": "ipython",
    "version": 3
   },
   "file_extension": ".py",
   "mimetype": "text/x-python",
   "name": "python",
   "nbconvert_exporter": "python",
   "pygments_lexer": "ipython3",
   "version": "3.6.4"
  }
 },
 "nbformat": 4,
 "nbformat_minor": 1
}
