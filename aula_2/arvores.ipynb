{
 "cells": [
  {
   "cell_type": "markdown",
   "metadata": {
    "colab_type": "text",
    "id": "wGNc6NVEOobT"
   },
   "source": [
    "# Etapas do Processo de mineração de dados\n",
    "\n",
    "- Preparação do ambiente\n",
    "- Seleção\n",
    "- Processamento\n",
    "- Transformação\n",
    "- Mineração\n",
    "- Interpretação / Avaliação\n",
    "\n",
    "Nessa aula prática iremos fazer o processo de mineração de dados utilizando um algoritmo de árvore de decisão disponível no scikit learn.\n",
    "\n",
    "Mais informações sobre os algoritmos utilizados disponíveis em: http://scikit-learn.org/stable/index.html\n",
    "\n",
    "\n",
    "# Preparando o Ambiente\n",
    "Existem outras importações no decorrer desse documento que poderiam estar nessa seção como boa prática de programação."
   ]
  },
  {
   "cell_type": "code",
   "execution_count": null,
   "metadata": {
    "colab": {
     "autoexec": {
      "startup": false,
      "wait_interval": 0
     }
    },
    "colab_type": "code",
    "id": "kAPweajtOobV"
   },
   "outputs": [],
   "source": [
    "import numpy as np\n",
    "import pandas as pd\n",
    "import matplotlib.pyplot as plt\n",
    "import graphviz\n",
    "\n",
    "from sklearn import tree\n",
    "from sklearn.linear_model import SGDClassifier\n",
    "from sklearn import metrics\n",
    "from sklearn.datasets import load_iris, load_boston\n",
    "from sklearn.model_selection import train_test_split\n",
    "\n",
    "\n",
    "\n",
    "%matplotlib inline"
   ]
  },
  {
   "cell_type": "markdown",
   "metadata": {
    "colab_type": "text",
    "id": "P5dLNxGEOobb"
   },
   "source": [
    "## 1. Carregando os dados"
   ]
  },
  {
   "cell_type": "code",
   "execution_count": null,
   "metadata": {
    "colab": {
     "autoexec": {
      "startup": false,
      "wait_interval": 0
     }
    },
    "colab_type": "code",
    "id": "cHGsDa8gOobc"
   },
   "outputs": [],
   "source": [
    "# Utilizando um dataset já disponível pela ferramenta\n",
    "iris = load_iris()"
   ]
  },
  {
   "cell_type": "code",
   "execution_count": null,
   "metadata": {
    "colab": {
     "autoexec": {
      "startup": false,
      "wait_interval": 0
     }
    },
    "colab_type": "code",
    "id": "h7XiBGEgOobp"
   },
   "outputs": [],
   "source": [
    "# Nome dos Atributos\n",
    "iris.feature_names"
   ]
  },
  {
   "cell_type": "code",
   "execution_count": null,
   "metadata": {
    "colab": {
     "autoexec": {
      "startup": false,
      "wait_interval": 0
     }
    },
    "colab_type": "code",
    "id": "-0KjSXBfOobu"
   },
   "outputs": [],
   "source": [
    "# Nomes dos valores do atributo classe\n",
    "iris.target_names"
   ]
  },
  {
   "cell_type": "code",
   "execution_count": null,
   "metadata": {
    "colab": {
     "autoexec": {
      "startup": false,
      "wait_interval": 0
     }
    },
    "colab_type": "code",
    "id": "hFXrryM7Oob1"
   },
   "outputs": [],
   "source": [
    "# Valores dos atributos do primeiro exemplo da base de dados\n",
    "print(iris.data[0])\n",
    "\n",
    "# Valor do Atributo Classe do primeiro exemplo\n",
    "print(iris.target[0])"
   ]
  },
  {
   "cell_type": "markdown",
   "metadata": {
    "colab_type": "text",
    "id": "E8VqG2oFOob6"
   },
   "source": [
    "### 1.1 Convertendo os dados para um dataset do Pandas (dataframe)"
   ]
  },
  {
   "cell_type": "code",
   "execution_count": null,
   "metadata": {
    "colab": {
     "autoexec": {
      "startup": false,
      "wait_interval": 0
     }
    },
    "colab_type": "code",
    "id": "sAattDs0Oob-"
   },
   "outputs": [],
   "source": [
    "data = pd.DataFrame(iris.data, columns=iris.feature_names)\n",
    "data['target'] = iris.target"
   ]
  },
  {
   "cell_type": "markdown",
   "metadata": {
    "colab_type": "text",
    "id": "PvluaT5eOocD"
   },
   "source": [
    "### 1.2 Analisando o dataframe"
   ]
  },
  {
   "cell_type": "code",
   "execution_count": null,
   "metadata": {
    "colab": {
     "autoexec": {
      "startup": false,
      "wait_interval": 0
     }
    },
    "colab_type": "code",
    "id": "PqS6vV3-OocZ"
   },
   "outputs": [],
   "source": [
    "# Tipo dos dados encontrados em cada coluna\n",
    "data.dtypes"
   ]
  },
  {
   "cell_type": "code",
   "execution_count": null,
   "metadata": {
    "colab": {
     "autoexec": {
      "startup": false,
      "wait_interval": 0
     }
    },
    "colab_type": "code",
    "id": "yGB4rdLKY5LI"
   },
   "outputs": [],
   "source": [
    "data['target'] = pd.Categorical(data['target'])\n",
    "data.dtypes"
   ]
  },
  {
   "cell_type": "code",
   "execution_count": null,
   "metadata": {
    "colab": {
     "autoexec": {
      "startup": false,
      "wait_interval": 0
     }
    },
    "colab_type": "code",
    "id": "8JCE97SpOoch"
   },
   "outputs": [],
   "source": [
    "#Dimensão\n",
    "data.shape"
   ]
  },
  {
   "cell_type": "code",
   "execution_count": null,
   "metadata": {
    "colab": {
     "autoexec": {
      "startup": false,
      "wait_interval": 0
     }
    },
    "colab_type": "code",
    "id": "zDJ8xAgeOocn"
   },
   "outputs": [],
   "source": [
    "#Outros atributos\n",
    "data.describe()"
   ]
  },
  {
   "cell_type": "code",
   "execution_count": null,
   "metadata": {
    "colab": {
     "autoexec": {
      "startup": false,
      "wait_interval": 0
     }
    },
    "colab_type": "code",
    "id": "FS-IJ-P-ZQbC"
   },
   "outputs": [],
   "source": [
    "data['target'].value_counts()"
   ]
  },
  {
   "cell_type": "code",
   "execution_count": null,
   "metadata": {
    "colab": {
     "autoexec": {
      "startup": false,
      "wait_interval": 0
     }
    },
    "colab_type": "code",
    "id": "X9J5orbgOoct"
   },
   "outputs": [],
   "source": [
    "#Cabeçalho\n",
    "data.head()"
   ]
  },
  {
   "cell_type": "markdown",
   "metadata": {
    "colab_type": "text",
    "id": "aPBeAt7aOocy"
   },
   "source": [
    "## 2. Mineração"
   ]
  },
  {
   "cell_type": "markdown",
   "metadata": {
    "colab_type": "text",
    "id": "RScVersuOoc0"
   },
   "source": [
    "###  2.1. Dividindo os dados para a fase de treino e teste\n",
    "\n",
    "O objetivo dessa fase é dividir os dados para evitar overfitting (superestimação)\n",
    "\n",
    "Neste exemplo iremos dividir na proporção 60/40:\n",
    "- 60% dos dados ficarão para a fase de treinamento e geração da árvore de decisão\n",
    "- 40% dos dados ficarão para a fase de teste.\n",
    "\n",
    "Para isso iremos utilizar um pacote do scikit learn chamada \"model_selection\""
   ]
  },
  {
   "cell_type": "code",
   "execution_count": null,
   "metadata": {
    "colab": {
     "autoexec": {
      "startup": false,
      "wait_interval": 0
     }
    },
    "colab_type": "code",
    "id": "tdV3yKYnOoc1"
   },
   "outputs": [],
   "source": [
    "# dividindo os dados\n",
    "\n",
    "#Sem Estratificação\n",
    "#train, test = train_test_split(data, train_size=0.6)\n",
    "\n",
    "#Com Estratificação\n",
    "train, test = train_test_split(\n",
    "    data,\n",
    "    stratify=data['target'],\n",
    "    train_size=0.6, test_size=0.4)"
   ]
  },
  {
   "cell_type": "code",
   "execution_count": null,
   "metadata": {
    "colab": {
     "autoexec": {
      "startup": false,
      "wait_interval": 0
     }
    },
    "colab_type": "code",
    "id": "v3iKvRlVOoc6"
   },
   "outputs": [],
   "source": [
    "train.describe()"
   ]
  },
  {
   "cell_type": "code",
   "execution_count": null,
   "metadata": {
    "colab": {
     "autoexec": {
      "startup": false,
      "wait_interval": 0
     }
    },
    "colab_type": "code",
    "id": "2dDvKLTiOodB"
   },
   "outputs": [],
   "source": [
    "test.describe()"
   ]
  },
  {
   "cell_type": "code",
   "execution_count": null,
   "metadata": {
    "colab": {
     "autoexec": {
      "startup": false,
      "wait_interval": 0
     }
    },
    "colab_type": "code",
    "id": "oJTEg5P0OodH"
   },
   "outputs": [],
   "source": [
    "train['target'].value_counts()"
   ]
  },
  {
   "cell_type": "markdown",
   "metadata": {
    "colab_type": "text",
    "id": "YESuxPMhOodL"
   },
   "source": [
    "#### 2.1. Dividindo os dados para o classificador (Não obrigatório)\n",
    "É possível passar os subconjuntos do dataset de treinamento direto por parâmetro sem a necessidade de gerar novos dataframes.\n",
    "\n",
    "Os passos a seguir são apenas para fins didáticos"
   ]
  },
  {
   "cell_type": "code",
   "execution_count": null,
   "metadata": {
    "colab": {
     "autoexec": {
      "startup": false,
      "wait_interval": 0
     }
    },
    "colab_type": "code",
    "id": "Ci6zSOAwR2vQ"
   },
   "outputs": [],
   "source": [
    "train.head()"
   ]
  },
  {
   "cell_type": "code",
   "execution_count": null,
   "metadata": {
    "colab": {
     "autoexec": {
      "startup": false,
      "wait_interval": 0
     }
    },
    "colab_type": "code",
    "id": "9LGvoWUUOodM"
   },
   "outputs": [],
   "source": [
    "train_data = train.drop(columns=['target'])\n",
    "\n",
    "train_data.head()"
   ]
  },
  {
   "cell_type": "markdown",
   "metadata": {
    "colab_type": "text",
    "id": "nM-IV2mkOodV"
   },
   "source": [
    "### 2.2. Treinamento"
   ]
  },
  {
   "cell_type": "code",
   "execution_count": null,
   "metadata": {
    "colab": {
     "autoexec": {
      "startup": false,
      "wait_interval": 0
     }
    },
    "colab_type": "code",
    "id": "EHCjMAV3OodW"
   },
   "outputs": [],
   "source": [
    "# Instanciando o classificador de árvore de decisão\n",
    "clf = tree.DecisionTreeClassifier(max_depth=3)\n",
    "clf"
   ]
  },
  {
   "cell_type": "code",
   "execution_count": null,
   "metadata": {
    "colab": {
     "autoexec": {
      "startup": false,
      "wait_interval": 0
     }
    },
    "colab_type": "code",
    "id": "l6T1D0DfOoda"
   },
   "outputs": [],
   "source": [
    "#Treinando a árvore\n",
    "clf = clf.fit(train_data,train['target'])"
   ]
  },
  {
   "cell_type": "markdown",
   "metadata": {
    "colab_type": "text",
    "id": "sqCp7-taOode"
   },
   "source": [
    "#### 2.2.1. Visualizando árvore gerada"
   ]
  },
  {
   "cell_type": "code",
   "execution_count": null,
   "metadata": {
    "colab": {
     "autoexec": {
      "startup": false,
      "wait_interval": 0
     }
    },
    "colab_type": "code",
    "id": "NeZ-BiuHOodf"
   },
   "outputs": [],
   "source": [
    "dot_data = tree.export_graphviz(clf, out_file=None,\n",
    "                                class_names=list(iris.target_names),\n",
    "                                feature_names=list(iris.feature_names),\n",
    "                                leaves_parallel=True)\n",
    "graphviz.Source(dot_data)"
   ]
  },
  {
   "cell_type": "markdown",
   "metadata": {
    "colab_type": "text",
    "id": "55q7gTqfOodj"
   },
   "source": [
    "## 3. Interpretação / Avaliação"
   ]
  },
  {
   "cell_type": "markdown",
   "metadata": {
    "colab_type": "text",
    "id": "3NjWEsKwOodk"
   },
   "source": [
    "### 3.1. Interpretação do modelo"
   ]
  },
  {
   "cell_type": "code",
   "execution_count": null,
   "metadata": {
    "colab": {
     "autoexec": {
      "startup": false,
      "wait_interval": 0
     }
    },
    "colab_type": "code",
    "id": "hmWnZqn7GJuP"
   },
   "outputs": [],
   "source": [
    "plt.scatter(x=data['petal length (cm)'], y=data['petal width (cm)'], c=data['target'], cmap='cool')\n",
    "plt.axvline(2.5, c='k')\n",
    "plt.axhline(1.55, c='k')\n",
    "plt.axvline(4.95, c='k')\n",
    "plt.axhline(1.75, c='k');"
   ]
  },
  {
   "cell_type": "code",
   "execution_count": null,
   "metadata": {},
   "outputs": [],
   "source": [
    "plt.scatter(x=data['petal length (cm)'], y=data['petal width (cm)'], c=data['target'], cmap='cool')\n",
    "\n",
    "for atributo, limiar in zip(clf.tree_.feature, clf.tree_.threshold):\n",
    "  if atributo == 2:\n",
    "    plt.axvline(limiar, c='k')\n",
    "  elif atributo == 3:\n",
    "    plt.axhline(limiar, c='k')"
   ]
  },
  {
   "cell_type": "markdown",
   "metadata": {
    "colab_type": "text",
    "id": "YZJTTQLgOodo"
   },
   "source": [
    "### 3.2. Avaliação\n",
    "\n",
    "Para a validação de qualquer algoritmo de AM é recomendável seguir procedimentos que garantam a corretude, a validade e a reprodutibilidade e as conclusões obtidas dos experimentos realizados.\n",
    "\n",
    "Essa avaliação pode ser realizada por diferentes aspectos, dependendo da tarefa que cada algoritmo executa."
   ]
  },
  {
   "cell_type": "code",
   "execution_count": null,
   "metadata": {
    "colab": {
     "autoexec": {
      "startup": false,
      "wait_interval": 0
     }
    },
    "colab_type": "code",
    "id": "LJlAqGrkOodl"
   },
   "outputs": [],
   "source": [
    "expected = test['target']\n",
    "\n",
    "predicted = clf.predict(test.drop(columns=['target'])) #somente os dados da base de testes sem o rótulo."
   ]
  },
  {
   "cell_type": "markdown",
   "metadata": {
    "colab_type": "text",
    "id": "bekCF7dlOodq"
   },
   "source": [
    "#### 3.2.1. Matriz de confusão\n",
    "\n",
    "Uma forma usualmente empregada para visualizar o desempenho de um classificador é com o uso de uma matriz de confusão. Esta matriz ilustra o número de predições corretas e incorretas em cada classe.\n",
    "\n",
    "As linhas representam as classes verdadeiras e as colunas representam as classes preditas pelo classificador."
   ]
  },
  {
   "cell_type": "code",
   "execution_count": null,
   "metadata": {
    "colab": {
     "autoexec": {
      "startup": false,
      "wait_interval": 0
     }
    },
    "colab_type": "code",
    "id": "3XXO6V3OOodq"
   },
   "outputs": [],
   "source": [
    "metrics.confusion_matrix(expected, predicted)"
   ]
  },
  {
   "cell_type": "code",
   "execution_count": null,
   "metadata": {},
   "outputs": [],
   "source": [
    "df = pd.DataFrame(metrics.confusion_matrix(expected, predicted),\n",
    "                  columns=['Predicted A', 'Predicted B', 'Predicted C'],\n",
    "                  index=['True A', 'True B', 'True C'])\n",
    "df"
   ]
  },
  {
   "cell_type": "markdown",
   "metadata": {
    "colab_type": "text",
    "id": "rfNJo330Oodw"
   },
   "source": [
    "#### 3.2.2. Medida de desempenho\n",
    "\n",
    "Taxa de acerto ou acurácia total: calculada pela soma dos valores da diagonal principal da matriz, dividida pela soma dos valores de todos os elementos da matriz.\n",
    "\n",
    "Para um problema de duas classes:\n",
    "$ac(f) = \\dfrac{VP+VN}{n}$\n"
   ]
  },
  {
   "cell_type": "code",
   "execution_count": null,
   "metadata": {
    "colab": {
     "autoexec": {
      "startup": false,
      "wait_interval": 0
     }
    },
    "colab_type": "code",
    "id": "miP5cc8AOodx"
   },
   "outputs": [],
   "source": [
    "metrics.accuracy_score(expected, predicted)"
   ]
  },
  {
   "cell_type": "markdown",
   "metadata": {
    "colab_type": "text",
    "id": "uGwFkqPhIA1Z"
   },
   "source": [
    "# Bases sintéticas\n",
    "\n",
    "Para vermos as diferenças entre os modelos lineares (como regressão polinomial) e modelos simbólicos (no caso, árvores), veremos duas bases sintéticas de dados: XOR e a base X > Y."
   ]
  },
  {
   "cell_type": "code",
   "execution_count": null,
   "metadata": {
    "colab": {
     "autoexec": {
      "startup": false,
      "wait_interval": 0
     }
    },
    "colab_type": "code",
    "id": "sin4dzb_PnBM"
   },
   "outputs": [],
   "source": [
    "xor_x = np.random.rand(50, 2)\n",
    "xor_y = xor_x[:, 0].round().astype(np.bool) ^ xor_x[:, 1].round().astype(np.bool)\n",
    "\n",
    "plt.scatter(x=xor_x[:, 0], y=xor_x[:, 1], c=xor_y, cmap='winter');"
   ]
  },
  {
   "cell_type": "code",
   "execution_count": null,
   "metadata": {
    "colab": {
     "autoexec": {
      "startup": false,
      "wait_interval": 0
     }
    },
    "colab_type": "code",
    "id": "S_vRDJGEWST1"
   },
   "outputs": [],
   "source": [
    "x = np.random.rand(200, 2)\n",
    "y = x[:, 0] > x[:, 1]\n",
    "plt.scatter(x[:, 0], x[:, 1], c=y, cmap='winter');"
   ]
  },
  {
   "cell_type": "code",
   "execution_count": null,
   "metadata": {
    "colab": {
     "autoexec": {
      "startup": false,
      "wait_interval": 0
     }
    },
    "colab_type": "code",
    "id": "016-elRXZFyq"
   },
   "outputs": [],
   "source": [
    "linear = SGDClassifier(max_iter=200)\n",
    "linear.fit(x, y)"
   ]
  },
  {
   "cell_type": "code",
   "execution_count": null,
   "metadata": {
    "colab": {
     "autoexec": {
      "startup": false,
      "wait_interval": 0
     }
    },
    "colab_type": "code",
    "id": "WXVVZwj7ZLWm"
   },
   "outputs": [],
   "source": [
    "xamostra = np.linspace(0, 1, 10)\n",
    "yamostra = np.linspace(0, 1, 10)\n",
    "\n",
    "xgrid, ygrid = np.meshgrid(xamostra, yamostra)\n",
    "linha = np.empty(xgrid.shape)\n",
    "\n",
    "for (i, j), _ in np.ndenumerate(xgrid):\n",
    "  val_x = xgrid[i, j]\n",
    "  val_y = ygrid[i, j]\n",
    "  linha[i, j] = linear.decision_function([[val_x, val_y]])\n",
    "\n",
    "plt.scatter(x[:, 0], x[:, 1], c=y, cmap='winter', s=80)\n",
    "plt.contour(xgrid, ygrid, linha, levels=0.0, colors='k');"
   ]
  },
  {
   "cell_type": "code",
   "execution_count": null,
   "metadata": {
    "colab": {
     "autoexec": {
      "startup": false,
      "wait_interval": 0
     }
    },
    "colab_type": "code",
    "id": "eWcpxaRKZ_GF"
   },
   "outputs": [],
   "source": [
    "arvore = tree.DecisionTreeClassifier(max_depth=4)\n",
    "arvore.fit(x, y)\n",
    "\n",
    "dot_data = tree.export_graphviz(arvore, out_file=None,\n",
    "                                class_names=['0', '1'],\n",
    "                                feature_names=['x', 'y'],\n",
    "                                leaves_parallel=True)\n",
    "graphviz.Source(dot_data)"
   ]
  },
  {
   "cell_type": "code",
   "execution_count": null,
   "metadata": {
    "colab": {
     "autoexec": {
      "startup": false,
      "wait_interval": 0
     }
    },
    "colab_type": "code",
    "id": "E9LYq5-oagxZ"
   },
   "outputs": [],
   "source": [
    "plt.scatter(x[:, 0], x[:, 1], c=y, cmap='winter', s=80)\n",
    "\n",
    "for atributo, limiar in zip(arvore.tree_.feature, arvore.tree_.threshold):\n",
    "  if atributo == 0:\n",
    "    plt.axvline(limiar, c='k')\n",
    "  elif atributo == 1:\n",
    "    plt.axhline(limiar, c='k')"
   ]
  },
  {
   "cell_type": "code",
   "execution_count": null,
   "metadata": {
    "colab": {
     "autoexec": {
      "startup": false,
      "wait_interval": 0
     }
    },
    "colab_type": "code",
    "id": "8K3_8K7mccNc"
   },
   "outputs": [],
   "source": [
    "novo_x = np.vstack([x[:, 0], x[:, 1], x[:, 0] - x[:, 1]]).T\n",
    "arvore2 = tree.DecisionTreeClassifier()\n",
    "arvore2.fit(novo_x, y)\n",
    "\n",
    "dot_data = tree.export_graphviz(arvore2, out_file=None,\n",
    "                                class_names=['0', '1'],\n",
    "                                feature_names=['x', 'y', 'x-y'],\n",
    "                                leaves_parallel=True)\n",
    "graphviz.Source(dot_data)"
   ]
  },
  {
   "cell_type": "markdown",
   "metadata": {},
   "source": [
    "## Árvores de Regressão\n",
    "\n",
    "Muito similar às árvores de decisão, mas utilizando diferentes critérios para divisão dos nós, e gerando uma função regressora nas folhas.\n",
    "\n",
    "No caso do SKLearn no entanto, a função regressora é só a média dos dados, como constante."
   ]
  },
  {
   "cell_type": "code",
   "execution_count": null,
   "metadata": {},
   "outputs": [],
   "source": [
    "boston = load_boston()"
   ]
  },
  {
   "cell_type": "code",
   "execution_count": null,
   "metadata": {},
   "outputs": [],
   "source": [
    "regressor = tree.DecisionTreeRegressor(max_depth=4)\n",
    "regressor.fit(boston.data, boston.target)"
   ]
  },
  {
   "cell_type": "code",
   "execution_count": null,
   "metadata": {},
   "outputs": [],
   "source": [
    "dot_data = tree.export_graphviz(regressor,\n",
    "                                out_file=None,\n",
    "                                feature_names=boston.feature_names)\n",
    "graphviz.Source(dot_data)"
   ]
  }
 ],
 "metadata": {
  "accelerator": "GPU",
  "colab": {
   "collapsed_sections": [],
   "default_view": {},
   "name": "arvore-de-decisao-1.ipynb",
   "private_outputs": true,
   "provenance": [],
   "version": "0.3.2",
   "views": {}
  },
  "kernelspec": {
   "display_name": "Python 3",
   "language": "python",
   "name": "python3"
  },
  "language_info": {
   "codemirror_mode": {
    "name": "ipython",
    "version": 3
   },
   "file_extension": ".py",
   "mimetype": "text/x-python",
   "name": "python",
   "nbconvert_exporter": "python",
   "pygments_lexer": "ipython3",
   "version": "3.6.4"
  }
 },
 "nbformat": 4,
 "nbformat_minor": 1
}
