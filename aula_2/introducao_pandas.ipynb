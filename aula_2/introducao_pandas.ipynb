{
 "cells": [
  {
   "cell_type": "markdown",
   "metadata": {
    "colab_type": "text",
    "id": "2RZu6QCG_aPG"
   },
   "source": [
    "# Pandas - Python Data Analysis\n",
    "\n",
    "Pandas é uma biblioteca para trabalhar com a parte de preparação de dados. De certa forma, suas operações são similares às operações SQL em bancos de dados, operando sobre dados tabulares, com a principal diferença sendo que pandas é utilizado em memória e localmente, enquanto bases SQL geralmente são operadas em disco e em servidores.\n",
    "\n",
    "Os dados em Pandas são organizados em `Series`, que seria equivalente a uma coluna de uma tabela, e `DataFrames`, que representam as tabelas propriamente ditas. De certa forma, os dados em uma `Series` são como um `ndarray` do Numpy.\n",
    "\n",
    "Um `DataFrame` pode ser criado de várias formas, mas comumente é feito a partir de dados em um banco de dados SQL, um arquivo Excel, de uma matriz ou vetores Numpy, ou um arquivo CSV."
   ]
  },
  {
   "cell_type": "code",
   "execution_count": null,
   "metadata": {
    "colab": {
     "autoexec": {
      "startup": false,
      "wait_interval": 0
     }
    },
    "colab_type": "code",
    "id": "JxqB00ex_VDP"
   },
   "outputs": [],
   "source": [
    "import numpy as np\n",
    "import pandas as pd\n",
    "import matplotlib.pyplot as plt\n",
    "%matplotlib inline"
   ]
  },
  {
   "cell_type": "markdown",
   "metadata": {},
   "source": [
    "### Shapes\n",
    "\n",
    "Antes de entrar em pandas propriamente dito, uma nota sobre _shapes_ em Numpy."
   ]
  },
  {
   "cell_type": "code",
   "execution_count": null,
   "metadata": {},
   "outputs": [],
   "source": [
    "x = np.array([[5, 2],\n",
    "              [1, 3],\n",
    "              [7, 8]])\n",
    "x.shape"
   ]
  },
  {
   "cell_type": "code",
   "execution_count": null,
   "metadata": {},
   "outputs": [],
   "source": [
    "x.T"
   ]
  },
  {
   "cell_type": "code",
   "execution_count": null,
   "metadata": {},
   "outputs": [],
   "source": [
    "x.T.shape"
   ]
  },
  {
   "cell_type": "code",
   "execution_count": null,
   "metadata": {},
   "outputs": [],
   "source": [
    "x2 = np.array([5, 2, 1, 3, 7, 8]).reshape(3, 2)\n",
    "x2"
   ]
  },
  {
   "cell_type": "code",
   "execution_count": null,
   "metadata": {},
   "outputs": [],
   "source": [
    "np.array_equal(x, x2)"
   ]
  },
  {
   "cell_type": "markdown",
   "metadata": {},
   "source": [
    "Pergunta: por que `np.array_equal(x, x2)` e não `x == x2`?"
   ]
  },
  {
   "cell_type": "code",
   "execution_count": null,
   "metadata": {},
   "outputs": [],
   "source": [
    "x3 = x.reshape(-1, 1)\n",
    "print(x3.shape)\n",
    "x3"
   ]
  },
  {
   "cell_type": "code",
   "execution_count": null,
   "metadata": {},
   "outputs": [],
   "source": [
    "x4 = x.reshape(1, -1)\n",
    "print(x4.shape)\n",
    "x4"
   ]
  },
  {
   "cell_type": "code",
   "execution_count": null,
   "metadata": {},
   "outputs": [],
   "source": [
    "x5 = x.ravel() # igual .reshape(-1)\n",
    "print(x5.shape)\n",
    "x5"
   ]
  },
  {
   "cell_type": "code",
   "execution_count": null,
   "metadata": {},
   "outputs": [],
   "source": [
    "print(np.array_equal(x3, x4))\n",
    "print(np.array_equal(x3, x5))\n",
    "print(np.array_equal(x4, x5))\n",
    "print(np.array_equal(x5, x.reshape(-1)))"
   ]
  },
  {
   "cell_type": "markdown",
   "metadata": {},
   "source": [
    "- O tamanho de cada dimensão é guardado na variável `shape` do vetor\n",
    "- Um vetor-linha (N, 1) é diferente de um vetor-coluna (1, N)\n",
    "  - Geralmente usamos vetor-linha para representar uma amostra, e vetor-coluna para representar um atributo\n",
    "- E ambos são diferentes de um vetor unidimensional, que é ambíguo se representa uma amostra ou atributo\n",
    "- Quando damos reshape, o valor -1 indica \"o valor necessário para ser compatível\"; somente uma dimensão pode ser reshaped pra -1, caso contrário o reshape é ambíguo\n",
    "- A função `ravel` deixa a dimensão de um vetor com (N,), e é só um atalho para `reshape(-1)`."
   ]
  },
  {
   "cell_type": "code",
   "execution_count": null,
   "metadata": {
    "colab": {
     "autoexec": {
      "startup": false,
      "wait_interval": 0
     },
     "base_uri": "https://localhost:8080/",
     "height": 265
    },
    "colab_type": "code",
    "executionInfo": {
     "elapsed": 550,
     "status": "ok",
     "timestamp": 1530543431610,
     "user": {
      "displayName": "Diorge Brognara",
      "photoUrl": "https://lh3.googleusercontent.com/a/default-user=s128",
      "userId": "102180740426822979922"
     },
     "user_tz": 180
    },
    "id": "bpKclMRnCE-a",
    "outputId": "85c334ff-9c6c-4e1e-e2b8-3c37a9d9df4f"
   },
   "outputs": [],
   "source": [
    "x1 = np.array([5,    3,    8,     0,    4])\n",
    "x2 = np.array([0.5,  3.7,  1.6,   2,    7.8])\n",
    "y = np.array( ['Sim', 'Sim', 'Não', 'Sim', 'Não'])\n",
    "\n",
    "def mapeia_cor(val):\n",
    "  if val == 'Sim':\n",
    "    return 'red'\n",
    "  else:\n",
    "    return 'black'\n",
    "\n",
    "cor = np.vectorize(mapeia_cor)(y)\n",
    "print('Cores:', cor, 'Tipo:', cor.dtype)\n",
    "plt.scatter(x1, x2, c=cor, s=100);"
   ]
  },
  {
   "cell_type": "code",
   "execution_count": null,
   "metadata": {
    "colab": {
     "autoexec": {
      "startup": false,
      "wait_interval": 0
     },
     "base_uri": "https://localhost:8080/",
     "height": 206
    },
    "colab_type": "code",
    "executionInfo": {
     "elapsed": 611,
     "status": "ok",
     "timestamp": 1530543432415,
     "user": {
      "displayName": "Diorge Brognara",
      "photoUrl": "https://lh3.googleusercontent.com/a/default-user=s128",
      "userId": "102180740426822979922"
     },
     "user_tz": 180
    },
    "id": "S4s3d-0zCJt0",
    "outputId": "af1cbbb2-87bb-4dad-dc5f-84f4aa85d609"
   },
   "outputs": [],
   "source": [
    "dados = pd.DataFrame({'Quantidade de crianças': x1,\n",
    "                      'Renda familiar (salários mínimos)': x2,\n",
    "                      'Possui débito': pd.Categorical(y)})\n",
    "dados"
   ]
  },
  {
   "cell_type": "code",
   "execution_count": null,
   "metadata": {
    "colab": {
     "autoexec": {
      "startup": false,
      "wait_interval": 0
     },
     "base_uri": "https://localhost:8080/",
     "height": 36
    },
    "colab_type": "code",
    "executionInfo": {
     "elapsed": 737,
     "status": "ok",
     "timestamp": 1530543433400,
     "user": {
      "displayName": "Diorge Brognara",
      "photoUrl": "https://lh3.googleusercontent.com/a/default-user=s128",
      "userId": "102180740426822979922"
     },
     "user_tz": 180
    },
    "id": "D_IgzCAnD-iT",
    "outputId": "21cb3c3f-fb50-412f-9ea7-007badd8afbf"
   },
   "outputs": [],
   "source": [
    "dados.shape"
   ]
  },
  {
   "cell_type": "code",
   "execution_count": null,
   "metadata": {
    "colab": {
     "autoexec": {
      "startup": false,
      "wait_interval": 0
     },
     "base_uri": "https://localhost:8080/",
     "height": 36
    },
    "colab_type": "code",
    "executionInfo": {
     "elapsed": 535,
     "status": "ok",
     "timestamp": 1530543434101,
     "user": {
      "displayName": "Diorge Brognara",
      "photoUrl": "https://lh3.googleusercontent.com/a/default-user=s128",
      "userId": "102180740426822979922"
     },
     "user_tz": 180
    },
    "id": "uzqWEiT2fyTi",
    "outputId": "d31050a0-59a7-4782-b450-99cacd08e331"
   },
   "outputs": [],
   "source": [
    "len(dados)"
   ]
  },
  {
   "cell_type": "code",
   "execution_count": null,
   "metadata": {
    "colab": {
     "autoexec": {
      "startup": false,
      "wait_interval": 0
     },
     "base_uri": "https://localhost:8080/",
     "height": 92
    },
    "colab_type": "code",
    "executionInfo": {
     "elapsed": 558,
     "status": "ok",
     "timestamp": 1530543434942,
     "user": {
      "displayName": "Diorge Brognara",
      "photoUrl": "https://lh3.googleusercontent.com/a/default-user=s128",
      "userId": "102180740426822979922"
     },
     "user_tz": 180
    },
    "id": "be77MoTIED4e",
    "outputId": "827a9d80-1135-4a86-9b11-f67325ceda0b"
   },
   "outputs": [],
   "source": [
    "dados.dtypes"
   ]
  },
  {
   "cell_type": "code",
   "execution_count": null,
   "metadata": {
    "colab": {
     "autoexec": {
      "startup": false,
      "wait_interval": 0
     },
     "base_uri": "https://localhost:8080/",
     "height": 112
    },
    "colab_type": "code",
    "executionInfo": {
     "elapsed": 764,
     "status": "ok",
     "timestamp": 1530543435997,
     "user": {
      "displayName": "Diorge Brognara",
      "photoUrl": "https://lh3.googleusercontent.com/a/default-user=s128",
      "userId": "102180740426822979922"
     },
     "user_tz": 180
    },
    "id": "ZVMSiIwfEExm",
    "outputId": "88fe20f1-ed8b-41e1-b299-6bef94222b9e"
   },
   "outputs": [],
   "source": [
    "dados.head(2)"
   ]
  },
  {
   "cell_type": "code",
   "execution_count": null,
   "metadata": {
    "colab": {
     "autoexec": {
      "startup": false,
      "wait_interval": 0
     },
     "base_uri": "https://localhost:8080/",
     "height": 300
    },
    "colab_type": "code",
    "executionInfo": {
     "elapsed": 527,
     "status": "ok",
     "timestamp": 1530543436759,
     "user": {
      "displayName": "Diorge Brognara",
      "photoUrl": "https://lh3.googleusercontent.com/a/default-user=s128",
      "userId": "102180740426822979922"
     },
     "user_tz": 180
    },
    "id": "y34AHYCyEja3",
    "outputId": "741b073b-9a38-494f-9ddd-2ba656a46242"
   },
   "outputs": [],
   "source": [
    "dados.describe()"
   ]
  },
  {
   "cell_type": "code",
   "execution_count": null,
   "metadata": {
    "colab": {
     "autoexec": {
      "startup": false,
      "wait_interval": 0
     },
     "base_uri": "https://localhost:8080/",
     "height": 175
    },
    "colab_type": "code",
    "executionInfo": {
     "elapsed": 535,
     "status": "ok",
     "timestamp": 1530543437456,
     "user": {
      "displayName": "Diorge Brognara",
      "photoUrl": "https://lh3.googleusercontent.com/a/default-user=s128",
      "userId": "102180740426822979922"
     },
     "user_tz": 180
    },
    "id": "cOQ43XBhFtCs",
    "outputId": "9935e21b-6e24-4bd1-c02c-67bca691f8a0"
   },
   "outputs": [],
   "source": [
    "dados.describe(include=['category'])"
   ]
  },
  {
   "cell_type": "markdown",
   "metadata": {
    "colab_type": "text",
    "id": "j8iRbO8dG5jT"
   },
   "source": [
    "## Indexação/seleção\n",
    "\n",
    "Uma vantagem do pandas são as formas de indexação. Antes de entrar nos detalhes do pandas, vamos ver um novo tipo de indexação para vetores do numpy que ainda não discutimos: coleção de índices."
   ]
  },
  {
   "cell_type": "code",
   "execution_count": null,
   "metadata": {
    "colab": {
     "autoexec": {
      "startup": false,
      "wait_interval": 0
     },
     "base_uri": "https://localhost:8080/",
     "height": 36
    },
    "colab_type": "code",
    "executionInfo": {
     "elapsed": 534,
     "status": "ok",
     "timestamp": 1530543438228,
     "user": {
      "displayName": "Diorge Brognara",
      "photoUrl": "https://lh3.googleusercontent.com/a/default-user=s128",
      "userId": "102180740426822979922"
     },
     "user_tz": 180
    },
    "id": "c6V6ZkYjHL03",
    "outputId": "b4b385bf-c4ea-46ae-97da-466923f6ff26"
   },
   "outputs": [],
   "source": [
    "x1"
   ]
  },
  {
   "cell_type": "code",
   "execution_count": null,
   "metadata": {
    "colab": {
     "autoexec": {
      "startup": false,
      "wait_interval": 0
     },
     "base_uri": "https://localhost:8080/",
     "height": 36
    },
    "colab_type": "code",
    "executionInfo": {
     "elapsed": 887,
     "status": "ok",
     "timestamp": 1530543439338,
     "user": {
      "displayName": "Diorge Brognara",
      "photoUrl": "https://lh3.googleusercontent.com/a/default-user=s128",
      "userId": "102180740426822979922"
     },
     "user_tz": 180
    },
    "id": "7qc0ieqqHP9U",
    "outputId": "9540af94-8ece-41ce-a248-97f821cae266"
   },
   "outputs": [],
   "source": [
    "indices = np.array([2, 4])\n",
    "x1[indices]"
   ]
  },
  {
   "cell_type": "code",
   "execution_count": null,
   "metadata": {
    "colab": {
     "autoexec": {
      "startup": false,
      "wait_interval": 0
     },
     "base_uri": "https://localhost:8080/",
     "height": 36
    },
    "colab_type": "code",
    "executionInfo": {
     "elapsed": 529,
     "status": "ok",
     "timestamp": 1530543440137,
     "user": {
      "displayName": "Diorge Brognara",
      "photoUrl": "https://lh3.googleusercontent.com/a/default-user=s128",
      "userId": "102180740426822979922"
     },
     "user_tz": 180
    },
    "id": "diqh92lLHV9y",
    "outputId": "15e87c99-a11a-471a-d025-aba820edb80d"
   },
   "outputs": [],
   "source": [
    "# também funciona com listas como índice, e a sintaxe abaixo é comum\n",
    "x1[[2, 4]]"
   ]
  },
  {
   "cell_type": "markdown",
   "metadata": {
    "colab_type": "text",
    "id": "fiSQ3hO3HhPq"
   },
   "source": [
    "Assim, vimos as seguintes formas de indexação:\n",
    "\n",
    "- Índices direto: `x1[2] == 8`\n",
    "- _Slicing_/intervalos: `x1[2:4] == [8, 0]`\n",
    "- Máscaras booleanas: `x1[[True, False, True, False, False]] == [5, 8]`\n",
    "- Coleção de índices: `x1[[2, 4]] == [8, 4]`\n",
    "\n",
    "Todas essas formas também funcionam com pandas. A diferença é que em pandas, os índices **não necessariamente são inteiros começando em zero**."
   ]
  },
  {
   "cell_type": "code",
   "execution_count": null,
   "metadata": {
    "colab": {
     "autoexec": {
      "startup": false,
      "wait_interval": 0
     },
     "base_uri": "https://localhost:8080/",
     "height": 74
    },
    "colab_type": "code",
    "executionInfo": {
     "elapsed": 537,
     "status": "ok",
     "timestamp": 1530543440847,
     "user": {
      "displayName": "Diorge Brognara",
      "photoUrl": "https://lh3.googleusercontent.com/a/default-user=s128",
      "userId": "102180740426822979922"
     },
     "user_tz": 180
    },
    "id": "8fyqa74FEuRl",
    "outputId": "47aa4358-a829-4912-eaaf-e4b9e7849644"
   },
   "outputs": [],
   "source": [
    "dados.columns"
   ]
  },
  {
   "cell_type": "code",
   "execution_count": null,
   "metadata": {
    "colab": {
     "autoexec": {
      "startup": false,
      "wait_interval": 0
     },
     "base_uri": "https://localhost:8080/",
     "height": 36
    },
    "colab_type": "code",
    "executionInfo": {
     "elapsed": 573,
     "status": "ok",
     "timestamp": 1530543441589,
     "user": {
      "displayName": "Diorge Brognara",
      "photoUrl": "https://lh3.googleusercontent.com/a/default-user=s128",
      "userId": "102180740426822979922"
     },
     "user_tz": 180
    },
    "id": "VZn2pgv3FJ90",
    "outputId": "d5bda2fa-6b23-44da-8029-0aeea637944f"
   },
   "outputs": [],
   "source": [
    "dados.index"
   ]
  },
  {
   "cell_type": "markdown",
   "metadata": {
    "colab_type": "text",
    "id": "Sx4KL3JGIJw2"
   },
   "source": [
    "No caso das linhas (`dados.index`), o índice é o intervalo entre 0 e 4, como indicado pelo `range(0, 5)`. Mas no caso das colunas, o **índice é o próprio nome das colunas**. Essa é a forma mais comum de tratar de DataFrames, com as colunas sendo indexadas por texto e as linhas sendo indexadas por inteiros.\n",
    "\n",
    "Além disso, apesar do `DataFrame` ser uma matriz, quando um único índice é passado, a dimensão pode ser qualquer uma das duas dependendo de qual índice se encaixa."
   ]
  },
  {
   "cell_type": "code",
   "execution_count": null,
   "metadata": {
    "colab": {
     "autoexec": {
      "startup": false,
      "wait_interval": 0
     },
     "base_uri": "https://localhost:8080/",
     "height": 130
    },
    "colab_type": "code",
    "executionInfo": {
     "elapsed": 508,
     "status": "ok",
     "timestamp": 1530543443635,
     "user": {
      "displayName": "Diorge Brognara",
      "photoUrl": "https://lh3.googleusercontent.com/a/default-user=s128",
      "userId": "102180740426822979922"
     },
     "user_tz": 180
    },
    "id": "D6P1tFimG12m",
    "outputId": "b647531c-5e42-46f0-85f4-0d3859ba546c"
   },
   "outputs": [],
   "source": [
    "dados['Quantidade de crianças']"
   ]
  },
  {
   "cell_type": "code",
   "execution_count": null,
   "metadata": {
    "colab": {
     "autoexec": {
      "startup": false,
      "wait_interval": 0
     },
     "base_uri": "https://localhost:8080/",
     "height": 112
    },
    "colab_type": "code",
    "executionInfo": {
     "elapsed": 649,
     "status": "ok",
     "timestamp": 1530543444461,
     "user": {
      "displayName": "Diorge Brognara",
      "photoUrl": "https://lh3.googleusercontent.com/a/default-user=s128",
      "userId": "102180740426822979922"
     },
     "user_tz": 180
    },
    "id": "cjrgHWj6Ic0m",
    "outputId": "9e3f8f5f-66f0-4b81-d903-6acad299f9a1"
   },
   "outputs": [],
   "source": [
    "dados[:2]"
   ]
  },
  {
   "cell_type": "markdown",
   "metadata": {
    "colab_type": "text",
    "id": "1wO5ayCjJsWn"
   },
   "source": [
    "Quando queremos selecionar nos dois eixos simultaneamente, é necessário colocar a propriedade `.loc` na frente do DataFrame para desligar o modo \"smart\" da indexação. Nesse caso, o primeiro elemento sempre é as linhas e o segundo as colunas, assim como em Numpy. A diferença é que o elemento após o `:` no _slice_ é incluso também (e não até um antes).\n",
    "\n",
    "Ainda podemos colocar `.iloc` para tratar os índices como se fossem inteiros. Isso não altera a forma de indexação, essa transformação é somente para o comando que utiliza o `iloc` (veja abaixo que o nome da Series ainda é \"Possui débito\").\n",
    "\n",
    "Lembre que é possível criar um _slice_ sem nem início nem fim (representado somente por `:`); nesse caso, todos os elementos daquele eixo são selecionados."
   ]
  },
  {
   "cell_type": "code",
   "execution_count": null,
   "metadata": {
    "colab": {
     "autoexec": {
      "startup": false,
      "wait_interval": 0
     },
     "base_uri": "https://localhost:8080/",
     "height": 143
    },
    "colab_type": "code",
    "executionInfo": {
     "elapsed": 547,
     "status": "ok",
     "timestamp": 1530543445163,
     "user": {
      "displayName": "Diorge Brognara",
      "photoUrl": "https://lh3.googleusercontent.com/a/default-user=s128",
      "userId": "102180740426822979922"
     },
     "user_tz": 180
    },
    "id": "0G8ImUdwJKIG",
    "outputId": "0e9924de-b0c4-46ca-af3d-a7361cd23019"
   },
   "outputs": [],
   "source": [
    "dados.loc[:2,\n",
    "          ['Quantidade de crianças',\n",
    "           'Renda familiar (salários mínimos)']]"
   ]
  },
  {
   "cell_type": "code",
   "execution_count": null,
   "metadata": {
    "colab": {
     "autoexec": {
      "startup": false,
      "wait_interval": 0
     },
     "base_uri": "https://localhost:8080/",
     "height": 149
    },
    "colab_type": "code",
    "executionInfo": {
     "elapsed": 543,
     "status": "ok",
     "timestamp": 1530543445856,
     "user": {
      "displayName": "Diorge Brognara",
      "photoUrl": "https://lh3.googleusercontent.com/a/default-user=s128",
      "userId": "102180740426822979922"
     },
     "user_tz": 180
    },
    "id": "vrh0yIvIJiJb",
    "outputId": "d25c8142-0c88-4653-9e1e-c311889eed5f"
   },
   "outputs": [],
   "source": [
    "dados.iloc[:, 0]"
   ]
  },
  {
   "cell_type": "markdown",
   "metadata": {
    "colab_type": "text",
    "id": "ZViMCHjTK5xl"
   },
   "source": [
    "Note que é possível alterar o método de indexação, mesmo para as linhas."
   ]
  },
  {
   "cell_type": "code",
   "execution_count": null,
   "metadata": {
    "colab": {
     "autoexec": {
      "startup": false,
      "wait_interval": 0
     },
     "base_uri": "https://localhost:8080/",
     "height": 206
    },
    "colab_type": "code",
    "executionInfo": {
     "elapsed": 520,
     "status": "ok",
     "timestamp": 1530543446586,
     "user": {
      "displayName": "Diorge Brognara",
      "photoUrl": "https://lh3.googleusercontent.com/a/default-user=s128",
      "userId": "102180740426822979922"
     },
     "user_tz": 180
    },
    "id": "T-q8WID0KCFM",
    "outputId": "dc79584d-3f5d-49ec-e335-8c1ac57a9bd2"
   },
   "outputs": [],
   "source": [
    "dados.index = pd.Index(['Alfredo', 'Beatriz', 'Carlos', 'Diana', 'Eduardo'])\n",
    "dados"
   ]
  },
  {
   "cell_type": "code",
   "execution_count": null,
   "metadata": {
    "colab": {
     "autoexec": {
      "startup": false,
      "wait_interval": 0
     },
     "base_uri": "https://localhost:8080/",
     "height": 36
    },
    "colab_type": "code",
    "executionInfo": {
     "elapsed": 750,
     "status": "ok",
     "timestamp": 1530543447508,
     "user": {
      "displayName": "Diorge Brognara",
      "photoUrl": "https://lh3.googleusercontent.com/a/default-user=s128",
      "userId": "102180740426822979922"
     },
     "user_tz": 180
    },
    "id": "WYFfG5T_LHIC",
    "outputId": "e2ea502a-fc0d-4b79-e348-43679e2e201f"
   },
   "outputs": [],
   "source": [
    "dados.loc['Beatriz', 'Quantidade de crianças']"
   ]
  },
  {
   "cell_type": "code",
   "execution_count": null,
   "metadata": {
    "colab": {
     "autoexec": {
      "startup": false,
      "wait_interval": 0
     },
     "base_uri": "https://localhost:8080/",
     "height": 149
    },
    "colab_type": "code",
    "executionInfo": {
     "elapsed": 529,
     "status": "ok",
     "timestamp": 1530543448344,
     "user": {
      "displayName": "Diorge Brognara",
      "photoUrl": "https://lh3.googleusercontent.com/a/default-user=s128",
      "userId": "102180740426822979922"
     },
     "user_tz": 180
    },
    "id": "cP32KfmvLKNa",
    "outputId": "112b3e72-dfe7-44e7-c8ed-e03194d39e20"
   },
   "outputs": [],
   "source": [
    "# no caso que ambos os índices são de texto\n",
    "# o modo smart assume que trata de colunas\n",
    "dados['Possui débito']"
   ]
  },
  {
   "cell_type": "code",
   "execution_count": null,
   "metadata": {
    "colab": {
     "autoexec": {
      "startup": false,
      "wait_interval": 0
     }
    },
    "colab_type": "code",
    "id": "UxrNmrtGLQYN"
   },
   "outputs": [],
   "source": [
    "# só voltando para configuração padrão\n",
    "dados.index = pd.RangeIndex(0, 5)"
   ]
  },
  {
   "cell_type": "markdown",
   "metadata": {
    "colab_type": "text",
    "id": "Bo-AfHnRMvj-"
   },
   "source": [
    "Só para reforçar: todas as formas de indexação do numpy funcionam com pandas. E como essas operações retornam um novo DataFrame$^1$ e não alteram o original, é possível \"encadear\" as operações. Dessa forma, basicamente temos as operações SELECT e WHERE do SQL (seleção vertical, seleção horizontal e filtragem por condição), além de algumas operações de agregação que o Numpy oferece (média, soma, etc).\n",
    "\n",
    "$^1$: mais ou menos. Geralmente se retorna uma _view_ do DataFrame original, mas pode depender da operação e mesmo da versão do pandas."
   ]
  },
  {
   "cell_type": "code",
   "execution_count": null,
   "metadata": {
    "colab": {
     "autoexec": {
      "startup": false,
      "wait_interval": 0
     },
     "base_uri": "https://localhost:8080/",
     "height": 143
    },
    "colab_type": "code",
    "executionInfo": {
     "elapsed": 530,
     "status": "ok",
     "timestamp": 1530543449728,
     "user": {
      "displayName": "Diorge Brognara",
      "photoUrl": "https://lh3.googleusercontent.com/a/default-user=s128",
      "userId": "102180740426822979922"
     },
     "user_tz": 180
    },
    "id": "Z5dyqoeWMz7E",
    "outputId": "338ed9b8-2cdd-4a36-efc4-795419bd3907"
   },
   "outputs": [],
   "source": [
    "dados[dados['Possui débito'] == 'Sim']"
   ]
  },
  {
   "cell_type": "code",
   "execution_count": null,
   "metadata": {
    "colab": {
     "autoexec": {
      "startup": false,
      "wait_interval": 0
     },
     "base_uri": "https://localhost:8080/",
     "height": 92
    },
    "colab_type": "code",
    "executionInfo": {
     "elapsed": 755,
     "status": "ok",
     "timestamp": 1530543450625,
     "user": {
      "displayName": "Diorge Brognara",
      "photoUrl": "https://lh3.googleusercontent.com/a/default-user=s128",
      "userId": "102180740426822979922"
     },
     "user_tz": 180
    },
    "id": "aA_yMz7vM4A3",
    "outputId": "aff7e489-1a72-48ab-d136-aa9bd6de0981"
   },
   "outputs": [],
   "source": [
    "(dados[dados['Quantidade de crianças'] >= 4]\n",
    " ['Renda familiar (salários mínimos)'])"
   ]
  },
  {
   "cell_type": "code",
   "execution_count": null,
   "metadata": {},
   "outputs": [],
   "source": [
    "dados.loc[dados['Quantidade de crianças'] >= 4, 'Renda familiar (salários mínimos)']"
   ]
  },
  {
   "cell_type": "markdown",
   "metadata": {
    "colab_type": "text",
    "id": "--86atT_N5A3"
   },
   "source": [
    "Para utilizar os operadores lógicos **e** e **ou** dentro de uma indexação, são utilizados os símbolos `&` e `|`, respectivamente. É obrigatório colocar parêntesis em cada um dos lados, no entanto."
   ]
  },
  {
   "cell_type": "code",
   "execution_count": null,
   "metadata": {
    "colab": {
     "autoexec": {
      "startup": false,
      "wait_interval": 0
     },
     "base_uri": "https://localhost:8080/",
     "height": 81
    },
    "colab_type": "code",
    "executionInfo": {
     "elapsed": 540,
     "status": "ok",
     "timestamp": 1530543451336,
     "user": {
      "displayName": "Diorge Brognara",
      "photoUrl": "https://lh3.googleusercontent.com/a/default-user=s128",
      "userId": "102180740426822979922"
     },
     "user_tz": 180
    },
    "id": "wkXBlPbFODHW",
    "outputId": "86c79a63-6ea0-45fc-fa04-0acbd58ead56"
   },
   "outputs": [],
   "source": [
    "dados[ (dados['Possui débito'] == 'Não') &\n",
    "    (dados['Quantidade de crianças'] <= 4)]"
   ]
  },
  {
   "cell_type": "markdown",
   "metadata": {
    "colab_type": "text",
    "id": "5fZFqf_DMDsi"
   },
   "source": [
    "## Atribuição\n",
    "\n",
    "É possível atribuir valores para células diretamente, assim como com vetores. Mais interessante, se a atribuição é num índice textual que ainda não existe, uma nova coluna é criada."
   ]
  },
  {
   "cell_type": "code",
   "execution_count": null,
   "metadata": {
    "colab": {
     "autoexec": {
      "startup": false,
      "wait_interval": 0
     },
     "base_uri": "https://localhost:8080/",
     "height": 206
    },
    "colab_type": "code",
    "executionInfo": {
     "elapsed": 536,
     "status": "ok",
     "timestamp": 1530543452126,
     "user": {
      "displayName": "Diorge Brognara",
      "photoUrl": "https://lh3.googleusercontent.com/a/default-user=s128",
      "userId": "102180740426822979922"
     },
     "user_tz": 180
    },
    "id": "iM8m-QNPLxnL",
    "outputId": "aca59bb4-420e-412c-80c7-4e1174a6f796"
   },
   "outputs": [],
   "source": [
    "dados"
   ]
  },
  {
   "cell_type": "code",
   "execution_count": null,
   "metadata": {
    "colab": {
     "autoexec": {
      "startup": false,
      "wait_interval": 0
     },
     "base_uri": "https://localhost:8080/",
     "height": 206
    },
    "colab_type": "code",
    "executionInfo": {
     "elapsed": 539,
     "status": "ok",
     "timestamp": 1530543452793,
     "user": {
      "displayName": "Diorge Brognara",
      "photoUrl": "https://lh3.googleusercontent.com/a/default-user=s128",
      "userId": "102180740426822979922"
     },
     "user_tz": 180
    },
    "id": "1xJnsuZDMSVZ",
    "outputId": "171f86c6-038b-4d5b-9708-3c2682d60a54"
   },
   "outputs": [],
   "source": [
    "dados.loc[3, 'Possui débito'] = 'Não'\n",
    "dados"
   ]
  },
  {
   "cell_type": "code",
   "execution_count": null,
   "metadata": {
    "colab": {
     "autoexec": {
      "startup": false,
      "wait_interval": 0
     },
     "base_uri": "https://localhost:8080/",
     "height": 206
    },
    "colab_type": "code",
    "executionInfo": {
     "elapsed": 576,
     "status": "ok",
     "timestamp": 1530543453536,
     "user": {
      "displayName": "Diorge Brognara",
      "photoUrl": "https://lh3.googleusercontent.com/a/default-user=s128",
      "userId": "102180740426822979922"
     },
     "user_tz": 180
    },
    "id": "_QMaF49nMZSd",
    "outputId": "a9eef414-4982-4371-ce0e-a2bab38b7169"
   },
   "outputs": [],
   "source": [
    "dados['Tem carro'] = pd.Categorical(['Não', 'Sim', 'Sim', 'Não', 'Sim'])\n",
    "dados"
   ]
  },
  {
   "cell_type": "markdown",
   "metadata": {
    "colab_type": "text",
    "id": "NV9OxPMZObvQ"
   },
   "source": [
    "## Visualizações e estatísticas básicas\n",
    "\n",
    "O pandas já nos dá algumas funções prontas para visualização e estatísticas que são comumente aplicadas."
   ]
  },
  {
   "cell_type": "code",
   "execution_count": null,
   "metadata": {
    "colab": {
     "autoexec": {
      "startup": false,
      "wait_interval": 0
     },
     "base_uri": "https://localhost:8080/",
     "height": 280
    },
    "colab_type": "code",
    "executionInfo": {
     "elapsed": 535,
     "status": "ok",
     "timestamp": 1530543454218,
     "user": {
      "displayName": "Diorge Brognara",
      "photoUrl": "https://lh3.googleusercontent.com/a/default-user=s128",
      "userId": "102180740426822979922"
     },
     "user_tz": 180
    },
    "id": "mebtmYwuMasm",
    "outputId": "b6bc0b86-888d-4827-803e-de05fb8b120d"
   },
   "outputs": [],
   "source": [
    "dados.hist(bins=3);"
   ]
  },
  {
   "cell_type": "code",
   "execution_count": null,
   "metadata": {
    "colab": {
     "autoexec": {
      "startup": false,
      "wait_interval": 0
     },
     "base_uri": "https://localhost:8080/",
     "height": 265
    },
    "colab_type": "code",
    "executionInfo": {
     "elapsed": 862,
     "status": "ok",
     "timestamp": 1530543455218,
     "user": {
      "displayName": "Diorge Brognara",
      "photoUrl": "https://lh3.googleusercontent.com/a/default-user=s128",
      "userId": "102180740426822979922"
     },
     "user_tz": 180
    },
    "id": "0GKv5GEVOvou",
    "outputId": "a93fded2-f3ee-48e7-b1f6-6a10890daf6e"
   },
   "outputs": [],
   "source": [
    "dados.plot();"
   ]
  },
  {
   "cell_type": "code",
   "execution_count": null,
   "metadata": {
    "colab": {
     "autoexec": {
      "startup": false,
      "wait_interval": 0
     },
     "base_uri": "https://localhost:8080/",
     "height": 261
    },
    "colab_type": "code",
    "executionInfo": {
     "elapsed": 597,
     "status": "ok",
     "timestamp": 1530543455986,
     "user": {
      "displayName": "Diorge Brognara",
      "photoUrl": "https://lh3.googleusercontent.com/a/default-user=s128",
      "userId": "102180740426822979922"
     },
     "user_tz": 180
    },
    "id": "asOKBVV1PCVp",
    "outputId": "4372386c-21b1-461b-fd21-378fc00afd54"
   },
   "outputs": [],
   "source": [
    "dados.plot(kind='bar');\n",
    "#dados.plot.bar(); # equivalente"
   ]
  },
  {
   "cell_type": "code",
   "execution_count": null,
   "metadata": {
    "colab": {
     "autoexec": {
      "startup": false,
      "wait_interval": 0
     },
     "base_uri": "https://localhost:8080/",
     "height": 265
    },
    "colab_type": "code",
    "executionInfo": {
     "elapsed": 634,
     "status": "ok",
     "timestamp": 1530543456785,
     "user": {
      "displayName": "Diorge Brognara",
      "photoUrl": "https://lh3.googleusercontent.com/a/default-user=s128",
      "userId": "102180740426822979922"
     },
     "user_tz": 180
    },
    "id": "bRTIlbbyPF4q",
    "outputId": "b209e29c-404b-4e73-f166-f9ea702030b8"
   },
   "outputs": [],
   "source": [
    "dados.plot(kind='box');"
   ]
  },
  {
   "cell_type": "code",
   "execution_count": null,
   "metadata": {
    "colab": {
     "autoexec": {
      "startup": false,
      "wait_interval": 0
     },
     "base_uri": "https://localhost:8080/",
     "height": 279
    },
    "colab_type": "code",
    "executionInfo": {
     "elapsed": 637,
     "status": "ok",
     "timestamp": 1530545735995,
     "user": {
      "displayName": "Diorge Brognara",
      "photoUrl": "https://lh3.googleusercontent.com/a/default-user=s128",
      "userId": "102180740426822979922"
     },
     "user_tz": 180
    },
    "id": "j6yY141OPTo3",
    "outputId": "23bdf1de-9f13-45c9-8539-936e61936cb6"
   },
   "outputs": [],
   "source": [
    "# o parâmetro s é o tamanho do marcador\n",
    "# diferente do padrão matplotlib, o pandas cria um gráfico por chamada de função, e não um por célula\n",
    "# para criar múltiplos gráficos juntos, é utilizado o parâmetro ax (entenda-se \"utilize o mesmo eixo\")\n",
    "\n",
    "ax = (dados[dados['Possui débito'] == 'Sim'].plot\n",
    "      .scatter(x='Quantidade de crianças',\n",
    "               y='Renda familiar (salários mínimos)',\n",
    "               c='red', marker='*', s=80,\n",
    "               label='Com débito'))\n",
    "dados[dados['Possui débito'] == 'Não'].plot.scatter(x='Quantidade de crianças', y='Renda familiar (salários mínimos)', c='black', marker='*', s=80, label='Sem débito', ax=ax);"
   ]
  },
  {
   "cell_type": "code",
   "execution_count": null,
   "metadata": {
    "colab": {
     "autoexec": {
      "startup": false,
      "wait_interval": 0
     },
     "base_uri": "https://localhost:8080/",
     "height": 112
    },
    "colab_type": "code",
    "executionInfo": {
     "elapsed": 604,
     "status": "ok",
     "timestamp": 1530543458640,
     "user": {
      "displayName": "Diorge Brognara",
      "photoUrl": "https://lh3.googleusercontent.com/a/default-user=s128",
      "userId": "102180740426822979922"
     },
     "user_tz": 180
    },
    "id": "Px2fhI1JOpUC",
    "outputId": "ee9b85a0-9043-4947-9001-b5f876736047"
   },
   "outputs": [],
   "source": [
    "dados.corr()"
   ]
  },
  {
   "cell_type": "code",
   "execution_count": null,
   "metadata": {
    "colab": {
     "autoexec": {
      "startup": false,
      "wait_interval": 0
     },
     "base_uri": "https://localhost:8080/",
     "height": 112
    },
    "colab_type": "code",
    "executionInfo": {
     "elapsed": 654,
     "status": "ok",
     "timestamp": 1530543459453,
     "user": {
      "displayName": "Diorge Brognara",
      "photoUrl": "https://lh3.googleusercontent.com/a/default-user=s128",
      "userId": "102180740426822979922"
     },
     "user_tz": 180
    },
    "id": "AKyV24pqQn7P",
    "outputId": "7d3fef38-101b-4caf-91f9-ef8dda2dea27"
   },
   "outputs": [],
   "source": [
    "dados.cov()"
   ]
  },
  {
   "cell_type": "code",
   "execution_count": null,
   "metadata": {
    "colab": {
     "autoexec": {
      "startup": false,
      "wait_interval": 0
     },
     "base_uri": "https://localhost:8080/",
     "height": 74
    },
    "colab_type": "code",
    "executionInfo": {
     "elapsed": 729,
     "status": "ok",
     "timestamp": 1530543460532,
     "user": {
      "displayName": "Diorge Brognara",
      "photoUrl": "https://lh3.googleusercontent.com/a/default-user=s128",
      "userId": "102180740426822979922"
     },
     "user_tz": 180
    },
    "id": "jd-Lf69fQtfD",
    "outputId": "669f10c2-c861-499d-eb48-e9e20c8be31e"
   },
   "outputs": [],
   "source": [
    "dados.kurtosis()"
   ]
  },
  {
   "cell_type": "markdown",
   "metadata": {
    "colab_type": "text",
    "id": "LOYP2TpdRuh9"
   },
   "source": [
    "E por fim se lembre, cada coluna é uma `Series`, e as series funcionam como `ndarrays`. Logo, operações vetoriais funcionam com as colunas de um `DataFrame`."
   ]
  },
  {
   "cell_type": "code",
   "execution_count": null,
   "metadata": {
    "colab": {
     "autoexec": {
      "startup": false,
      "wait_interval": 0
     },
     "base_uri": "https://localhost:8080/",
     "height": 130
    },
    "colab_type": "code",
    "executionInfo": {
     "elapsed": 536,
     "status": "ok",
     "timestamp": 1530543461201,
     "user": {
      "displayName": "Diorge Brognara",
      "photoUrl": "https://lh3.googleusercontent.com/a/default-user=s128",
      "userId": "102180740426822979922"
     },
     "user_tz": 180
    },
    "id": "31ZdML9xQzwH",
    "outputId": "8fe729ca-da26-49c5-bed5-3a163e5e1e8e"
   },
   "outputs": [],
   "source": [
    "(dados['Quantidade de crianças']\n",
    " / dados['Renda familiar (salários mínimos)'])"
   ]
  }
 ],
 "metadata": {
  "colab": {
   "collapsed_sections": [],
   "default_view": {},
   "name": "introducao-pandas.ipynb",
   "provenance": [],
   "version": "0.3.2",
   "views": {}
  },
  "kernelspec": {
   "display_name": "Python 3",
   "language": "python",
   "name": "python3"
  },
  "language_info": {
   "codemirror_mode": {
    "name": "ipython",
    "version": 3
   },
   "file_extension": ".py",
   "mimetype": "text/x-python",
   "name": "python",
   "nbconvert_exporter": "python",
   "pygments_lexer": "ipython3",
   "version": "3.6.4"
  }
 },
 "nbformat": 4,
 "nbformat_minor": 1
}
