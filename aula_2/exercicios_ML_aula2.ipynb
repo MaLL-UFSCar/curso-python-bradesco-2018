{
 "cells": [
  {
   "cell_type": "code",
   "execution_count": 1,
   "metadata": {},
   "outputs": [],
   "source": [
    "import numpy as np\n",
    "import pandas as pd\n",
    "from sklearn.datasets import load_wine"
   ]
  },
  {
   "cell_type": "code",
   "execution_count": 2,
   "metadata": {},
   "outputs": [],
   "source": [
    "x = np.array([-2.5,  -2, -1.76,  -1, -0.2, 0.5, 0.8, 1.0, 1.1])\n",
    "y = np.array([4.21, 2.5,  1.4, 1.37, 2.29, 2.4, 3.98, 1.2, 0.99])"
   ]
  },
  {
   "cell_type": "markdown",
   "metadata": {},
   "source": [
    "**Exercício 1:** Faça regressões lineares sobre esses dados, utilizando as seguintes configurações:\n",
    "\n",
    "- Uma reta\n",
    "- Um polinômio de grau 2 com penalidade Lasso\n",
    "- A regressão que achar mais adequada.\n",
    "\n",
    "Visualize as três regressões.\n",
    "\n",
    "Existem pontos nesse conjunto que você consideraria um _outlier_?"
   ]
  },
  {
   "cell_type": "markdown",
   "metadata": {},
   "source": [
    "Considere a base de dados Wine, contém a classificação de vinhos de acordo com algumas propriedades numéricas, presente no pacote `sklearn.datasets`.\n",
    "\n",
    "**Exercício 2:**\n",
    "\n",
    "1. Separe os dados da base Wine entre treino e teste, com 60% dos dados para treino e 40% para teste\n",
    "2. Crie uma árvore de classificação utilizando os dados de treino, com altura máxima 4\n",
    "3. Visualize as regras da árvore treinada\n",
    "4. Calcule a matriz de confusão do modelo\n"
   ]
  },
  {
   "cell_type": "code",
   "execution_count": 3,
   "metadata": {},
   "outputs": [],
   "source": [
    "df = pd.DataFrame(load_wine().data, columns=load_wine().feature_names)\n",
    "df['target'] = load_wine().target"
   ]
  }
 ],
 "metadata": {
  "kernelspec": {
   "display_name": "Python 3",
   "language": "python",
   "name": "python3"
  },
  "language_info": {
   "codemirror_mode": {
    "name": "ipython",
    "version": 3
   },
   "file_extension": ".py",
   "mimetype": "text/x-python",
   "name": "python",
   "nbconvert_exporter": "python",
   "pygments_lexer": "ipython3",
   "version": "3.6.4"
  }
 },
 "nbformat": 4,
 "nbformat_minor": 2
}
