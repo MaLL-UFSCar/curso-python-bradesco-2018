{
 "cells": [
  {
   "cell_type": "markdown",
   "metadata": {
    "slideshow": {
     "slide_type": "slide"
    }
   },
   "source": [
    "# 1. Configurando o ambiente"
   ]
  },
  {
   "cell_type": "code",
   "execution_count": null,
   "metadata": {
    "slideshow": {
     "slide_type": "fragment"
    }
   },
   "outputs": [],
   "source": [
    "import pandas as pd\n",
    "import numpy as np\n",
    "\n",
    "from sklearn.neural_network import MLPRegressor\n",
    "from sklearn.neighbors import KNeighborsRegressor\n",
    "from sklearn.neural_network import MLPClassifier\n",
    "\n",
    "from sklearn.metrics import mean_absolute_error\n",
    "from sklearn.metrics import accuracy_score\n",
    "\n",
    "from sklearn.preprocessing import MinMaxScaler\n",
    "\n",
    "import matplotlib.pyplot as plt\n",
    "\n",
    "%matplotlib inline"
   ]
  },
  {
   "cell_type": "markdown",
   "metadata": {
    "slideshow": {
     "slide_type": "slide"
    }
   },
   "source": [
    "# 2. Pré-processamento dos dados\n",
    "## 2.1. Carregando os dados"
   ]
  },
  {
   "cell_type": "code",
   "execution_count": null,
   "metadata": {
    "slideshow": {
     "slide_type": "fragment"
    }
   },
   "outputs": [],
   "source": [
    "df = pd.read_csv('google.csv')\n",
    "df.head()"
   ]
  },
  {
   "cell_type": "code",
   "execution_count": null,
   "metadata": {},
   "outputs": [],
   "source": [
    "df.index"
   ]
  },
  {
   "cell_type": "code",
   "execution_count": null,
   "metadata": {
    "slideshow": {
     "slide_type": "subslide"
    }
   },
   "outputs": [],
   "source": [
    "#Definindo o index do dataset convertendo o formato dos dados para 'datetime'\n",
    "df.index = pd.to_datetime(df['Date'])"
   ]
  },
  {
   "cell_type": "code",
   "execution_count": null,
   "metadata": {
    "slideshow": {
     "slide_type": "fragment"
    }
   },
   "outputs": [],
   "source": [
    "df.index"
   ]
  },
  {
   "cell_type": "code",
   "execution_count": null,
   "metadata": {},
   "outputs": [],
   "source": [
    "df = df.drop(columns=['Date'])"
   ]
  },
  {
   "cell_type": "code",
   "execution_count": null,
   "metadata": {
    "slideshow": {
     "slide_type": "fragment"
    }
   },
   "outputs": [],
   "source": [
    "df.head()"
   ]
  },
  {
   "cell_type": "markdown",
   "metadata": {
    "slideshow": {
     "slide_type": "subslide"
    }
   },
   "source": [
    "## 2.3. Transformação dos dados"
   ]
  },
  {
   "cell_type": "markdown",
   "metadata": {},
   "source": [
    "Gerando novos atributos a partir dos dados já existentes"
   ]
  },
  {
   "cell_type": "code",
   "execution_count": null,
   "metadata": {
    "slideshow": {
     "slide_type": "fragment"
    }
   },
   "outputs": [],
   "source": [
    "#Percentual de variação entre alta e baixa\n",
    "df['HL_PCT'] = (df['Adj. High']-df['Adj. Close']) / df['Adj. Close'] * 100.0"
   ]
  },
  {
   "cell_type": "code",
   "execution_count": null,
   "metadata": {
    "slideshow": {
     "slide_type": "fragment"
    }
   },
   "outputs": [],
   "source": [
    "#Percentual de mudança entre abertura e fechamento\n",
    "df['PCT_change'] = (df['Adj. Close']-df['Adj. Open']) / df['Adj. Open'] * 100.0"
   ]
  },
  {
   "cell_type": "markdown",
   "metadata": {
    "slideshow": {
     "slide_type": "subslide"
    }
   },
   "source": [
    "### Rolling\n",
    "Permite realizar cálculos com janela deslizante."
   ]
  },
  {
   "cell_type": "code",
   "execution_count": null,
   "metadata": {
    "slideshow": {
     "slide_type": "fragment"
    }
   },
   "outputs": [],
   "source": [
    "#Média móvel\n",
    "df['Adj. Close Mean'] = df['Adj. Close'].rolling(6).mean()"
   ]
  },
  {
   "cell_type": "code",
   "execution_count": null,
   "metadata": {},
   "outputs": [],
   "source": [
    "#Opção binária\n",
    "df['Adj. Close_b'] = df['Adj. Close'] > df['Adj. Open']"
   ]
  },
  {
   "cell_type": "code",
   "execution_count": null,
   "metadata": {
    "slideshow": {
     "slide_type": "fragment"
    }
   },
   "outputs": [],
   "source": [
    "df['2004-08-19':'2004-08-29']"
   ]
  },
  {
   "cell_type": "code",
   "execution_count": null,
   "metadata": {
    "slideshow": {
     "slide_type": "fragment"
    }
   },
   "outputs": [],
   "source": [
    "#Seleção de atributos\n",
    "df_forecast = pd.DataFrame(df['Adj. Close'])"
   ]
  },
  {
   "cell_type": "code",
   "execution_count": null,
   "metadata": {
    "scrolled": true
   },
   "outputs": [],
   "source": [
    "df_forecast.head()"
   ]
  },
  {
   "cell_type": "code",
   "execution_count": null,
   "metadata": {},
   "outputs": [],
   "source": [
    "df_forecast.isna().sum()"
   ]
  },
  {
   "cell_type": "code",
   "execution_count": null,
   "metadata": {},
   "outputs": [],
   "source": [
    "#Convertendo a série temporal em uma frequência específica\n",
    "df_forecast = df_forecast.asfreq(freq='B')"
   ]
  },
  {
   "cell_type": "markdown",
   "metadata": {
    "slideshow": {
     "slide_type": "fragment"
    }
   },
   "source": [
    "Time rule strings:\n",
    "\n",
    "B:  business day\n",
    "\n",
    "D:  calendar day;\n",
    "\n",
    "W:  weekly;\n",
    "\n",
    "M:  month;\n",
    "\n",
    "A:  year end;\n",
    "\n",
    "AS: year start."
   ]
  },
  {
   "cell_type": "code",
   "execution_count": null,
   "metadata": {},
   "outputs": [],
   "source": [
    "df_forecast.isna().sum()"
   ]
  },
  {
   "cell_type": "markdown",
   "metadata": {},
   "source": [
    "Técnicas para tratamento de dados ausentes:\n",
    "\n",
    "## 2.4. Imputação\n",
    "\n",
    "1. Eliminar\n",
    "2. Prenchimento manual\n",
    "3. Algoritmos de AM\n",
    "4. Métodos heurísticos\n",
    "    1. Novo valor\n",
    "    2. Média / Moda\n",
    "\n",
    "Ferramentas disponíveis em python:\n",
    "1. fillna\n",
    "2. Interpolate"
   ]
  },
  {
   "cell_type": "markdown",
   "metadata": {},
   "source": [
    "### 2.4.1. Fillna\n",
    "[Ir](5-2-fillna.ipynb)\n",
    "\n",
    "### 2.4.2. interpolate\n",
    "É um método com o qual é possível construir um conjunto de dados a partir de outro conjunto de dados pontuais"
   ]
  },
  {
   "cell_type": "markdown",
   "metadata": {},
   "source": [
    "##### linear\n",
    "\n",
    "Ignora o index e trata os valores como estivessem igualmente separados"
   ]
  },
  {
   "cell_type": "code",
   "execution_count": null,
   "metadata": {},
   "outputs": [],
   "source": [
    "df_forecast['adj_close_i'] = df_forecast['Adj. Close'].interpolate(method='linear')"
   ]
  },
  {
   "cell_type": "code",
   "execution_count": null,
   "metadata": {},
   "outputs": [],
   "source": [
    "df_forecast.isna().sum()"
   ]
  },
  {
   "cell_type": "code",
   "execution_count": null,
   "metadata": {},
   "outputs": [],
   "source": [
    "#Estudo de caso\n",
    "df_forecast['2005-09-01':'2005-09-08']"
   ]
  },
  {
   "cell_type": "code",
   "execution_count": null,
   "metadata": {},
   "outputs": [],
   "source": [
    "fig, ax = plt.subplots()\n",
    "\n",
    "ax.plot(df_forecast['2005-09-01':'2005-09-08'].index.values,\n",
    "        df_forecast['2005-09-01':'2005-09-08'].adj_close_i.values,\n",
    "        alpha=0.5)\n",
    "ax.scatter(df_forecast['2005-09-01':'2005-09-08'].index.values,\n",
    "        df_forecast['2005-09-01':'2005-09-08']['Adj. Close'].values,\n",
    "        c='r',\n",
    "        alpha=0.5)\n",
    "\n",
    "fig.autofmt_xdate()"
   ]
  },
  {
   "cell_type": "code",
   "execution_count": null,
   "metadata": {},
   "outputs": [],
   "source": [
    "df_forecast = df_forecast.drop(columns=['Adj. Close'])\n",
    "df_forecast.head()"
   ]
  },
  {
   "cell_type": "markdown",
   "metadata": {
    "slideshow": {
     "slide_type": "subslide"
    }
   },
   "source": [
    "# Lag com Shift\n",
    "\n",
    "Lag é uma operação estatística que produz os elementos anteriores de uma série temporal."
   ]
  },
  {
   "cell_type": "code",
   "execution_count": null,
   "metadata": {},
   "outputs": [],
   "source": [
    "#Gerando lag para os últimos 4 dias\n",
    "for lag in range(1,5):\n",
    "    df_forecast['adj_close' + ' t-' + str(lag)] = df_forecast['adj_close_i'].shift(lag)"
   ]
  },
  {
   "cell_type": "code",
   "execution_count": null,
   "metadata": {},
   "outputs": [],
   "source": [
    "df_forecast.head()"
   ]
  },
  {
   "cell_type": "code",
   "execution_count": null,
   "metadata": {
    "scrolled": true
   },
   "outputs": [],
   "source": [
    "#removendo dados faltantes\n",
    "df_forecast = df_forecast.dropna()\n",
    "df_forecast.head()"
   ]
  },
  {
   "cell_type": "markdown",
   "metadata": {},
   "source": [
    "# 3. Predição"
   ]
  },
  {
   "cell_type": "code",
   "execution_count": null,
   "metadata": {},
   "outputs": [],
   "source": [
    "#separando atributo alvo\n",
    "x = df_forecast.drop(columns=['adj_close_i']).values\n",
    "y = df_forecast['adj_close_i'].values"
   ]
  },
  {
   "cell_type": "code",
   "execution_count": null,
   "metadata": {},
   "outputs": [],
   "source": [
    "x.shape"
   ]
  },
  {
   "cell_type": "code",
   "execution_count": null,
   "metadata": {},
   "outputs": [],
   "source": [
    "#Separando dados entre treino e teste\n",
    "xtrain = x[:-100]\n",
    "xtest = x[-100:]\n",
    "ytrain = y[:-100]\n",
    "ytest = y[-100:]"
   ]
  },
  {
   "cell_type": "code",
   "execution_count": null,
   "metadata": {},
   "outputs": [],
   "source": [
    "xtrain.shape"
   ]
  },
  {
   "cell_type": "code",
   "execution_count": null,
   "metadata": {},
   "outputs": [],
   "source": [
    "xtest.shape"
   ]
  },
  {
   "cell_type": "markdown",
   "metadata": {},
   "source": [
    "### Multi-layer Perceptron\n"
   ]
  },
  {
   "cell_type": "code",
   "execution_count": null,
   "metadata": {},
   "outputs": [],
   "source": [
    "#instanciando e treinando o modelo de regressão com redes neurais\n",
    "model = MLPRegressor(hidden_layer_sizes=(100, 60, 20), activation='relu', max_iter=1000)\n",
    "model.fit(xtrain, ytrain)\n",
    "pred = model.predict(xtest)"
   ]
  },
  {
   "cell_type": "code",
   "execution_count": null,
   "metadata": {},
   "outputs": [],
   "source": [
    "#Avaliação do modelo por Erro Absoluto Médio (MAE)\n",
    "mean_absolute_error(y_true=ytest, y_pred=pred)"
   ]
  },
  {
   "cell_type": "code",
   "execution_count": null,
   "metadata": {},
   "outputs": [],
   "source": [
    "#Análise gráfica\n",
    "a = df_forecast.index[-500:]\n",
    "fig, ax = plt.subplots()\n",
    "ax.plot(a, y[-500:])\n",
    "ax.plot(a[-100:], model.predict(xtest), c='r')\n",
    "fig.autofmt_xdate()"
   ]
  },
  {
   "cell_type": "code",
   "execution_count": null,
   "metadata": {},
   "outputs": [],
   "source": [
    "#Utiliza os dados do dia anterior para fazer a predição\n",
    "y_magico = df_forecast['adj_close_i'].shift(1)[-100:]\n",
    "mean_absolute_error(y_true=ytest, y_pred=y_magico)"
   ]
  },
  {
   "cell_type": "code",
   "execution_count": null,
   "metadata": {},
   "outputs": [],
   "source": [
    "a = df_forecast.index[-100:]\n",
    "fig, ax = plt.subplots()\n",
    "ax.plot(a, y[-100:])\n",
    "ax.plot(a[-100:], y_magico, c='r')\n",
    "fig.autofmt_xdate()"
   ]
  },
  {
   "cell_type": "code",
   "execution_count": null,
   "metadata": {},
   "outputs": [],
   "source": [
    "#Opções binárias\n",
    "y_b = df_forecast['adj_close_i'] > df_forecast['adj_close_i'].shift(1)"
   ]
  },
  {
   "cell_type": "code",
   "execution_count": null,
   "metadata": {},
   "outputs": [],
   "source": [
    "#separando os dados de treino e teste\n",
    "y_b_train = y_b[:-100]\n",
    "y_b_test = y_b[-100:]"
   ]
  },
  {
   "cell_type": "code",
   "execution_count": null,
   "metadata": {},
   "outputs": [],
   "source": [
    "#Instanciando e treinando um classificador com redes neurais\n",
    "model = MLPClassifier(hidden_layer_sizes=(100, 60, 20), activation='relu', max_iter=1000)\n",
    "model.fit(xtrain, y_b_train)\n",
    "pred = model.predict(xtest)"
   ]
  },
  {
   "cell_type": "code",
   "execution_count": null,
   "metadata": {},
   "outputs": [],
   "source": [
    "accuracy_score(y_true=y_b_test, y_pred=pred)"
   ]
  },
  {
   "cell_type": "code",
   "execution_count": null,
   "metadata": {},
   "outputs": [],
   "source": [
    "# Utilizando outros atributos para classificação binária\n",
    "df_forecast2 = df.drop(columns=['Adj. Open','Adj. High','Adj. Low','Adj. Close'])"
   ]
  },
  {
   "cell_type": "code",
   "execution_count": null,
   "metadata": {},
   "outputs": [],
   "source": [
    "df_forecast2 = df_forecast2.dropna()"
   ]
  },
  {
   "cell_type": "code",
   "execution_count": null,
   "metadata": {},
   "outputs": [],
   "source": [
    "df_forecast2.head()"
   ]
  },
  {
   "cell_type": "code",
   "execution_count": null,
   "metadata": {},
   "outputs": [],
   "source": [
    "df_forecast2 = df_forecast2.asfreq(freq='B')"
   ]
  },
  {
   "cell_type": "code",
   "execution_count": null,
   "metadata": {},
   "outputs": [],
   "source": [
    "df_forecast2.isna().sum()"
   ]
  },
  {
   "cell_type": "code",
   "execution_count": null,
   "metadata": {},
   "outputs": [],
   "source": [
    "df_forecast2 = df_forecast2.interpolate(method='linear')"
   ]
  },
  {
   "cell_type": "code",
   "execution_count": null,
   "metadata": {},
   "outputs": [],
   "source": [
    "df_forecast2.isna().sum()"
   ]
  },
  {
   "cell_type": "code",
   "execution_count": null,
   "metadata": {},
   "outputs": [],
   "source": [
    "#df_forecast2['Adj. Close_b'] = df_forecast2['Adj. Close_b'].fillna(method='ffill')\n",
    "df_forecast2['Adj. Close_b'] = df_forecast2['PCT_change']>0"
   ]
  },
  {
   "cell_type": "code",
   "execution_count": null,
   "metadata": {},
   "outputs": [],
   "source": [
    "df_forecast2.isna().sum()"
   ]
  },
  {
   "cell_type": "code",
   "execution_count": null,
   "metadata": {},
   "outputs": [],
   "source": [
    "#Como está a escala?\n",
    "df_forecast2.describe()"
   ]
  },
  {
   "cell_type": "code",
   "execution_count": null,
   "metadata": {},
   "outputs": [],
   "source": [
    "#Resolvendo problema de escala\n",
    "colunas = ['Adj. Volume', 'HL_PCT', 'PCT_change', 'Adj. Close Mean']\n",
    "df_forecast2[colunas] = MinMaxScaler().fit_transform(df_forecast2[colunas])"
   ]
  },
  {
   "cell_type": "code",
   "execution_count": null,
   "metadata": {},
   "outputs": [],
   "source": [
    "df_forecast2.head()"
   ]
  },
  {
   "cell_type": "code",
   "execution_count": null,
   "metadata": {},
   "outputs": [],
   "source": [
    "colunas = ['Adj. Volume', 'HL_PCT', 'PCT_change', 'Adj. Close Mean', 'Adj. Close_b']\n",
    "#Gerando lag para os últimos 5 dias\n",
    "for coluna in colunas:\n",
    "    for lag in range(1,5):\n",
    "        df_forecast2[coluna + ' t-' + str(lag)] = df_forecast2[coluna].shift(lag)"
   ]
  },
  {
   "cell_type": "code",
   "execution_count": null,
   "metadata": {},
   "outputs": [],
   "source": [
    "#Removendo atributos do t-0\n",
    "#df_forecast2 = df_forecast2.drop(columns=['Adj. Volume', 'HL_PCT', 'PCT_change', 'Adj. Close Mean'])"
   ]
  },
  {
   "cell_type": "code",
   "execution_count": null,
   "metadata": {},
   "outputs": [],
   "source": [
    "#removendo dados faltantes\n",
    "df_forecast2 = df_forecast2.dropna()"
   ]
  },
  {
   "cell_type": "code",
   "execution_count": null,
   "metadata": {},
   "outputs": [],
   "source": [
    "df_forecast2.head()"
   ]
  },
  {
   "cell_type": "code",
   "execution_count": null,
   "metadata": {},
   "outputs": [],
   "source": [
    "#separando os dados de treino e teste\n",
    "x_train = df_forecast2.drop(columns=['Adj. Close_b'])[:-100]\n",
    "y_train = df_forecast2['Adj. Close_b'][:-100]\n",
    "\n",
    "x_test = df_forecast2.drop(columns=['Adj. Close_b'])[-100:]\n",
    "y_test = df_forecast2['Adj. Close_b'][-100:]"
   ]
  },
  {
   "cell_type": "code",
   "execution_count": null,
   "metadata": {},
   "outputs": [],
   "source": [
    "#Instanciando e treinando um classificador com redes neurais\n",
    "cls = MLPClassifier(hidden_layer_sizes=(100, 60, 20), max_iter=1000)\n",
    "cls.fit(x_train,y_train)"
   ]
  },
  {
   "cell_type": "code",
   "execution_count": null,
   "metadata": {},
   "outputs": [],
   "source": [
    "pred = cls.predict(x_test)"
   ]
  },
  {
   "cell_type": "code",
   "execution_count": null,
   "metadata": {},
   "outputs": [],
   "source": [
    "accuracy_score(y_true=y_test, y_pred=pred)"
   ]
  }
 ],
 "metadata": {
  "kernelspec": {
   "display_name": "Python 3",
   "language": "python",
   "name": "python3"
  },
  "language_info": {
   "codemirror_mode": {
    "name": "ipython",
    "version": 3
   },
   "file_extension": ".py",
   "mimetype": "text/x-python",
   "name": "python",
   "nbconvert_exporter": "python",
   "pygments_lexer": "ipython3",
   "version": "3.6.4"
  }
 },
 "nbformat": 4,
 "nbformat_minor": 2
}
