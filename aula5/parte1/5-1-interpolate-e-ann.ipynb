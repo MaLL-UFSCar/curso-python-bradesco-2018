{
 "cells": [
  {
   "cell_type": "markdown",
   "metadata": {
    "slideshow": {
     "slide_type": "slide"
    }
   },
   "source": [
    "# 1. Configurando o ambiente"
   ]
  },
  {
   "cell_type": "code",
   "execution_count": 1,
   "metadata": {
    "slideshow": {
     "slide_type": "fragment"
    }
   },
   "outputs": [],
   "source": [
    "import pandas as pd\n",
    "import numpy as np\n",
    "\n",
    "from sklearn.neural_network import MLPRegressor\n",
    "from sklearn.neighbors import KNeighborsRegressor\n",
    "from sklearn.neural_network import MLPClassifier\n",
    "\n",
    "from sklearn.metrics import mean_absolute_error\n",
    "from sklearn.metrics import accuracy_score\n",
    "\n",
    "from sklearn.preprocessing import MinMaxScaler\n",
    "\n",
    "import matplotlib.pyplot as plt\n",
    "\n",
    "%matplotlib inline"
   ]
  },
  {
   "cell_type": "markdown",
   "metadata": {
    "slideshow": {
     "slide_type": "slide"
    }
   },
   "source": [
    "# 2. Pré-processamento dos dados\n",
    "## 2.1. Carregando os dados\n",
    "$x^2$"
   ]
  },
  {
   "cell_type": "code",
   "execution_count": 2,
   "metadata": {
    "slideshow": {
     "slide_type": "fragment"
    }
   },
   "outputs": [
    {
     "data": {
      "text/html": [
       "<div>\n",
       "<style scoped>\n",
       "    .dataframe tbody tr th:only-of-type {\n",
       "        vertical-align: middle;\n",
       "    }\n",
       "\n",
       "    .dataframe tbody tr th {\n",
       "        vertical-align: top;\n",
       "    }\n",
       "\n",
       "    .dataframe thead th {\n",
       "        text-align: right;\n",
       "    }\n",
       "</style>\n",
       "<table border=\"1\" class=\"dataframe\">\n",
       "  <thead>\n",
       "    <tr style=\"text-align: right;\">\n",
       "      <th></th>\n",
       "      <th>Date</th>\n",
       "      <th>Adj. Open</th>\n",
       "      <th>Adj. High</th>\n",
       "      <th>Adj. Low</th>\n",
       "      <th>Adj. Close</th>\n",
       "      <th>Adj. Volume</th>\n",
       "    </tr>\n",
       "  </thead>\n",
       "  <tbody>\n",
       "    <tr>\n",
       "      <th>0</th>\n",
       "      <td>2004-08-19</td>\n",
       "      <td>50.159839</td>\n",
       "      <td>52.191109</td>\n",
       "      <td>48.128568</td>\n",
       "      <td>50.322842</td>\n",
       "      <td>44659000.0</td>\n",
       "    </tr>\n",
       "    <tr>\n",
       "      <th>1</th>\n",
       "      <td>2004-08-20</td>\n",
       "      <td>50.661387</td>\n",
       "      <td>54.708881</td>\n",
       "      <td>50.405597</td>\n",
       "      <td>54.322689</td>\n",
       "      <td>22834300.0</td>\n",
       "    </tr>\n",
       "    <tr>\n",
       "      <th>2</th>\n",
       "      <td>2004-08-23</td>\n",
       "      <td>55.551482</td>\n",
       "      <td>56.915693</td>\n",
       "      <td>54.693835</td>\n",
       "      <td>54.869377</td>\n",
       "      <td>18256100.0</td>\n",
       "    </tr>\n",
       "    <tr>\n",
       "      <th>3</th>\n",
       "      <td>2004-08-24</td>\n",
       "      <td>55.792225</td>\n",
       "      <td>55.972783</td>\n",
       "      <td>51.945350</td>\n",
       "      <td>52.597363</td>\n",
       "      <td>15247300.0</td>\n",
       "    </tr>\n",
       "    <tr>\n",
       "      <th>4</th>\n",
       "      <td>2004-08-25</td>\n",
       "      <td>52.542193</td>\n",
       "      <td>54.167209</td>\n",
       "      <td>52.100830</td>\n",
       "      <td>53.164113</td>\n",
       "      <td>9188600.0</td>\n",
       "    </tr>\n",
       "  </tbody>\n",
       "</table>\n",
       "</div>"
      ],
      "text/plain": [
       "         Date  Adj. Open  Adj. High   Adj. Low  Adj. Close  Adj. Volume\n",
       "0  2004-08-19  50.159839  52.191109  48.128568   50.322842   44659000.0\n",
       "1  2004-08-20  50.661387  54.708881  50.405597   54.322689   22834300.0\n",
       "2  2004-08-23  55.551482  56.915693  54.693835   54.869377   18256100.0\n",
       "3  2004-08-24  55.792225  55.972783  51.945350   52.597363   15247300.0\n",
       "4  2004-08-25  52.542193  54.167209  52.100830   53.164113    9188600.0"
      ]
     },
     "execution_count": 2,
     "metadata": {},
     "output_type": "execute_result"
    }
   ],
   "source": [
    "df = pd.read_csv('google.csv')\n",
    "df.head()"
   ]
  },
  {
   "cell_type": "code",
   "execution_count": 3,
   "metadata": {},
   "outputs": [
    {
     "ename": "ModuleNotFoundError",
     "evalue": "No module named 'xlwt'",
     "output_type": "error",
     "traceback": [
      "\u001b[0;31m---------------------------------------------------------------------------\u001b[0m",
      "\u001b[0;31mModuleNotFoundError\u001b[0m                       Traceback (most recent call last)",
      "\u001b[0;32m<ipython-input-3-3939a810102a>\u001b[0m in \u001b[0;36m<module>\u001b[0;34m()\u001b[0m\n\u001b[0;32m----> 1\u001b[0;31m \u001b[0mdf\u001b[0m\u001b[0;34m.\u001b[0m\u001b[0mto_excel\u001b[0m\u001b[0;34m(\u001b[0m\u001b[0;34m'df.xls'\u001b[0m\u001b[0;34m)\u001b[0m\u001b[0;34m\u001b[0m\u001b[0m\n\u001b[0m",
      "\u001b[0;32m~/.pyenv/versions/jupyter3/lib/python3.6/site-packages/pandas/core/frame.py\u001b[0m in \u001b[0;36mto_excel\u001b[0;34m(self, excel_writer, sheet_name, na_rep, float_format, columns, header, index, index_label, startrow, startcol, engine, merge_cells, encoding, inf_rep, verbose, freeze_panes)\u001b[0m\n\u001b[1;32m   1764\u001b[0m         formatter.write(excel_writer, sheet_name=sheet_name, startrow=startrow,\n\u001b[1;32m   1765\u001b[0m                         \u001b[0mstartcol\u001b[0m\u001b[0;34m=\u001b[0m\u001b[0mstartcol\u001b[0m\u001b[0;34m,\u001b[0m \u001b[0mfreeze_panes\u001b[0m\u001b[0;34m=\u001b[0m\u001b[0mfreeze_panes\u001b[0m\u001b[0;34m,\u001b[0m\u001b[0;34m\u001b[0m\u001b[0m\n\u001b[0;32m-> 1766\u001b[0;31m                         engine=engine)\n\u001b[0m\u001b[1;32m   1767\u001b[0m \u001b[0;34m\u001b[0m\u001b[0m\n\u001b[1;32m   1768\u001b[0m     def to_stata(self, fname, convert_dates=None, write_index=True,\n",
      "\u001b[0;32m~/.pyenv/versions/jupyter3/lib/python3.6/site-packages/pandas/io/formats/excel.py\u001b[0m in \u001b[0;36mwrite\u001b[0;34m(self, writer, sheet_name, startrow, startcol, freeze_panes, engine)\u001b[0m\n\u001b[1;32m    644\u001b[0m             \u001b[0mneed_save\u001b[0m \u001b[0;34m=\u001b[0m \u001b[0;32mFalse\u001b[0m\u001b[0;34m\u001b[0m\u001b[0m\n\u001b[1;32m    645\u001b[0m         \u001b[0;32melse\u001b[0m\u001b[0;34m:\u001b[0m\u001b[0;34m\u001b[0m\u001b[0m\n\u001b[0;32m--> 646\u001b[0;31m             \u001b[0mwriter\u001b[0m \u001b[0;34m=\u001b[0m \u001b[0mExcelWriter\u001b[0m\u001b[0;34m(\u001b[0m\u001b[0m_stringify_path\u001b[0m\u001b[0;34m(\u001b[0m\u001b[0mwriter\u001b[0m\u001b[0;34m)\u001b[0m\u001b[0;34m,\u001b[0m \u001b[0mengine\u001b[0m\u001b[0;34m=\u001b[0m\u001b[0mengine\u001b[0m\u001b[0;34m)\u001b[0m\u001b[0;34m\u001b[0m\u001b[0m\n\u001b[0m\u001b[1;32m    647\u001b[0m             \u001b[0mneed_save\u001b[0m \u001b[0;34m=\u001b[0m \u001b[0;32mTrue\u001b[0m\u001b[0;34m\u001b[0m\u001b[0m\n\u001b[1;32m    648\u001b[0m \u001b[0;34m\u001b[0m\u001b[0m\n",
      "\u001b[0;32m~/.pyenv/versions/jupyter3/lib/python3.6/site-packages/pandas/io/excel.py\u001b[0m in \u001b[0;36m__init__\u001b[0;34m(self, path, engine, encoding, **engine_kwargs)\u001b[0m\n\u001b[1;32m   1446\u001b[0m     \u001b[0;32mdef\u001b[0m \u001b[0m__init__\u001b[0m\u001b[0;34m(\u001b[0m\u001b[0mself\u001b[0m\u001b[0;34m,\u001b[0m \u001b[0mpath\u001b[0m\u001b[0;34m,\u001b[0m \u001b[0mengine\u001b[0m\u001b[0;34m=\u001b[0m\u001b[0;32mNone\u001b[0m\u001b[0;34m,\u001b[0m \u001b[0mencoding\u001b[0m\u001b[0;34m=\u001b[0m\u001b[0;32mNone\u001b[0m\u001b[0;34m,\u001b[0m \u001b[0;34m**\u001b[0m\u001b[0mengine_kwargs\u001b[0m\u001b[0;34m)\u001b[0m\u001b[0;34m:\u001b[0m\u001b[0;34m\u001b[0m\u001b[0m\n\u001b[1;32m   1447\u001b[0m         \u001b[0;31m# Use the xlwt module as the Excel writer.\u001b[0m\u001b[0;34m\u001b[0m\u001b[0;34m\u001b[0m\u001b[0m\n\u001b[0;32m-> 1448\u001b[0;31m         \u001b[0;32mimport\u001b[0m \u001b[0mxlwt\u001b[0m\u001b[0;34m\u001b[0m\u001b[0m\n\u001b[0m\u001b[1;32m   1449\u001b[0m         \u001b[0mengine_kwargs\u001b[0m\u001b[0;34m[\u001b[0m\u001b[0;34m'engine'\u001b[0m\u001b[0;34m]\u001b[0m \u001b[0;34m=\u001b[0m \u001b[0mengine\u001b[0m\u001b[0;34m\u001b[0m\u001b[0m\n\u001b[1;32m   1450\u001b[0m         \u001b[0msuper\u001b[0m\u001b[0;34m(\u001b[0m\u001b[0m_XlwtWriter\u001b[0m\u001b[0;34m,\u001b[0m \u001b[0mself\u001b[0m\u001b[0;34m)\u001b[0m\u001b[0;34m.\u001b[0m\u001b[0m__init__\u001b[0m\u001b[0;34m(\u001b[0m\u001b[0mpath\u001b[0m\u001b[0;34m,\u001b[0m \u001b[0;34m**\u001b[0m\u001b[0mengine_kwargs\u001b[0m\u001b[0;34m)\u001b[0m\u001b[0;34m\u001b[0m\u001b[0m\n",
      "\u001b[0;31mModuleNotFoundError\u001b[0m: No module named 'xlwt'"
     ]
    }
   ],
   "source": []
  },
  {
   "cell_type": "code",
   "execution_count": 3,
   "metadata": {},
   "outputs": [
    {
     "data": {
      "text/plain": [
       "RangeIndex(start=0, stop=3424, step=1)"
      ]
     },
     "execution_count": 3,
     "metadata": {},
     "output_type": "execute_result"
    }
   ],
   "source": [
    "df.index"
   ]
  },
  {
   "cell_type": "code",
   "execution_count": 4,
   "metadata": {
    "slideshow": {
     "slide_type": "subslide"
    }
   },
   "outputs": [],
   "source": [
    "#Definindo o index do dataset convertendo o formato dos dados para 'datetime'\n",
    "df.index = pd.to_datetime(df['Date'])"
   ]
  },
  {
   "cell_type": "code",
   "execution_count": 5,
   "metadata": {
    "slideshow": {
     "slide_type": "fragment"
    }
   },
   "outputs": [
    {
     "data": {
      "text/plain": [
       "DatetimeIndex(['2004-08-19', '2004-08-20', '2004-08-23', '2004-08-24',\n",
       "               '2004-08-25', '2004-08-26', '2004-08-27', '2004-08-30',\n",
       "               '2004-08-31', '2004-09-01',\n",
       "               ...\n",
       "               '2018-03-14', '2018-03-15', '2018-03-16', '2018-03-19',\n",
       "               '2018-03-20', '2018-03-21', '2018-03-22', '2018-03-23',\n",
       "               '2018-03-26', '2018-03-27'],\n",
       "              dtype='datetime64[ns]', name='Date', length=3424, freq=None)"
      ]
     },
     "execution_count": 5,
     "metadata": {},
     "output_type": "execute_result"
    }
   ],
   "source": [
    "df.index"
   ]
  },
  {
   "cell_type": "code",
   "execution_count": 6,
   "metadata": {},
   "outputs": [],
   "source": [
    "df = df.drop(columns=['Date'])"
   ]
  },
  {
   "cell_type": "code",
   "execution_count": 7,
   "metadata": {
    "slideshow": {
     "slide_type": "fragment"
    }
   },
   "outputs": [
    {
     "data": {
      "text/html": [
       "<div>\n",
       "<style scoped>\n",
       "    .dataframe tbody tr th:only-of-type {\n",
       "        vertical-align: middle;\n",
       "    }\n",
       "\n",
       "    .dataframe tbody tr th {\n",
       "        vertical-align: top;\n",
       "    }\n",
       "\n",
       "    .dataframe thead th {\n",
       "        text-align: right;\n",
       "    }\n",
       "</style>\n",
       "<table border=\"1\" class=\"dataframe\">\n",
       "  <thead>\n",
       "    <tr style=\"text-align: right;\">\n",
       "      <th></th>\n",
       "      <th>Adj. Open</th>\n",
       "      <th>Adj. High</th>\n",
       "      <th>Adj. Low</th>\n",
       "      <th>Adj. Close</th>\n",
       "      <th>Adj. Volume</th>\n",
       "    </tr>\n",
       "    <tr>\n",
       "      <th>Date</th>\n",
       "      <th></th>\n",
       "      <th></th>\n",
       "      <th></th>\n",
       "      <th></th>\n",
       "      <th></th>\n",
       "    </tr>\n",
       "  </thead>\n",
       "  <tbody>\n",
       "    <tr>\n",
       "      <th>2004-08-19</th>\n",
       "      <td>50.159839</td>\n",
       "      <td>52.191109</td>\n",
       "      <td>48.128568</td>\n",
       "      <td>50.322842</td>\n",
       "      <td>44659000.0</td>\n",
       "    </tr>\n",
       "    <tr>\n",
       "      <th>2004-08-20</th>\n",
       "      <td>50.661387</td>\n",
       "      <td>54.708881</td>\n",
       "      <td>50.405597</td>\n",
       "      <td>54.322689</td>\n",
       "      <td>22834300.0</td>\n",
       "    </tr>\n",
       "    <tr>\n",
       "      <th>2004-08-23</th>\n",
       "      <td>55.551482</td>\n",
       "      <td>56.915693</td>\n",
       "      <td>54.693835</td>\n",
       "      <td>54.869377</td>\n",
       "      <td>18256100.0</td>\n",
       "    </tr>\n",
       "    <tr>\n",
       "      <th>2004-08-24</th>\n",
       "      <td>55.792225</td>\n",
       "      <td>55.972783</td>\n",
       "      <td>51.945350</td>\n",
       "      <td>52.597363</td>\n",
       "      <td>15247300.0</td>\n",
       "    </tr>\n",
       "    <tr>\n",
       "      <th>2004-08-25</th>\n",
       "      <td>52.542193</td>\n",
       "      <td>54.167209</td>\n",
       "      <td>52.100830</td>\n",
       "      <td>53.164113</td>\n",
       "      <td>9188600.0</td>\n",
       "    </tr>\n",
       "  </tbody>\n",
       "</table>\n",
       "</div>"
      ],
      "text/plain": [
       "            Adj. Open  Adj. High   Adj. Low  Adj. Close  Adj. Volume\n",
       "Date                                                                \n",
       "2004-08-19  50.159839  52.191109  48.128568   50.322842   44659000.0\n",
       "2004-08-20  50.661387  54.708881  50.405597   54.322689   22834300.0\n",
       "2004-08-23  55.551482  56.915693  54.693835   54.869377   18256100.0\n",
       "2004-08-24  55.792225  55.972783  51.945350   52.597363   15247300.0\n",
       "2004-08-25  52.542193  54.167209  52.100830   53.164113    9188600.0"
      ]
     },
     "execution_count": 7,
     "metadata": {},
     "output_type": "execute_result"
    }
   ],
   "source": [
    "df.head()"
   ]
  },
  {
   "cell_type": "markdown",
   "metadata": {
    "slideshow": {
     "slide_type": "subslide"
    }
   },
   "source": [
    "## 2.3. Transformação dos dados"
   ]
  },
  {
   "cell_type": "markdown",
   "metadata": {},
   "source": [
    "Gerando novos atributos a partir dos dados já existentes"
   ]
  },
  {
   "cell_type": "code",
   "execution_count": 8,
   "metadata": {
    "slideshow": {
     "slide_type": "fragment"
    }
   },
   "outputs": [],
   "source": [
    "#Percentual de variação entre alta e baixa\n",
    "df['HL_PCT'] = (df['Adj. High']-df['Adj. Close']) / df['Adj. Close'] * 100.0"
   ]
  },
  {
   "cell_type": "code",
   "execution_count": 9,
   "metadata": {
    "slideshow": {
     "slide_type": "fragment"
    }
   },
   "outputs": [],
   "source": [
    "#Percentual de mudança entre abertura e fechamento\n",
    "df['PCT_change'] = (df['Adj. Close']-df['Adj. Open']) / df['Adj. Open'] * 100.0"
   ]
  },
  {
   "cell_type": "markdown",
   "metadata": {
    "slideshow": {
     "slide_type": "subslide"
    }
   },
   "source": [
    "### Rolling\n",
    "Permite realizar cálculos com janela deslizante."
   ]
  },
  {
   "cell_type": "code",
   "execution_count": 10,
   "metadata": {
    "slideshow": {
     "slide_type": "fragment"
    }
   },
   "outputs": [],
   "source": [
    "#Média móvel\n",
    "df['Adj. Close Mean'] = df['Adj. Close'].rolling(6).mean()"
   ]
  },
  {
   "cell_type": "code",
   "execution_count": 11,
   "metadata": {},
   "outputs": [],
   "source": [
    "#Opção binária\n",
    "df['Adj. Close_b'] = df['Adj. Close'] > df['Adj. Open']"
   ]
  },
  {
   "cell_type": "code",
   "execution_count": 12,
   "metadata": {
    "slideshow": {
     "slide_type": "fragment"
    }
   },
   "outputs": [
    {
     "data": {
      "text/html": [
       "<div>\n",
       "<style scoped>\n",
       "    .dataframe tbody tr th:only-of-type {\n",
       "        vertical-align: middle;\n",
       "    }\n",
       "\n",
       "    .dataframe tbody tr th {\n",
       "        vertical-align: top;\n",
       "    }\n",
       "\n",
       "    .dataframe thead th {\n",
       "        text-align: right;\n",
       "    }\n",
       "</style>\n",
       "<table border=\"1\" class=\"dataframe\">\n",
       "  <thead>\n",
       "    <tr style=\"text-align: right;\">\n",
       "      <th></th>\n",
       "      <th>Adj. Open</th>\n",
       "      <th>Adj. High</th>\n",
       "      <th>Adj. Low</th>\n",
       "      <th>Adj. Close</th>\n",
       "      <th>Adj. Volume</th>\n",
       "      <th>HL_PCT</th>\n",
       "      <th>PCT_change</th>\n",
       "      <th>Adj. Close Mean</th>\n",
       "      <th>Adj. Close_b</th>\n",
       "    </tr>\n",
       "    <tr>\n",
       "      <th>Date</th>\n",
       "      <th></th>\n",
       "      <th></th>\n",
       "      <th></th>\n",
       "      <th></th>\n",
       "      <th></th>\n",
       "      <th></th>\n",
       "      <th></th>\n",
       "      <th></th>\n",
       "      <th></th>\n",
       "    </tr>\n",
       "  </thead>\n",
       "  <tbody>\n",
       "    <tr>\n",
       "      <th>2004-08-19</th>\n",
       "      <td>50.159839</td>\n",
       "      <td>52.191109</td>\n",
       "      <td>48.128568</td>\n",
       "      <td>50.322842</td>\n",
       "      <td>44659000.0</td>\n",
       "      <td>3.712563</td>\n",
       "      <td>0.324968</td>\n",
       "      <td>NaN</td>\n",
       "      <td>True</td>\n",
       "    </tr>\n",
       "    <tr>\n",
       "      <th>2004-08-20</th>\n",
       "      <td>50.661387</td>\n",
       "      <td>54.708881</td>\n",
       "      <td>50.405597</td>\n",
       "      <td>54.322689</td>\n",
       "      <td>22834300.0</td>\n",
       "      <td>0.710922</td>\n",
       "      <td>7.227007</td>\n",
       "      <td>NaN</td>\n",
       "      <td>True</td>\n",
       "    </tr>\n",
       "    <tr>\n",
       "      <th>2004-08-23</th>\n",
       "      <td>55.551482</td>\n",
       "      <td>56.915693</td>\n",
       "      <td>54.693835</td>\n",
       "      <td>54.869377</td>\n",
       "      <td>18256100.0</td>\n",
       "      <td>3.729433</td>\n",
       "      <td>-1.227880</td>\n",
       "      <td>NaN</td>\n",
       "      <td>False</td>\n",
       "    </tr>\n",
       "    <tr>\n",
       "      <th>2004-08-24</th>\n",
       "      <td>55.792225</td>\n",
       "      <td>55.972783</td>\n",
       "      <td>51.945350</td>\n",
       "      <td>52.597363</td>\n",
       "      <td>15247300.0</td>\n",
       "      <td>6.417469</td>\n",
       "      <td>-5.726357</td>\n",
       "      <td>NaN</td>\n",
       "      <td>False</td>\n",
       "    </tr>\n",
       "    <tr>\n",
       "      <th>2004-08-25</th>\n",
       "      <td>52.542193</td>\n",
       "      <td>54.167209</td>\n",
       "      <td>52.100830</td>\n",
       "      <td>53.164113</td>\n",
       "      <td>9188600.0</td>\n",
       "      <td>1.886792</td>\n",
       "      <td>1.183658</td>\n",
       "      <td>NaN</td>\n",
       "      <td>True</td>\n",
       "    </tr>\n",
       "    <tr>\n",
       "      <th>2004-08-26</th>\n",
       "      <td>52.637487</td>\n",
       "      <td>54.142132</td>\n",
       "      <td>52.492038</td>\n",
       "      <td>54.122070</td>\n",
       "      <td>7094800.0</td>\n",
       "      <td>0.037068</td>\n",
       "      <td>2.820391</td>\n",
       "      <td>53.233075</td>\n",
       "      <td>True</td>\n",
       "    </tr>\n",
       "    <tr>\n",
       "      <th>2004-08-27</th>\n",
       "      <td>54.217364</td>\n",
       "      <td>54.478169</td>\n",
       "      <td>53.008633</td>\n",
       "      <td>53.239345</td>\n",
       "      <td>6211700.0</td>\n",
       "      <td>2.326896</td>\n",
       "      <td>-1.803885</td>\n",
       "      <td>53.719159</td>\n",
       "      <td>False</td>\n",
       "    </tr>\n",
       "  </tbody>\n",
       "</table>\n",
       "</div>"
      ],
      "text/plain": [
       "            Adj. Open  Adj. High   Adj. Low  Adj. Close  Adj. Volume  \\\n",
       "Date                                                                   \n",
       "2004-08-19  50.159839  52.191109  48.128568   50.322842   44659000.0   \n",
       "2004-08-20  50.661387  54.708881  50.405597   54.322689   22834300.0   \n",
       "2004-08-23  55.551482  56.915693  54.693835   54.869377   18256100.0   \n",
       "2004-08-24  55.792225  55.972783  51.945350   52.597363   15247300.0   \n",
       "2004-08-25  52.542193  54.167209  52.100830   53.164113    9188600.0   \n",
       "2004-08-26  52.637487  54.142132  52.492038   54.122070    7094800.0   \n",
       "2004-08-27  54.217364  54.478169  53.008633   53.239345    6211700.0   \n",
       "\n",
       "              HL_PCT  PCT_change  Adj. Close Mean  Adj. Close_b  \n",
       "Date                                                             \n",
       "2004-08-19  3.712563    0.324968              NaN          True  \n",
       "2004-08-20  0.710922    7.227007              NaN          True  \n",
       "2004-08-23  3.729433   -1.227880              NaN         False  \n",
       "2004-08-24  6.417469   -5.726357              NaN         False  \n",
       "2004-08-25  1.886792    1.183658              NaN          True  \n",
       "2004-08-26  0.037068    2.820391        53.233075          True  \n",
       "2004-08-27  2.326896   -1.803885        53.719159         False  "
      ]
     },
     "execution_count": 12,
     "metadata": {},
     "output_type": "execute_result"
    }
   ],
   "source": [
    "df['2004-08-19':'2004-08-29']"
   ]
  },
  {
   "cell_type": "code",
   "execution_count": 13,
   "metadata": {
    "slideshow": {
     "slide_type": "fragment"
    }
   },
   "outputs": [],
   "source": [
    "#Seleção de atributos\n",
    "df_forecast = pd.DataFrame(df['Adj. Close'])"
   ]
  },
  {
   "cell_type": "code",
   "execution_count": 14,
   "metadata": {
    "scrolled": true
   },
   "outputs": [
    {
     "data": {
      "text/html": [
       "<div>\n",
       "<style scoped>\n",
       "    .dataframe tbody tr th:only-of-type {\n",
       "        vertical-align: middle;\n",
       "    }\n",
       "\n",
       "    .dataframe tbody tr th {\n",
       "        vertical-align: top;\n",
       "    }\n",
       "\n",
       "    .dataframe thead th {\n",
       "        text-align: right;\n",
       "    }\n",
       "</style>\n",
       "<table border=\"1\" class=\"dataframe\">\n",
       "  <thead>\n",
       "    <tr style=\"text-align: right;\">\n",
       "      <th></th>\n",
       "      <th>Adj. Close</th>\n",
       "    </tr>\n",
       "    <tr>\n",
       "      <th>Date</th>\n",
       "      <th></th>\n",
       "    </tr>\n",
       "  </thead>\n",
       "  <tbody>\n",
       "    <tr>\n",
       "      <th>2004-08-19</th>\n",
       "      <td>50.322842</td>\n",
       "    </tr>\n",
       "    <tr>\n",
       "      <th>2004-08-20</th>\n",
       "      <td>54.322689</td>\n",
       "    </tr>\n",
       "    <tr>\n",
       "      <th>2004-08-23</th>\n",
       "      <td>54.869377</td>\n",
       "    </tr>\n",
       "    <tr>\n",
       "      <th>2004-08-24</th>\n",
       "      <td>52.597363</td>\n",
       "    </tr>\n",
       "    <tr>\n",
       "      <th>2004-08-25</th>\n",
       "      <td>53.164113</td>\n",
       "    </tr>\n",
       "  </tbody>\n",
       "</table>\n",
       "</div>"
      ],
      "text/plain": [
       "            Adj. Close\n",
       "Date                  \n",
       "2004-08-19   50.322842\n",
       "2004-08-20   54.322689\n",
       "2004-08-23   54.869377\n",
       "2004-08-24   52.597363\n",
       "2004-08-25   53.164113"
      ]
     },
     "execution_count": 14,
     "metadata": {},
     "output_type": "execute_result"
    }
   ],
   "source": [
    "df_forecast.head()"
   ]
  },
  {
   "cell_type": "code",
   "execution_count": 15,
   "metadata": {},
   "outputs": [
    {
     "data": {
      "text/plain": [
       "Adj. Close    0\n",
       "dtype: int64"
      ]
     },
     "execution_count": 15,
     "metadata": {},
     "output_type": "execute_result"
    }
   ],
   "source": [
    "df_forecast.isna().sum()"
   ]
  },
  {
   "cell_type": "code",
   "execution_count": 16,
   "metadata": {},
   "outputs": [],
   "source": [
    "#Convertendo a série temporal em uma frequência específica\n",
    "df_forecast = df_forecast.asfreq(freq='B')"
   ]
  },
  {
   "cell_type": "markdown",
   "metadata": {
    "slideshow": {
     "slide_type": "fragment"
    }
   },
   "source": [
    "Time rule strings:\n",
    "\n",
    "B:  business day\n",
    "\n",
    "D:  calendar day;\n",
    "\n",
    "W:  weekly;\n",
    "\n",
    "M:  month;\n",
    "\n",
    "A:  year end;\n",
    "\n",
    "AS: year start."
   ]
  },
  {
   "cell_type": "code",
   "execution_count": 17,
   "metadata": {},
   "outputs": [
    {
     "data": {
      "text/plain": [
       "Adj. Close    125\n",
       "dtype: int64"
      ]
     },
     "execution_count": 17,
     "metadata": {},
     "output_type": "execute_result"
    }
   ],
   "source": [
    "df_forecast.isna().sum()"
   ]
  },
  {
   "cell_type": "markdown",
   "metadata": {},
   "source": [
    "Técnicas para tratamento de dados ausentes:\n",
    "\n",
    "## 2.4. Imputação\n",
    "\n",
    "1. Eliminar\n",
    "2. Prenchimento manual\n",
    "3. Algoritmos de AM\n",
    "4. Métodos heurísticos\n",
    "    1. Novo valor\n",
    "    2. Média / Moda\n",
    "\n",
    "Ferramentas disponíveis em python:\n",
    "1. fillna\n",
    "2. Interpolate"
   ]
  },
  {
   "cell_type": "markdown",
   "metadata": {},
   "source": [
    "### 2.4.1. Fillna\n",
    "[Ir](5-2-fillna.ipynb)\n",
    "\n",
    "### 2.4.2. interpolate\n",
    "É um método com o qual é possível construir um conjunto de dados a partir de outro conjunto de dados pontuais"
   ]
  },
  {
   "cell_type": "markdown",
   "metadata": {},
   "source": [
    "##### linear\n",
    "\n",
    "Ignora o index e trata os valores como estivessem igualmente separados"
   ]
  },
  {
   "cell_type": "code",
   "execution_count": 18,
   "metadata": {},
   "outputs": [],
   "source": [
    "df_forecast['adj_close_i'] = df_forecast['Adj. Close'].interpolate(method='linear')"
   ]
  },
  {
   "cell_type": "code",
   "execution_count": 19,
   "metadata": {},
   "outputs": [
    {
     "data": {
      "text/plain": [
       "Adj. Close     125\n",
       "adj_close_i      0\n",
       "dtype: int64"
      ]
     },
     "execution_count": 19,
     "metadata": {},
     "output_type": "execute_result"
    }
   ],
   "source": [
    "df_forecast.isna().sum()"
   ]
  },
  {
   "cell_type": "code",
   "execution_count": 20,
   "metadata": {},
   "outputs": [
    {
     "data": {
      "text/html": [
       "<div>\n",
       "<style scoped>\n",
       "    .dataframe tbody tr th:only-of-type {\n",
       "        vertical-align: middle;\n",
       "    }\n",
       "\n",
       "    .dataframe tbody tr th {\n",
       "        vertical-align: top;\n",
       "    }\n",
       "\n",
       "    .dataframe thead th {\n",
       "        text-align: right;\n",
       "    }\n",
       "</style>\n",
       "<table border=\"1\" class=\"dataframe\">\n",
       "  <thead>\n",
       "    <tr style=\"text-align: right;\">\n",
       "      <th></th>\n",
       "      <th>Adj. Close</th>\n",
       "      <th>adj_close_i</th>\n",
       "    </tr>\n",
       "    <tr>\n",
       "      <th>Date</th>\n",
       "      <th></th>\n",
       "      <th></th>\n",
       "    </tr>\n",
       "  </thead>\n",
       "  <tbody>\n",
       "    <tr>\n",
       "      <th>2005-09-01</th>\n",
       "      <td>143.568181</td>\n",
       "      <td>143.568181</td>\n",
       "    </tr>\n",
       "    <tr>\n",
       "      <th>2005-09-02</th>\n",
       "      <td>144.671587</td>\n",
       "      <td>144.671587</td>\n",
       "    </tr>\n",
       "    <tr>\n",
       "      <th>2005-09-05</th>\n",
       "      <td>NaN</td>\n",
       "      <td>144.335550</td>\n",
       "    </tr>\n",
       "    <tr>\n",
       "      <th>2005-09-06</th>\n",
       "      <td>143.999513</td>\n",
       "      <td>143.999513</td>\n",
       "    </tr>\n",
       "    <tr>\n",
       "      <th>2005-09-07</th>\n",
       "      <td>147.891527</td>\n",
       "      <td>147.891527</td>\n",
       "    </tr>\n",
       "    <tr>\n",
       "      <th>2005-09-08</th>\n",
       "      <td>148.152332</td>\n",
       "      <td>148.152332</td>\n",
       "    </tr>\n",
       "  </tbody>\n",
       "</table>\n",
       "</div>"
      ],
      "text/plain": [
       "            Adj. Close  adj_close_i\n",
       "Date                               \n",
       "2005-09-01  143.568181   143.568181\n",
       "2005-09-02  144.671587   144.671587\n",
       "2005-09-05         NaN   144.335550\n",
       "2005-09-06  143.999513   143.999513\n",
       "2005-09-07  147.891527   147.891527\n",
       "2005-09-08  148.152332   148.152332"
      ]
     },
     "execution_count": 20,
     "metadata": {},
     "output_type": "execute_result"
    }
   ],
   "source": [
    "#Estudo de caso\n",
    "df_forecast['2005-09-01':'2005-09-08']"
   ]
  },
  {
   "cell_type": "code",
   "execution_count": 21,
   "metadata": {},
   "outputs": [
    {
     "data": {
      "image/png": "[encoded data removed]",
      "text/plain": [
       "<Figure size 432x288 with 1 Axes>"
      ]
     },
     "metadata": {},
     "output_type": "display_data"
    }
   ],
   "source": [
    "fig, ax = plt.subplots()\n",
    "\n",
    "ax.plot(df_forecast['2005-09-01':'2005-09-08'].index.values,\n",
    "        df_forecast['2005-09-01':'2005-09-08'].adj_close_i.values,\n",
    "        alpha=0.5)\n",
    "ax.scatter(df_forecast['2005-09-01':'2005-09-08'].index.values,\n",
    "        df_forecast['2005-09-01':'2005-09-08']['Adj. Close'].values,\n",
    "        c='r',\n",
    "        alpha=0.5)\n",
    "\n",
    "fig.autofmt_xdate()"
   ]
  },
  {
   "cell_type": "code",
   "execution_count": 22,
   "metadata": {},
   "outputs": [
    {
     "data": {
      "text/html": [
       "<div>\n",
       "<style scoped>\n",
       "    .dataframe tbody tr th:only-of-type {\n",
       "        vertical-align: middle;\n",
       "    }\n",
       "\n",
       "    .dataframe tbody tr th {\n",
       "        vertical-align: top;\n",
       "    }\n",
       "\n",
       "    .dataframe thead th {\n",
       "        text-align: right;\n",
       "    }\n",
       "</style>\n",
       "<table border=\"1\" class=\"dataframe\">\n",
       "  <thead>\n",
       "    <tr style=\"text-align: right;\">\n",
       "      <th></th>\n",
       "      <th>adj_close_i</th>\n",
       "    </tr>\n",
       "    <tr>\n",
       "      <th>Date</th>\n",
       "      <th></th>\n",
       "    </tr>\n",
       "  </thead>\n",
       "  <tbody>\n",
       "    <tr>\n",
       "      <th>2004-08-19</th>\n",
       "      <td>50.322842</td>\n",
       "    </tr>\n",
       "    <tr>\n",
       "      <th>2004-08-20</th>\n",
       "      <td>54.322689</td>\n",
       "    </tr>\n",
       "    <tr>\n",
       "      <th>2004-08-23</th>\n",
       "      <td>54.869377</td>\n",
       "    </tr>\n",
       "    <tr>\n",
       "      <th>2004-08-24</th>\n",
       "      <td>52.597363</td>\n",
       "    </tr>\n",
       "    <tr>\n",
       "      <th>2004-08-25</th>\n",
       "      <td>53.164113</td>\n",
       "    </tr>\n",
       "  </tbody>\n",
       "</table>\n",
       "</div>"
      ],
      "text/plain": [
       "            adj_close_i\n",
       "Date                   \n",
       "2004-08-19    50.322842\n",
       "2004-08-20    54.322689\n",
       "2004-08-23    54.869377\n",
       "2004-08-24    52.597363\n",
       "2004-08-25    53.164113"
      ]
     },
     "execution_count": 22,
     "metadata": {},
     "output_type": "execute_result"
    }
   ],
   "source": [
    "df_forecast = df_forecast.drop(columns=['Adj. Close'])\n",
    "df_forecast.head()"
   ]
  },
  {
   "cell_type": "markdown",
   "metadata": {
    "slideshow": {
     "slide_type": "subslide"
    }
   },
   "source": [
    "# Lag com Shift\n",
    "\n",
    "Lag é uma operação estatística que produz os elementos anteriores de uma série temporal."
   ]
  },
  {
   "cell_type": "code",
   "execution_count": 23,
   "metadata": {},
   "outputs": [],
   "source": [
    "#Gerando lag para os últimos 4 dias\n",
    "for lag in range(1,5):\n",
    "    df_forecast['adj_close' + ' t-' + str(lag)] = df_forecast['adj_close_i'].shift(lag)"
   ]
  },
  {
   "cell_type": "code",
   "execution_count": 24,
   "metadata": {},
   "outputs": [
    {
     "data": {
      "text/html": [
       "<div>\n",
       "<style scoped>\n",
       "    .dataframe tbody tr th:only-of-type {\n",
       "        vertical-align: middle;\n",
       "    }\n",
       "\n",
       "    .dataframe tbody tr th {\n",
       "        vertical-align: top;\n",
       "    }\n",
       "\n",
       "    .dataframe thead th {\n",
       "        text-align: right;\n",
       "    }\n",
       "</style>\n",
       "<table border=\"1\" class=\"dataframe\">\n",
       "  <thead>\n",
       "    <tr style=\"text-align: right;\">\n",
       "      <th></th>\n",
       "      <th>adj_close_i</th>\n",
       "      <th>adj_close t-1</th>\n",
       "      <th>adj_close t-2</th>\n",
       "      <th>adj_close t-3</th>\n",
       "      <th>adj_close t-4</th>\n",
       "    </tr>\n",
       "    <tr>\n",
       "      <th>Date</th>\n",
       "      <th></th>\n",
       "      <th></th>\n",
       "      <th></th>\n",
       "      <th></th>\n",
       "      <th></th>\n",
       "    </tr>\n",
       "  </thead>\n",
       "  <tbody>\n",
       "    <tr>\n",
       "      <th>2004-08-19</th>\n",
       "      <td>50.322842</td>\n",
       "      <td>NaN</td>\n",
       "      <td>NaN</td>\n",
       "      <td>NaN</td>\n",
       "      <td>NaN</td>\n",
       "    </tr>\n",
       "    <tr>\n",
       "      <th>2004-08-20</th>\n",
       "      <td>54.322689</td>\n",
       "      <td>50.322842</td>\n",
       "      <td>NaN</td>\n",
       "      <td>NaN</td>\n",
       "      <td>NaN</td>\n",
       "    </tr>\n",
       "    <tr>\n",
       "      <th>2004-08-23</th>\n",
       "      <td>54.869377</td>\n",
       "      <td>54.322689</td>\n",
       "      <td>50.322842</td>\n",
       "      <td>NaN</td>\n",
       "      <td>NaN</td>\n",
       "    </tr>\n",
       "    <tr>\n",
       "      <th>2004-08-24</th>\n",
       "      <td>52.597363</td>\n",
       "      <td>54.869377</td>\n",
       "      <td>54.322689</td>\n",
       "      <td>50.322842</td>\n",
       "      <td>NaN</td>\n",
       "    </tr>\n",
       "    <tr>\n",
       "      <th>2004-08-25</th>\n",
       "      <td>53.164113</td>\n",
       "      <td>52.597363</td>\n",
       "      <td>54.869377</td>\n",
       "      <td>54.322689</td>\n",
       "      <td>50.322842</td>\n",
       "    </tr>\n",
       "  </tbody>\n",
       "</table>\n",
       "</div>"
      ],
      "text/plain": [
       "            adj_close_i  adj_close t-1  adj_close t-2  adj_close t-3  \\\n",
       "Date                                                                   \n",
       "2004-08-19    50.322842            NaN            NaN            NaN   \n",
       "2004-08-20    54.322689      50.322842            NaN            NaN   \n",
       "2004-08-23    54.869377      54.322689      50.322842            NaN   \n",
       "2004-08-24    52.597363      54.869377      54.322689      50.322842   \n",
       "2004-08-25    53.164113      52.597363      54.869377      54.322689   \n",
       "\n",
       "            adj_close t-4  \n",
       "Date                       \n",
       "2004-08-19            NaN  \n",
       "2004-08-20            NaN  \n",
       "2004-08-23            NaN  \n",
       "2004-08-24            NaN  \n",
       "2004-08-25      50.322842  "
      ]
     },
     "execution_count": 24,
     "metadata": {},
     "output_type": "execute_result"
    }
   ],
   "source": [
    "df_forecast.head()"
   ]
  },
  {
   "cell_type": "code",
   "execution_count": 25,
   "metadata": {
    "scrolled": true
   },
   "outputs": [
    {
     "data": {
      "text/html": [
       "<div>\n",
       "<style scoped>\n",
       "    .dataframe tbody tr th:only-of-type {\n",
       "        vertical-align: middle;\n",
       "    }\n",
       "\n",
       "    .dataframe tbody tr th {\n",
       "        vertical-align: top;\n",
       "    }\n",
       "\n",
       "    .dataframe thead th {\n",
       "        text-align: right;\n",
       "    }\n",
       "</style>\n",
       "<table border=\"1\" class=\"dataframe\">\n",
       "  <thead>\n",
       "    <tr style=\"text-align: right;\">\n",
       "      <th></th>\n",
       "      <th>adj_close_i</th>\n",
       "      <th>adj_close t-1</th>\n",
       "      <th>adj_close t-2</th>\n",
       "      <th>adj_close t-3</th>\n",
       "      <th>adj_close t-4</th>\n",
       "    </tr>\n",
       "    <tr>\n",
       "      <th>Date</th>\n",
       "      <th></th>\n",
       "      <th></th>\n",
       "      <th></th>\n",
       "      <th></th>\n",
       "      <th></th>\n",
       "    </tr>\n",
       "  </thead>\n",
       "  <tbody>\n",
       "    <tr>\n",
       "      <th>2004-08-25</th>\n",
       "      <td>53.164113</td>\n",
       "      <td>52.597363</td>\n",
       "      <td>54.869377</td>\n",
       "      <td>54.322689</td>\n",
       "      <td>50.322842</td>\n",
       "    </tr>\n",
       "    <tr>\n",
       "      <th>2004-08-26</th>\n",
       "      <td>54.122070</td>\n",
       "      <td>53.164113</td>\n",
       "      <td>52.597363</td>\n",
       "      <td>54.869377</td>\n",
       "      <td>54.322689</td>\n",
       "    </tr>\n",
       "    <tr>\n",
       "      <th>2004-08-27</th>\n",
       "      <td>53.239345</td>\n",
       "      <td>54.122070</td>\n",
       "      <td>53.164113</td>\n",
       "      <td>52.597363</td>\n",
       "      <td>54.869377</td>\n",
       "    </tr>\n",
       "    <tr>\n",
       "      <th>2004-08-30</th>\n",
       "      <td>51.162935</td>\n",
       "      <td>53.239345</td>\n",
       "      <td>54.122070</td>\n",
       "      <td>53.164113</td>\n",
       "      <td>52.597363</td>\n",
       "    </tr>\n",
       "    <tr>\n",
       "      <th>2004-08-31</th>\n",
       "      <td>51.343492</td>\n",
       "      <td>51.162935</td>\n",
       "      <td>53.239345</td>\n",
       "      <td>54.122070</td>\n",
       "      <td>53.164113</td>\n",
       "    </tr>\n",
       "  </tbody>\n",
       "</table>\n",
       "</div>"
      ],
      "text/plain": [
       "            adj_close_i  adj_close t-1  adj_close t-2  adj_close t-3  \\\n",
       "Date                                                                   \n",
       "2004-08-25    53.164113      52.597363      54.869377      54.322689   \n",
       "2004-08-26    54.122070      53.164113      52.597363      54.869377   \n",
       "2004-08-27    53.239345      54.122070      53.164113      52.597363   \n",
       "2004-08-30    51.162935      53.239345      54.122070      53.164113   \n",
       "2004-08-31    51.343492      51.162935      53.239345      54.122070   \n",
       "\n",
       "            adj_close t-4  \n",
       "Date                       \n",
       "2004-08-25      50.322842  \n",
       "2004-08-26      54.322689  \n",
       "2004-08-27      54.869377  \n",
       "2004-08-30      52.597363  \n",
       "2004-08-31      53.164113  "
      ]
     },
     "execution_count": 25,
     "metadata": {},
     "output_type": "execute_result"
    }
   ],
   "source": [
    "#removendo dados faltantes\n",
    "df_forecast = df_forecast.dropna()\n",
    "df_forecast.head()"
   ]
  },
  {
   "cell_type": "markdown",
   "metadata": {},
   "source": [
    "# 3. Predição"
   ]
  },
  {
   "cell_type": "code",
   "execution_count": 26,
   "metadata": {},
   "outputs": [],
   "source": [
    "#separando atributo alvo\n",
    "x = df_forecast.drop(columns=['adj_close_i']).values\n",
    "y = df_forecast['adj_close_i'].values"
   ]
  },
  {
   "cell_type": "code",
   "execution_count": 27,
   "metadata": {},
   "outputs": [
    {
     "data": {
      "text/plain": [
       "(3545, 4)"
      ]
     },
     "execution_count": 27,
     "metadata": {},
     "output_type": "execute_result"
    }
   ],
   "source": [
    "x.shape"
   ]
  },
  {
   "cell_type": "code",
   "execution_count": 28,
   "metadata": {},
   "outputs": [],
   "source": [
    "#Separando dados entre treino e teste\n",
    "xtrain = x[:-100]\n",
    "xtest = x[-100:]\n",
    "ytrain = y[:-100]\n",
    "ytest = y[-100:]"
   ]
  },
  {
   "cell_type": "code",
   "execution_count": 29,
   "metadata": {},
   "outputs": [
    {
     "data": {
      "text/plain": [
       "(3445, 4)"
      ]
     },
     "execution_count": 29,
     "metadata": {},
     "output_type": "execute_result"
    }
   ],
   "source": [
    "xtrain.shape"
   ]
  },
  {
   "cell_type": "code",
   "execution_count": 30,
   "metadata": {},
   "outputs": [
    {
     "data": {
      "text/plain": [
       "(100, 4)"
      ]
     },
     "execution_count": 30,
     "metadata": {},
     "output_type": "execute_result"
    }
   ],
   "source": [
    "xtest.shape"
   ]
  },
  {
   "cell_type": "markdown",
   "metadata": {},
   "source": [
    "### Multi-layer Perceptron\n"
   ]
  },
  {
   "cell_type": "code",
   "execution_count": 31,
   "metadata": {},
   "outputs": [],
   "source": [
    "#instanciando e treinando o modelo de regressão com redes neurais\n",
    "model = MLPRegressor(hidden_layer_sizes=(100, 60, 20), activation='relu', max_iter=1000)\n",
    "model.fit(xtrain, ytrain)\n",
    "pred = model.predict(xtest)"
   ]
  },
  {
   "cell_type": "code",
   "execution_count": 32,
   "metadata": {},
   "outputs": [
    {
     "data": {
      "text/plain": [
       "14.194096206161362"
      ]
     },
     "execution_count": 32,
     "metadata": {},
     "output_type": "execute_result"
    }
   ],
   "source": [
    "#Avaliação do modelo por Erro Absoluto Médio (MAE)\n",
    "mean_absolute_error(y_true=ytest, y_pred=pred)"
   ]
  },
  {
   "cell_type": "code",
   "execution_count": 33,
   "metadata": {},
   "outputs": [
    {
     "data": {
      "image/png": "[encoded data removed]",
      "text/plain": [
       "<Figure size 432x288 with 1 Axes>"
      ]
     },
     "metadata": {},
     "output_type": "display_data"
    }
   ],
   "source": [
    "#Análise gráfica\n",
    "a = df_forecast.index[-500:]\n",
    "fig, ax = plt.subplots()\n",
    "ax.plot(a, y[-500:])\n",
    "ax.plot(a[-100:], model.predict(xtest), c='r')\n",
    "fig.autofmt_xdate()"
   ]
  },
  {
   "cell_type": "code",
   "execution_count": 34,
   "metadata": {},
   "outputs": [
    {
     "data": {
      "text/plain": [
       "11.817699999999988"
      ]
     },
     "execution_count": 34,
     "metadata": {},
     "output_type": "execute_result"
    }
   ],
   "source": [
    "#Utiliza os dados do dia anterior para fazer a predição\n",
    "y_magico = df_forecast['adj_close_i'].shift(1)[-100:]\n",
    "mean_absolute_error(y_true=ytest, y_pred=y_magico)"
   ]
  },
  {
   "cell_type": "code",
   "execution_count": 35,
   "metadata": {},
   "outputs": [
    {
     "data": {
      "image/png": "[encoded data removed]",
      "text/plain": [
       "<Figure size 432x288 with 1 Axes>"
      ]
     },
     "metadata": {},
     "output_type": "display_data"
    }
   ],
   "source": [
    "a = df_forecast.index[-100:]\n",
    "fig, ax = plt.subplots()\n",
    "ax.plot(a, y[-100:])\n",
    "ax.plot(a[-100:], y_magico, c='r')\n",
    "fig.autofmt_xdate()"
   ]
  },
  {
   "cell_type": "code",
   "execution_count": 36,
   "metadata": {},
   "outputs": [],
   "source": [
    "#Opções binárias\n",
    "y_b = df_forecast['adj_close_i'] > df_forecast['adj_close_i'].shift(1)"
   ]
  },
  {
   "cell_type": "code",
   "execution_count": 37,
   "metadata": {},
   "outputs": [],
   "source": [
    "#separando os dados de treino e teste\n",
    "y_b_train = y_b[:-100]\n",
    "y_b_test = y_b[-100:]"
   ]
  },
  {
   "cell_type": "code",
   "execution_count": 38,
   "metadata": {},
   "outputs": [],
   "source": [
    "#Instanciando e treinando um classificador com redes neurais\n",
    "model = MLPClassifier(hidden_layer_sizes=(100, 60, 20), activation='relu', max_iter=1000)\n",
    "model.fit(xtrain, y_b_train)\n",
    "pred = model.predict(xtest)"
   ]
  },
  {
   "cell_type": "code",
   "execution_count": 39,
   "metadata": {},
   "outputs": [
    {
     "data": {
      "text/plain": [
       "0.52"
      ]
     },
     "execution_count": 39,
     "metadata": {},
     "output_type": "execute_result"
    }
   ],
   "source": [
    "accuracy_score(y_true=y_b_test, y_pred=pred)"
   ]
  },
  {
   "cell_type": "code",
   "execution_count": 40,
   "metadata": {},
   "outputs": [],
   "source": [
    "# Utilizando outros atributos para classificação binária\n",
    "df_forecast2 = df.drop(columns=['Adj. Open','Adj. High','Adj. Low','Adj. Close'])"
   ]
  },
  {
   "cell_type": "code",
   "execution_count": 41,
   "metadata": {},
   "outputs": [],
   "source": [
    "df_forecast2 = df_forecast2.dropna()"
   ]
  },
  {
   "cell_type": "code",
   "execution_count": 42,
   "metadata": {},
   "outputs": [
    {
     "data": {
      "text/html": [
       "<div>\n",
       "<style scoped>\n",
       "    .dataframe tbody tr th:only-of-type {\n",
       "        vertical-align: middle;\n",
       "    }\n",
       "\n",
       "    .dataframe tbody tr th {\n",
       "        vertical-align: top;\n",
       "    }\n",
       "\n",
       "    .dataframe thead th {\n",
       "        text-align: right;\n",
       "    }\n",
       "</style>\n",
       "<table border=\"1\" class=\"dataframe\">\n",
       "  <thead>\n",
       "    <tr style=\"text-align: right;\">\n",
       "      <th></th>\n",
       "      <th>Adj. Volume</th>\n",
       "      <th>HL_PCT</th>\n",
       "      <th>PCT_change</th>\n",
       "      <th>Adj. Close Mean</th>\n",
       "      <th>Adj. Close_b</th>\n",
       "    </tr>\n",
       "    <tr>\n",
       "      <th>Date</th>\n",
       "      <th></th>\n",
       "      <th></th>\n",
       "      <th></th>\n",
       "      <th></th>\n",
       "      <th></th>\n",
       "    </tr>\n",
       "  </thead>\n",
       "  <tbody>\n",
       "    <tr>\n",
       "      <th>2004-08-26</th>\n",
       "      <td>7094800.0</td>\n",
       "      <td>0.037068</td>\n",
       "      <td>2.820391</td>\n",
       "      <td>53.233075</td>\n",
       "      <td>True</td>\n",
       "    </tr>\n",
       "    <tr>\n",
       "      <th>2004-08-27</th>\n",
       "      <td>6211700.0</td>\n",
       "      <td>2.326896</td>\n",
       "      <td>-1.803885</td>\n",
       "      <td>53.719159</td>\n",
       "      <td>False</td>\n",
       "    </tr>\n",
       "    <tr>\n",
       "      <th>2004-08-30</th>\n",
       "      <td>5196700.0</td>\n",
       "      <td>3.411430</td>\n",
       "      <td>-3.106003</td>\n",
       "      <td>53.192534</td>\n",
       "      <td>False</td>\n",
       "    </tr>\n",
       "    <tr>\n",
       "      <th>2004-08-31</th>\n",
       "      <td>4917800.0</td>\n",
       "      <td>1.308977</td>\n",
       "      <td>0.048866</td>\n",
       "      <td>52.604886</td>\n",
       "      <td>True</td>\n",
       "    </tr>\n",
       "    <tr>\n",
       "      <th>2004-09-01</th>\n",
       "      <td>9138200.0</td>\n",
       "      <td>2.713217</td>\n",
       "      <td>-2.385589</td>\n",
       "      <td>52.218694</td>\n",
       "      <td>False</td>\n",
       "    </tr>\n",
       "  </tbody>\n",
       "</table>\n",
       "</div>"
      ],
      "text/plain": [
       "            Adj. Volume    HL_PCT  PCT_change  Adj. Close Mean  Adj. Close_b\n",
       "Date                                                                        \n",
       "2004-08-26    7094800.0  0.037068    2.820391        53.233075          True\n",
       "2004-08-27    6211700.0  2.326896   -1.803885        53.719159         False\n",
       "2004-08-30    5196700.0  3.411430   -3.106003        53.192534         False\n",
       "2004-08-31    4917800.0  1.308977    0.048866        52.604886          True\n",
       "2004-09-01    9138200.0  2.713217   -2.385589        52.218694         False"
      ]
     },
     "execution_count": 42,
     "metadata": {},
     "output_type": "execute_result"
    }
   ],
   "source": [
    "df_forecast2.head()"
   ]
  },
  {
   "cell_type": "code",
   "execution_count": 43,
   "metadata": {},
   "outputs": [],
   "source": [
    "df_forecast2 = df_forecast2.asfreq(freq='B')"
   ]
  },
  {
   "cell_type": "code",
   "execution_count": 44,
   "metadata": {},
   "outputs": [
    {
     "data": {
      "text/plain": [
       "Adj. Volume        125\n",
       "HL_PCT             125\n",
       "PCT_change         125\n",
       "Adj. Close Mean    125\n",
       "Adj. Close_b       125\n",
       "dtype: int64"
      ]
     },
     "execution_count": 44,
     "metadata": {},
     "output_type": "execute_result"
    }
   ],
   "source": [
    "df_forecast2.isna().sum()"
   ]
  },
  {
   "cell_type": "code",
   "execution_count": 45,
   "metadata": {},
   "outputs": [],
   "source": [
    "df_forecast2 = df_forecast2.interpolate(method='linear')"
   ]
  },
  {
   "cell_type": "code",
   "execution_count": 46,
   "metadata": {},
   "outputs": [
    {
     "data": {
      "text/plain": [
       "Adj. Volume          0\n",
       "HL_PCT               0\n",
       "PCT_change           0\n",
       "Adj. Close Mean      0\n",
       "Adj. Close_b       125\n",
       "dtype: int64"
      ]
     },
     "execution_count": 46,
     "metadata": {},
     "output_type": "execute_result"
    }
   ],
   "source": [
    "df_forecast2.isna().sum()"
   ]
  },
  {
   "cell_type": "code",
   "execution_count": 47,
   "metadata": {},
   "outputs": [],
   "source": [
    "#df_forecast2['Adj. Close_b'] = df_forecast2['Adj. Close_b'].fillna(method='ffill')\n",
    "df_forecast2['Adj. Close_b'] = df_forecast2['PCT_change']>0"
   ]
  },
  {
   "cell_type": "code",
   "execution_count": 48,
   "metadata": {},
   "outputs": [
    {
     "data": {
      "text/plain": [
       "Adj. Volume        0\n",
       "HL_PCT             0\n",
       "PCT_change         0\n",
       "Adj. Close Mean    0\n",
       "Adj. Close_b       0\n",
       "dtype: int64"
      ]
     },
     "execution_count": 48,
     "metadata": {},
     "output_type": "execute_result"
    }
   ],
   "source": [
    "df_forecast2.isna().sum()"
   ]
  },
  {
   "cell_type": "code",
   "execution_count": 49,
   "metadata": {},
   "outputs": [
    {
     "data": {
      "text/html": [
       "<div>\n",
       "<style scoped>\n",
       "    .dataframe tbody tr th:only-of-type {\n",
       "        vertical-align: middle;\n",
       "    }\n",
       "\n",
       "    .dataframe tbody tr th {\n",
       "        vertical-align: top;\n",
       "    }\n",
       "\n",
       "    .dataframe thead th {\n",
       "        text-align: right;\n",
       "    }\n",
       "</style>\n",
       "<table border=\"1\" class=\"dataframe\">\n",
       "  <thead>\n",
       "    <tr style=\"text-align: right;\">\n",
       "      <th></th>\n",
       "      <th>Adj. Volume</th>\n",
       "      <th>HL_PCT</th>\n",
       "      <th>PCT_change</th>\n",
       "      <th>Adj. Close Mean</th>\n",
       "    </tr>\n",
       "  </thead>\n",
       "  <tbody>\n",
       "    <tr>\n",
       "      <th>count</th>\n",
       "      <td>3.544000e+03</td>\n",
       "      <td>3544.000000</td>\n",
       "      <td>3544.000000</td>\n",
       "      <td>3544.000000</td>\n",
       "    </tr>\n",
       "    <tr>\n",
       "      <th>mean</th>\n",
       "      <td>7.735866e+06</td>\n",
       "      <td>1.050439</td>\n",
       "      <td>-0.018040</td>\n",
       "      <td>409.130521</td>\n",
       "    </tr>\n",
       "    <tr>\n",
       "      <th>std</th>\n",
       "      <td>8.152645e+06</td>\n",
       "      <td>1.117016</td>\n",
       "      <td>1.482469</td>\n",
       "      <td>257.271658</td>\n",
       "    </tr>\n",
       "    <tr>\n",
       "      <th>min</th>\n",
       "      <td>5.211410e+05</td>\n",
       "      <td>0.000000</td>\n",
       "      <td>-9.179757</td>\n",
       "      <td>50.800984</td>\n",
       "    </tr>\n",
       "    <tr>\n",
       "      <th>25%</th>\n",
       "      <td>2.421575e+06</td>\n",
       "      <td>0.334835</td>\n",
       "      <td>-0.721288</td>\n",
       "      <td>231.451132</td>\n",
       "    </tr>\n",
       "    <tr>\n",
       "      <th>50%</th>\n",
       "      <td>5.032000e+06</td>\n",
       "      <td>0.723090</td>\n",
       "      <td>-0.014518</td>\n",
       "      <td>300.880456</td>\n",
       "    </tr>\n",
       "    <tr>\n",
       "      <th>75%</th>\n",
       "      <td>1.006080e+07</td>\n",
       "      <td>1.361922</td>\n",
       "      <td>0.750215</td>\n",
       "      <td>560.562083</td>\n",
       "    </tr>\n",
       "    <tr>\n",
       "      <th>max</th>\n",
       "      <td>8.215110e+07</td>\n",
       "      <td>11.157480</td>\n",
       "      <td>8.759770</td>\n",
       "      <td>1182.893333</td>\n",
       "    </tr>\n",
       "  </tbody>\n",
       "</table>\n",
       "</div>"
      ],
      "text/plain": [
       "        Adj. Volume       HL_PCT   PCT_change  Adj. Close Mean\n",
       "count  3.544000e+03  3544.000000  3544.000000      3544.000000\n",
       "mean   7.735866e+06     1.050439    -0.018040       409.130521\n",
       "std    8.152645e+06     1.117016     1.482469       257.271658\n",
       "min    5.211410e+05     0.000000    -9.179757        50.800984\n",
       "25%    2.421575e+06     0.334835    -0.721288       231.451132\n",
       "50%    5.032000e+06     0.723090    -0.014518       300.880456\n",
       "75%    1.006080e+07     1.361922     0.750215       560.562083\n",
       "max    8.215110e+07    11.157480     8.759770      1182.893333"
      ]
     },
     "execution_count": 49,
     "metadata": {},
     "output_type": "execute_result"
    }
   ],
   "source": [
    "#Como está a escala?\n",
    "df_forecast2.describe()"
   ]
  },
  {
   "cell_type": "code",
   "execution_count": 50,
   "metadata": {},
   "outputs": [],
   "source": [
    "#Resolvendo problema de escala\n",
    "colunas = ['Adj. Volume', 'HL_PCT', 'PCT_change', 'Adj. Close Mean']\n",
    "df_forecast2[colunas] = MinMaxScaler().fit_transform(df_forecast2[colunas])"
   ]
  },
  {
   "cell_type": "code",
   "execution_count": 51,
   "metadata": {},
   "outputs": [
    {
     "data": {
      "text/html": [
       "<div>\n",
       "<style scoped>\n",
       "    .dataframe tbody tr th:only-of-type {\n",
       "        vertical-align: middle;\n",
       "    }\n",
       "\n",
       "    .dataframe tbody tr th {\n",
       "        vertical-align: top;\n",
       "    }\n",
       "\n",
       "    .dataframe thead th {\n",
       "        text-align: right;\n",
       "    }\n",
       "</style>\n",
       "<table border=\"1\" class=\"dataframe\">\n",
       "  <thead>\n",
       "    <tr style=\"text-align: right;\">\n",
       "      <th></th>\n",
       "      <th>Adj. Volume</th>\n",
       "      <th>HL_PCT</th>\n",
       "      <th>PCT_change</th>\n",
       "      <th>Adj. Close Mean</th>\n",
       "      <th>Adj. Close_b</th>\n",
       "    </tr>\n",
       "    <tr>\n",
       "      <th>Date</th>\n",
       "      <th></th>\n",
       "      <th></th>\n",
       "      <th></th>\n",
       "      <th></th>\n",
       "      <th></th>\n",
       "    </tr>\n",
       "  </thead>\n",
       "  <tbody>\n",
       "    <tr>\n",
       "      <th>2004-08-26</th>\n",
       "      <td>0.080530</td>\n",
       "      <td>0.003322</td>\n",
       "      <td>0.668922</td>\n",
       "      <td>0.002148</td>\n",
       "      <td>True</td>\n",
       "    </tr>\n",
       "    <tr>\n",
       "      <th>2004-08-27</th>\n",
       "      <td>0.069712</td>\n",
       "      <td>0.208550</td>\n",
       "      <td>0.411152</td>\n",
       "      <td>0.002578</td>\n",
       "      <td>False</td>\n",
       "    </tr>\n",
       "    <tr>\n",
       "      <th>2004-08-30</th>\n",
       "      <td>0.057277</td>\n",
       "      <td>0.305753</td>\n",
       "      <td>0.338568</td>\n",
       "      <td>0.002113</td>\n",
       "      <td>False</td>\n",
       "    </tr>\n",
       "    <tr>\n",
       "      <th>2004-08-31</th>\n",
       "      <td>0.053861</td>\n",
       "      <td>0.117318</td>\n",
       "      <td>0.514430</td>\n",
       "      <td>0.001593</td>\n",
       "      <td>True</td>\n",
       "    </tr>\n",
       "    <tr>\n",
       "      <th>2004-09-01</th>\n",
       "      <td>0.105562</td>\n",
       "      <td>0.243175</td>\n",
       "      <td>0.378726</td>\n",
       "      <td>0.001252</td>\n",
       "      <td>False</td>\n",
       "    </tr>\n",
       "  </tbody>\n",
       "</table>\n",
       "</div>"
      ],
      "text/plain": [
       "            Adj. Volume    HL_PCT  PCT_change  Adj. Close Mean  Adj. Close_b\n",
       "Date                                                                        \n",
       "2004-08-26     0.080530  0.003322    0.668922         0.002148          True\n",
       "2004-08-27     0.069712  0.208550    0.411152         0.002578         False\n",
       "2004-08-30     0.057277  0.305753    0.338568         0.002113         False\n",
       "2004-08-31     0.053861  0.117318    0.514430         0.001593          True\n",
       "2004-09-01     0.105562  0.243175    0.378726         0.001252         False"
      ]
     },
     "execution_count": 51,
     "metadata": {},
     "output_type": "execute_result"
    }
   ],
   "source": [
    "df_forecast2.head()"
   ]
  },
  {
   "cell_type": "code",
   "execution_count": 52,
   "metadata": {},
   "outputs": [],
   "source": [
    "colunas = ['Adj. Volume', 'HL_PCT', 'PCT_change', 'Adj. Close Mean', 'Adj. Close_b']\n",
    "#Gerando lag para os últimos 5 dias\n",
    "for coluna in colunas:\n",
    "    for lag in range(1,5):\n",
    "        df_forecast2[coluna + ' t-' + str(lag)] = df_forecast2[coluna].shift(lag)"
   ]
  },
  {
   "cell_type": "code",
   "execution_count": 53,
   "metadata": {},
   "outputs": [],
   "source": [
    "#Removendo atributos do t-0\n",
    "df_forecast2 = df_forecast2.drop(columns=['Adj. Volume', 'HL_PCT', 'PCT_change', 'Adj. Close Mean'])"
   ]
  },
  {
   "cell_type": "code",
   "execution_count": 54,
   "metadata": {},
   "outputs": [],
   "source": [
    "#removendo dados faltantes\n",
    "df_forecast2 = df_forecast2.dropna()"
   ]
  },
  {
   "cell_type": "code",
   "execution_count": 55,
   "metadata": {},
   "outputs": [
    {
     "data": {
      "text/html": [
       "<div>\n",
       "<style scoped>\n",
       "    .dataframe tbody tr th:only-of-type {\n",
       "        vertical-align: middle;\n",
       "    }\n",
       "\n",
       "    .dataframe tbody tr th {\n",
       "        vertical-align: top;\n",
       "    }\n",
       "\n",
       "    .dataframe thead th {\n",
       "        text-align: right;\n",
       "    }\n",
       "</style>\n",
       "<table border=\"1\" class=\"dataframe\">\n",
       "  <thead>\n",
       "    <tr style=\"text-align: right;\">\n",
       "      <th></th>\n",
       "      <th>Adj. Close_b</th>\n",
       "      <th>Adj. Volume t-1</th>\n",
       "      <th>Adj. Volume t-2</th>\n",
       "      <th>Adj. Volume t-3</th>\n",
       "      <th>Adj. Volume t-4</th>\n",
       "      <th>HL_PCT t-1</th>\n",
       "      <th>HL_PCT t-2</th>\n",
       "      <th>HL_PCT t-3</th>\n",
       "      <th>HL_PCT t-4</th>\n",
       "      <th>PCT_change t-1</th>\n",
       "      <th>...</th>\n",
       "      <th>PCT_change t-3</th>\n",
       "      <th>PCT_change t-4</th>\n",
       "      <th>Adj. Close Mean t-1</th>\n",
       "      <th>Adj. Close Mean t-2</th>\n",
       "      <th>Adj. Close Mean t-3</th>\n",
       "      <th>Adj. Close Mean t-4</th>\n",
       "      <th>Adj. Close_b t-1</th>\n",
       "      <th>Adj. Close_b t-2</th>\n",
       "      <th>Adj. Close_b t-3</th>\n",
       "      <th>Adj. Close_b t-4</th>\n",
       "    </tr>\n",
       "    <tr>\n",
       "      <th>Date</th>\n",
       "      <th></th>\n",
       "      <th></th>\n",
       "      <th></th>\n",
       "      <th></th>\n",
       "      <th></th>\n",
       "      <th></th>\n",
       "      <th></th>\n",
       "      <th></th>\n",
       "      <th></th>\n",
       "      <th></th>\n",
       "      <th></th>\n",
       "      <th></th>\n",
       "      <th></th>\n",
       "      <th></th>\n",
       "      <th></th>\n",
       "      <th></th>\n",
       "      <th></th>\n",
       "      <th></th>\n",
       "      <th></th>\n",
       "      <th></th>\n",
       "      <th></th>\n",
       "    </tr>\n",
       "  </thead>\n",
       "  <tbody>\n",
       "    <tr>\n",
       "      <th>2004-09-01</th>\n",
       "      <td>False</td>\n",
       "      <td>0.053861</td>\n",
       "      <td>0.057277</td>\n",
       "      <td>0.069712</td>\n",
       "      <td>0.080530</td>\n",
       "      <td>0.117318</td>\n",
       "      <td>0.305753</td>\n",
       "      <td>0.208550</td>\n",
       "      <td>0.003322</td>\n",
       "      <td>0.514430</td>\n",
       "      <td>...</td>\n",
       "      <td>0.411152</td>\n",
       "      <td>0.668922</td>\n",
       "      <td>0.001593</td>\n",
       "      <td>0.002113</td>\n",
       "      <td>0.002578</td>\n",
       "      <td>0.002148</td>\n",
       "      <td>True</td>\n",
       "      <td>False</td>\n",
       "      <td>False</td>\n",
       "      <td>True</td>\n",
       "    </tr>\n",
       "    <tr>\n",
       "      <th>2004-09-02</th>\n",
       "      <td>True</td>\n",
       "      <td>0.105562</td>\n",
       "      <td>0.053861</td>\n",
       "      <td>0.057277</td>\n",
       "      <td>0.069712</td>\n",
       "      <td>0.243175</td>\n",
       "      <td>0.117318</td>\n",
       "      <td>0.305753</td>\n",
       "      <td>0.208550</td>\n",
       "      <td>0.378726</td>\n",
       "      <td>...</td>\n",
       "      <td>0.338568</td>\n",
       "      <td>0.411152</td>\n",
       "      <td>0.001252</td>\n",
       "      <td>0.001593</td>\n",
       "      <td>0.002113</td>\n",
       "      <td>0.002578</td>\n",
       "      <td>False</td>\n",
       "      <td>True</td>\n",
       "      <td>False</td>\n",
       "      <td>False</td>\n",
       "    </tr>\n",
       "    <tr>\n",
       "      <th>2004-09-03</th>\n",
       "      <td>False</td>\n",
       "      <td>0.178825</td>\n",
       "      <td>0.105562</td>\n",
       "      <td>0.053861</td>\n",
       "      <td>0.057277</td>\n",
       "      <td>0.075932</td>\n",
       "      <td>0.243175</td>\n",
       "      <td>0.117318</td>\n",
       "      <td>0.305753</td>\n",
       "      <td>0.647842</td>\n",
       "      <td>...</td>\n",
       "      <td>0.514430</td>\n",
       "      <td>0.338568</td>\n",
       "      <td>0.000921</td>\n",
       "      <td>0.001252</td>\n",
       "      <td>0.001593</td>\n",
       "      <td>0.002113</td>\n",
       "      <td>True</td>\n",
       "      <td>False</td>\n",
       "      <td>True</td>\n",
       "      <td>False</td>\n",
       "    </tr>\n",
       "    <tr>\n",
       "      <th>2004-09-06</th>\n",
       "      <td>False</td>\n",
       "      <td>0.056735</td>\n",
       "      <td>0.178825</td>\n",
       "      <td>0.105562</td>\n",
       "      <td>0.053861</td>\n",
       "      <td>0.155037</td>\n",
       "      <td>0.075932</td>\n",
       "      <td>0.243175</td>\n",
       "      <td>0.117318</td>\n",
       "      <td>0.459800</td>\n",
       "      <td>...</td>\n",
       "      <td>0.378726</td>\n",
       "      <td>0.514430</td>\n",
       "      <td>0.000337</td>\n",
       "      <td>0.000921</td>\n",
       "      <td>0.001252</td>\n",
       "      <td>0.001593</td>\n",
       "      <td>False</td>\n",
       "      <td>True</td>\n",
       "      <td>False</td>\n",
       "      <td>True</td>\n",
       "    </tr>\n",
       "    <tr>\n",
       "      <th>2004-09-07</th>\n",
       "      <td>True</td>\n",
       "      <td>0.060992</td>\n",
       "      <td>0.056735</td>\n",
       "      <td>0.178825</td>\n",
       "      <td>0.105562</td>\n",
       "      <td>0.096047</td>\n",
       "      <td>0.155037</td>\n",
       "      <td>0.075932</td>\n",
       "      <td>0.243175</td>\n",
       "      <td>0.501481</td>\n",
       "      <td>...</td>\n",
       "      <td>0.647842</td>\n",
       "      <td>0.378726</td>\n",
       "      <td>0.000169</td>\n",
       "      <td>0.000337</td>\n",
       "      <td>0.000921</td>\n",
       "      <td>0.001252</td>\n",
       "      <td>False</td>\n",
       "      <td>False</td>\n",
       "      <td>True</td>\n",
       "      <td>False</td>\n",
       "    </tr>\n",
       "  </tbody>\n",
       "</table>\n",
       "<p>5 rows × 21 columns</p>\n",
       "</div>"
      ],
      "text/plain": [
       "            Adj. Close_b  Adj. Volume t-1  Adj. Volume t-2  Adj. Volume t-3  \\\n",
       "Date                                                                          \n",
       "2004-09-01         False         0.053861         0.057277         0.069712   \n",
       "2004-09-02          True         0.105562         0.053861         0.057277   \n",
       "2004-09-03         False         0.178825         0.105562         0.053861   \n",
       "2004-09-06         False         0.056735         0.178825         0.105562   \n",
       "2004-09-07          True         0.060992         0.056735         0.178825   \n",
       "\n",
       "            Adj. Volume t-4  HL_PCT t-1  HL_PCT t-2  HL_PCT t-3  HL_PCT t-4  \\\n",
       "Date                                                                          \n",
       "2004-09-01         0.080530    0.117318    0.305753    0.208550    0.003322   \n",
       "2004-09-02         0.069712    0.243175    0.117318    0.305753    0.208550   \n",
       "2004-09-03         0.057277    0.075932    0.243175    0.117318    0.305753   \n",
       "2004-09-06         0.053861    0.155037    0.075932    0.243175    0.117318   \n",
       "2004-09-07         0.105562    0.096047    0.155037    0.075932    0.243175   \n",
       "\n",
       "            PCT_change t-1       ...         PCT_change t-3  PCT_change t-4  \\\n",
       "Date                             ...                                          \n",
       "2004-09-01        0.514430       ...               0.411152        0.668922   \n",
       "2004-09-02        0.378726       ...               0.338568        0.411152   \n",
       "2004-09-03        0.647842       ...               0.514430        0.338568   \n",
       "2004-09-06        0.459800       ...               0.378726        0.514430   \n",
       "2004-09-07        0.501481       ...               0.647842        0.378726   \n",
       "\n",
       "            Adj. Close Mean t-1  Adj. Close Mean t-2  Adj. Close Mean t-3  \\\n",
       "Date                                                                        \n",
       "2004-09-01             0.001593             0.002113             0.002578   \n",
       "2004-09-02             0.001252             0.001593             0.002113   \n",
       "2004-09-03             0.000921             0.001252             0.001593   \n",
       "2004-09-06             0.000337             0.000921             0.001252   \n",
       "2004-09-07             0.000169             0.000337             0.000921   \n",
       "\n",
       "            Adj. Close Mean t-4  Adj. Close_b t-1 Adj. Close_b t-2  \\\n",
       "Date                                                                 \n",
       "2004-09-01             0.002148              True            False   \n",
       "2004-09-02             0.002578             False             True   \n",
       "2004-09-03             0.002113              True            False   \n",
       "2004-09-06             0.001593             False             True   \n",
       "2004-09-07             0.001252             False            False   \n",
       "\n",
       "           Adj. Close_b t-3 Adj. Close_b t-4  \n",
       "Date                                          \n",
       "2004-09-01            False             True  \n",
       "2004-09-02            False            False  \n",
       "2004-09-03             True            False  \n",
       "2004-09-06            False             True  \n",
       "2004-09-07             True            False  \n",
       "\n",
       "[5 rows x 21 columns]"
      ]
     },
     "execution_count": 55,
     "metadata": {},
     "output_type": "execute_result"
    }
   ],
   "source": [
    "df_forecast2.head()"
   ]
  },
  {
   "cell_type": "code",
   "execution_count": 56,
   "metadata": {},
   "outputs": [],
   "source": [
    "#separando os dados de treino e teste\n",
    "x_train = df_forecast2.drop(columns=['Adj. Close_b'])[:-100]\n",
    "y_train = df_forecast2['Adj. Close_b'][:-100]\n",
    "\n",
    "x_test = df_forecast2.drop(columns=['Adj. Close_b'])[-100:]\n",
    "y_test = df_forecast2['Adj. Close_b'][-100:]"
   ]
  },
  {
   "cell_type": "code",
   "execution_count": 57,
   "metadata": {},
   "outputs": [
    {
     "data": {
      "text/plain": [
       "MLPClassifier(activation='relu', alpha=0.0001, batch_size='auto', beta_1=0.9,\n",
       "       beta_2=0.999, early_stopping=False, epsilon=1e-08,\n",
       "       hidden_layer_sizes=(100, 60, 20), learning_rate='constant',\n",
       "       learning_rate_init=0.001, max_iter=1000, momentum=0.9,\n",
       "       nesterovs_momentum=True, power_t=0.5, random_state=None,\n",
       "       shuffle=True, solver='adam', tol=0.0001, validation_fraction=0.1,\n",
       "       verbose=False, warm_start=False)"
      ]
     },
     "execution_count": 57,
     "metadata": {},
     "output_type": "execute_result"
    }
   ],
   "source": [
    "#Instanciando e treinando um classificador com redes neurais\n",
    "cls = MLPClassifier(hidden_layer_sizes=(100, 60, 20), max_iter=1000)\n",
    "cls.fit(x_train,y_train)"
   ]
  },
  {
   "cell_type": "code",
   "execution_count": 58,
   "metadata": {},
   "outputs": [],
   "source": [
    "pred = cls.predict(x_test)"
   ]
  },
  {
   "cell_type": "code",
   "execution_count": 59,
   "metadata": {},
   "outputs": [
    {
     "data": {
      "text/plain": [
       "0.54"
      ]
     },
     "execution_count": 59,
     "metadata": {},
     "output_type": "execute_result"
    }
   ],
   "source": [
    "accuracy_score(y_true=y_test, y_pred=pred)"
   ]
  }
 ],
 "metadata": {
  "kernelspec": {
   "display_name": "Python 3",
   "language": "python",
   "name": "python3"
  },
  "language_info": {
   "codemirror_mode": {
    "name": "ipython",
    "version": 3
   },
   "file_extension": ".py",
   "mimetype": "text/x-python",
   "name": "python",
   "nbconvert_exporter": "python",
   "pygments_lexer": "ipython3",
   "version": "3.6.4"
  }
 },
 "nbformat": 4,
 "nbformat_minor": 2
}
