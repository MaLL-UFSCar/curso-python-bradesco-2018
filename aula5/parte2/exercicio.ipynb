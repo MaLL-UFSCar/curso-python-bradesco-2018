{
 "cells": [
  {
   "cell_type": "code",
   "execution_count": 1,
   "metadata": {},
   "outputs": [],
   "source": [
    "import numpy as np\n",
    "import pandas as pd\n",
    "from sklearn.feature_extraction.text import TfidfVectorizer"
   ]
  },
  {
   "cell_type": "code",
   "execution_count": 2,
   "metadata": {},
   "outputs": [],
   "source": [
    "pets = pd.read_csv('seattle_pet_licenses.csv')\n",
    "pets['license_issue_date'] = pd.to_datetime(pets['license_issue_date'])\n",
    "adocoes = (pets.set_index('license_issue_date')\n",
    "               .sort_index()\n",
    "               .resample('7D')\n",
    "               .count()['species']\n",
    "               .asfreq('7D'))"
   ]
  },
  {
   "cell_type": "code",
   "execution_count": 4,
   "metadata": {},
   "outputs": [],
   "source": [
    "spam = (pd.read_csv('spam.csv', encoding='latin-1')\n",
    "        [['v1', 'v2']]\n",
    "        .rename({'v1': 'label', 'v2': 'mensagem'},\n",
    "                axis=1)\n",
    "       )\n",
    "spam_x = TfidfVectorizer().fit_transform(spam.mensagem).todense()\n",
    "spam_y = spam.label.values"
   ]
  },
  {
   "cell_type": "code",
   "execution_count": null,
   "metadata": {},
   "outputs": [],
   "source": []
  }
 ],
 "metadata": {
  "kernelspec": {
   "display_name": "Python 3",
   "language": "python",
   "name": "python3"
  },
  "language_info": {
   "codemirror_mode": {
    "name": "ipython",
    "version": 3
   },
   "file_extension": ".py",
   "mimetype": "text/x-python",
   "name": "python",
   "nbconvert_exporter": "python",
   "pygments_lexer": "ipython3",
   "version": "3.6.4"
  }
 },
 "nbformat": 4,
 "nbformat_minor": 2
}
